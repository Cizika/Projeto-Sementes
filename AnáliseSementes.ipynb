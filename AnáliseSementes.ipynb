{
  "nbformat": 4,
  "nbformat_minor": 0,
  "metadata": {
    "language_info": {
      "codemirror_mode": {
        "name": "ipython",
        "version": 3
      },
      "file_extension": ".py",
      "mimetype": "text/x-python",
      "name": "python",
      "nbconvert_exporter": "python",
      "pygments_lexer": "ipython3",
      "version": "3.8.8"
    },
    "orig_nbformat": 2,
    "kernelspec": {
      "name": "python388jvsc74a57bd05deb6b9f49f06a7079692bcab8a0ded9a37d2d947d61a0427fa5c30d36ef97fb",
      "display_name": "Python 3.8.8 64-bit ('base': conda)"
    },
    "metadata": {
      "interpreter": {
        "hash": "7e57122314a96cbf89961b11d283f7f09ca320ae5147a47caba2d0b065f51b02"
      }
    },
    "colab": {
      "name": "AnáliseSementes.ipynb",
      "provenance": [],
      "collapsed_sections": []
    }
  },
  "cells": [
    {
      "cell_type": "markdown",
      "metadata": {
        "id": "1rb_HXwr2tU0"
      },
      "source": [
        "# Projeto Sementes\n",
        "\n",
        "## Contextualização\n",
        "\n",
        "O projeto da disciplina FCD..."
      ]
    },
    {
      "cell_type": "markdown",
      "metadata": {
        "id": "kJpjWQqc3KsF"
      },
      "source": [
        "## Organização do Grupo\n",
        "\n",
        "*   *Gerente do Projeto*: Lucas\n",
        "*   *Documentação e Relatórios*: Lucas, Paloma e Vitor\n",
        "*   *Desenvolvimento e Análises*: Alexsander, Arthur e Lucas\n"
      ]
    },
    {
      "cell_type": "code",
      "metadata": {
        "id": "rgt7qBUz2rMf"
      },
      "source": [
        "#Importação de bibliotecas\n",
        "import pandas as pd"
      ],
      "execution_count": null,
      "outputs": []
    },
    {
      "cell_type": "code",
      "metadata": {
        "id": "Rcy5OSfH2rMj"
      },
      "source": [
        "#Coletando dados do Excel \"DadosGeminacao\"\n",
        "df = pd.read_csv(\"https://raw.githubusercontent.com/Cizika/Projeto-Sementes/master/Dados/DadosGerminacao.csv\", index_col=0, delimiter= \";\")"
      ],
      "execution_count": null,
      "outputs": []
    },
    {
      "cell_type": "code",
      "metadata": {
        "id": "db_PovJp2rMj",
        "colab": {
          "base_uri": "https://localhost:8080/",
          "height": 174
        },
        "outputId": "d70da902-83dc-46ac-a911-84fdb4787362"
      },
      "source": [
        "df"
      ],
      "execution_count": null,
      "outputs": [
        {
          "output_type": "execute_result",
          "data": {
            "text/html": [
              "<div>\n",
              "<style scoped>\n",
              "    .dataframe tbody tr th:only-of-type {\n",
              "        vertical-align: middle;\n",
              "    }\n",
              "\n",
              "    .dataframe tbody tr th {\n",
              "        vertical-align: top;\n",
              "    }\n",
              "\n",
              "    .dataframe thead th {\n",
              "        text-align: right;\n",
              "    }\n",
              "</style>\n",
              "<table border=\"1\" class=\"dataframe\">\n",
              "  <thead>\n",
              "    <tr style=\"text-align: right;\">\n",
              "      <th></th>\n",
              "      <th>0 Dias</th>\n",
              "      <th>5 Dias</th>\n",
              "      <th>10 Dias</th>\n",
              "      <th>15 Dias</th>\n",
              "    </tr>\n",
              "  </thead>\n",
              "  <tbody>\n",
              "    <tr>\n",
              "      <th>Controle</th>\n",
              "      <td>3</td>\n",
              "      <td>3</td>\n",
              "      <td>3</td>\n",
              "      <td>3</td>\n",
              "    </tr>\n",
              "    <tr>\n",
              "      <th>A</th>\n",
              "      <td>2</td>\n",
              "      <td>2</td>\n",
              "      <td>2</td>\n",
              "      <td>2</td>\n",
              "    </tr>\n",
              "    <tr>\n",
              "      <th>B</th>\n",
              "      <td>3</td>\n",
              "      <td>3</td>\n",
              "      <td>4</td>\n",
              "      <td>4</td>\n",
              "    </tr>\n",
              "    <tr>\n",
              "      <th>C</th>\n",
              "      <td>3</td>\n",
              "      <td>2</td>\n",
              "      <td>3</td>\n",
              "      <td>3</td>\n",
              "    </tr>\n",
              "  </tbody>\n",
              "</table>\n",
              "</div>"
            ],
            "text/plain": [
              "          0 Dias  5 Dias  10 Dias  15 Dias\n",
              "Controle       3       3        3        3\n",
              "A              2       2        2        2\n",
              "B              3       3        4        4\n",
              "C              3       2        3        3"
            ]
          },
          "metadata": {
            "tags": []
          },
          "execution_count": 4
        }
      ]
    },
    {
      "cell_type": "code",
      "metadata": {
        "id": "sk-V2nioZ0H8"
      },
      "source": [
        ""
      ],
      "execution_count": null,
      "outputs": []
    },
    {
      "cell_type": "markdown",
      "metadata": {
        "id": "LAQIzM2J4GN6"
      },
      "source": [
        "### Medidas Descritivas"
      ]
    },
    {
      "cell_type": "code",
      "metadata": {
        "id": "KmpGRKcn4AXH"
      },
      "source": [
        "# Calcular todas as medidas de posição, medidas de dispersão referentes ao projeto\n",
        "# Analisar os resultados\n",
        "# Responsável: Alexsander"
      ],
      "execution_count": null,
      "outputs": []
    },
    {
      "cell_type": "markdown",
      "metadata": {
        "id": "OvjCK6YK4iCa"
      },
      "source": [
        "### Gráficos"
      ]
    },
    {
      "cell_type": "code",
      "metadata": {
        "id": "da9LRszJ4ZZE"
      },
      "source": [
        "# Gerar e analisar gráficos de variáveis estratégicas (a discutir)\n",
        "# Responsável: Alexsander"
      ],
      "execution_count": null,
      "outputs": []
    },
    {
      "cell_type": "markdown",
      "metadata": {
        "id": "CHRybKiH47hx"
      },
      "source": [
        "### Incertezas e Comparações Estatísticas"
      ]
    },
    {
      "cell_type": "code",
      "metadata": {
        "id": "pXIViT0W5BMV"
      },
      "source": [
        "# Calcular os intervalos de confianças\n",
        "# Realizar Comparações estatísticas com base nesses intervalos\n",
        "# Analisar os resultados\n",
        "# Responsável: Arthur"
      ],
      "execution_count": null,
      "outputs": []
    },
    {
      "cell_type": "markdown",
      "metadata": {
        "id": "IvuDr0Dp50OH"
      },
      "source": [
        "### Segmentação de Dados"
      ]
    },
    {
      "cell_type": "code",
      "metadata": {
        "id": "Kz8DqgEt6YJP"
      },
      "source": [
        "# Gerar Tabelas de Frequência e Contigência\n",
        "# Gráficos dessas tabelas\n",
        "# Segmentar os dados (a discutir)\n",
        "# Analisar Resultados\n",
        "# Responsável: Alexsander"
      ],
      "execution_count": null,
      "outputs": []
    },
    {
      "cell_type": "code",
      "metadata": {
        "id": "dxj90nuER096"
      },
      "source": [
        ""
      ],
      "execution_count": null,
      "outputs": []
    }
  ]
}