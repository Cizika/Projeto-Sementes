{
  "nbformat": 4,
  "nbformat_minor": 0,
  "metadata": {
    "language_info": {
      "codemirror_mode": {
        "name": "ipython",
        "version": 3
      },
      "file_extension": ".py",
      "mimetype": "text/x-python",
      "name": "python",
      "nbconvert_exporter": "python",
      "pygments_lexer": "ipython3",
      "version": "3.8.8"
    },
    "orig_nbformat": 2,
    "kernelspec": {
      "name": "python388jvsc74a57bd05deb6b9f49f06a7079692bcab8a0ded9a37d2d947d61a0427fa5c30d36ef97fb",
      "display_name": "Python 3.8.8 64-bit ('base': conda)"
    },
    "metadata": {
      "interpreter": {
        "hash": "7e57122314a96cbf89961b11d283f7f09ca320ae5147a47caba2d0b065f51b02"
      }
    },
    "colab": {
      "name": "AnáliseSementes.ipynb",
      "provenance": [],
      "collapsed_sections": []
    }
  },
  "cells": [
    {
      "cell_type": "markdown",
      "metadata": {
        "id": "1rb_HXwr2tU0"
      },
      "source": [
        "# Projeto Sementes\n",
        "\n",
        "## Contextualização\n",
        "\n",
        "O projeto da disciplina FCD..."
      ]
    },
    {
      "cell_type": "markdown",
      "metadata": {
        "id": "kJpjWQqc3KsF"
      },
      "source": [
        "## Organização do Grupo\n",
        "\n",
        "*   *Gerente do Projeto*: Lucas\n",
        "*   *Documentação e Relatórios*: Lucas, Paloma e Vitor\n",
        "*   *Desenvolvimento e Análises*: Alexsander, Arthur e Lucas\n"
      ]
    },
    {
      "cell_type": "code",
      "metadata": {
        "id": "rgt7qBUz2rMf"
      },
      "source": [
        "#Importação de bibliotecas\n",
        "import pandas as pd\n",
        "import seaborn as sns\n",
        "import matplotlib.pyplot as plt"
      ],
      "execution_count": 1,
      "outputs": []
    },
    {
      "cell_type": "code",
      "metadata": {
        "id": "Rcy5OSfH2rMj"
      },
      "source": [
        "#Coletando dados do Excel \"DadosGeminacao\"\n",
        "df = pd.read_csv(\"https://raw.githubusercontent.com/Cizika/Projeto-Sementes/master/Dados/DadosGerminacao.csv\", index_col=0, delimiter= \";\")"
      ],
      "execution_count": 2,
      "outputs": []
    },
    {
      "cell_type": "code",
      "metadata": {
        "id": "db_PovJp2rMj",
        "colab": {
          "base_uri": "https://localhost:8080/",
          "height": 173
        },
        "outputId": "778a9fac-2733-43ee-fd32-5fdd9ca56ed6"
      },
      "source": [
        "df"
      ],
      "execution_count": 3,
      "outputs": [
        {
          "output_type": "execute_result",
          "data": {
            "text/html": [
              "<div>\n",
              "<style scoped>\n",
              "    .dataframe tbody tr th:only-of-type {\n",
              "        vertical-align: middle;\n",
              "    }\n",
              "\n",
              "    .dataframe tbody tr th {\n",
              "        vertical-align: top;\n",
              "    }\n",
              "\n",
              "    .dataframe thead th {\n",
              "        text-align: right;\n",
              "    }\n",
              "</style>\n",
              "<table border=\"1\" class=\"dataframe\">\n",
              "  <thead>\n",
              "    <tr style=\"text-align: right;\">\n",
              "      <th></th>\n",
              "      <th>0 Dias</th>\n",
              "      <th>5 Dias</th>\n",
              "      <th>10 Dias</th>\n",
              "      <th>15 Dias</th>\n",
              "    </tr>\n",
              "  </thead>\n",
              "  <tbody>\n",
              "    <tr>\n",
              "      <th>Controle</th>\n",
              "      <td>3</td>\n",
              "      <td>3</td>\n",
              "      <td>3</td>\n",
              "      <td>3</td>\n",
              "    </tr>\n",
              "    <tr>\n",
              "      <th>A</th>\n",
              "      <td>2</td>\n",
              "      <td>2</td>\n",
              "      <td>2</td>\n",
              "      <td>2</td>\n",
              "    </tr>\n",
              "    <tr>\n",
              "      <th>B</th>\n",
              "      <td>3</td>\n",
              "      <td>3</td>\n",
              "      <td>4</td>\n",
              "      <td>4</td>\n",
              "    </tr>\n",
              "    <tr>\n",
              "      <th>C</th>\n",
              "      <td>3</td>\n",
              "      <td>2</td>\n",
              "      <td>3</td>\n",
              "      <td>3</td>\n",
              "    </tr>\n",
              "  </tbody>\n",
              "</table>\n",
              "</div>"
            ],
            "text/plain": [
              "          0 Dias  5 Dias  10 Dias  15 Dias\n",
              "Controle       3       3        3        3\n",
              "A              2       2        2        2\n",
              "B              3       3        4        4\n",
              "C              3       2        3        3"
            ]
          },
          "metadata": {
            "tags": []
          },
          "execution_count": 3
        }
      ]
    },
    {
      "cell_type": "code",
      "metadata": {
        "id": "sk-V2nioZ0H8"
      },
      "source": [
        "df_proporcao = df.apply(lambda x: 100 * x/4)"
      ],
      "execution_count": 4,
      "outputs": []
    },
    {
      "cell_type": "code",
      "metadata": {
        "id": "WANvY9VUhYWN",
        "colab": {
          "base_uri": "https://localhost:8080/",
          "height": 173
        },
        "outputId": "509ee222-6add-4939-dfd1-73a1c7a6fca8"
      },
      "source": [
        "df_proporcao\n"
      ],
      "execution_count": 5,
      "outputs": [
        {
          "output_type": "execute_result",
          "data": {
            "text/html": [
              "<div>\n",
              "<style scoped>\n",
              "    .dataframe tbody tr th:only-of-type {\n",
              "        vertical-align: middle;\n",
              "    }\n",
              "\n",
              "    .dataframe tbody tr th {\n",
              "        vertical-align: top;\n",
              "    }\n",
              "\n",
              "    .dataframe thead th {\n",
              "        text-align: right;\n",
              "    }\n",
              "</style>\n",
              "<table border=\"1\" class=\"dataframe\">\n",
              "  <thead>\n",
              "    <tr style=\"text-align: right;\">\n",
              "      <th></th>\n",
              "      <th>0 Dias</th>\n",
              "      <th>5 Dias</th>\n",
              "      <th>10 Dias</th>\n",
              "      <th>15 Dias</th>\n",
              "    </tr>\n",
              "  </thead>\n",
              "  <tbody>\n",
              "    <tr>\n",
              "      <th>Controle</th>\n",
              "      <td>75.0</td>\n",
              "      <td>75.0</td>\n",
              "      <td>75.0</td>\n",
              "      <td>75.0</td>\n",
              "    </tr>\n",
              "    <tr>\n",
              "      <th>A</th>\n",
              "      <td>50.0</td>\n",
              "      <td>50.0</td>\n",
              "      <td>50.0</td>\n",
              "      <td>50.0</td>\n",
              "    </tr>\n",
              "    <tr>\n",
              "      <th>B</th>\n",
              "      <td>75.0</td>\n",
              "      <td>75.0</td>\n",
              "      <td>100.0</td>\n",
              "      <td>100.0</td>\n",
              "    </tr>\n",
              "    <tr>\n",
              "      <th>C</th>\n",
              "      <td>75.0</td>\n",
              "      <td>50.0</td>\n",
              "      <td>75.0</td>\n",
              "      <td>75.0</td>\n",
              "    </tr>\n",
              "  </tbody>\n",
              "</table>\n",
              "</div>"
            ],
            "text/plain": [
              "          0 Dias  5 Dias  10 Dias  15 Dias\n",
              "Controle    75.0    75.0     75.0     75.0\n",
              "A           50.0    50.0     50.0     50.0\n",
              "B           75.0    75.0    100.0    100.0\n",
              "C           75.0    50.0     75.0     75.0"
            ]
          },
          "metadata": {
            "tags": []
          },
          "execution_count": 5
        }
      ]
    },
    {
      "cell_type": "code",
      "metadata": {
        "id": "ug1dC_EZGF4k"
      },
      "source": [
        "dfg = pd.DataFrame(columns = ['Dia', 'Semente','Porcentagem'])\n",
        "i = 0\n",
        "for index, row in df_proporcao.iterrows():\n",
        "  dfg.loc[i] = ['0', index, row['0 Dias']]\n",
        "  dfg.loc[i+1] = ['5', index, row['5 Dias']]\n",
        "  dfg.loc[i+2] = ['10', index, row['10 Dias']]\n",
        "  dfg.loc[i+3] = ['15', index, row['15 Dias']]\n",
        "  i = i + 4\n"
      ],
      "execution_count": 6,
      "outputs": []
    },
    {
      "cell_type": "code",
      "metadata": {
        "id": "Gfq4_NCDSswQ"
      },
      "source": [
        "dfc = pd.DataFrame(columns = ['Dia', 'Semente','Quantidade'])\n",
        "i = 0\n",
        "for index, row in df.iterrows():\n",
        "  dfc.loc[i] = [0, index, row['0 Dias']]\n",
        "  dfc.loc[i+1] = [5, index, row['5 Dias']]\n",
        "  dfc.loc[i+2] = [10, index, row['10 Dias']]\n",
        "  dfc.loc[i+3] = [15, index, row['15 Dias']]\n",
        "  i = i + 4"
      ],
      "execution_count": 7,
      "outputs": []
    },
    {
      "cell_type": "markdown",
      "metadata": {
        "id": "LAQIzM2J4GN6"
      },
      "source": [
        "### Medidas Descritivas"
      ]
    },
    {
      "cell_type": "code",
      "metadata": {
        "id": "KmpGRKcn4AXH",
        "colab": {
          "base_uri": "https://localhost:8080/",
          "height": 297
        },
        "outputId": "541a41ec-b24c-4ee3-b331-2e48fd300907"
      },
      "source": [
        "# Calcular todas as medidas de posição, medidas de dispersão referentes ao projeto\n",
        "# Analisar os resultados\n",
        "# Responsável: Alexsander\n",
        "def coef_var(table):\n",
        "    return 100*table.std()/table.mean()\n",
        "def amplitude(table):\n",
        "    return table.max() - table.min()\n",
        "\n",
        "df_proporcao.agg([\"min\",\"max\",\"mean\",\"median\",\"std\",\"var\",coef_var,amplitude])"
      ],
      "execution_count": 8,
      "outputs": [
        {
          "output_type": "execute_result",
          "data": {
            "text/html": [
              "<div>\n",
              "<style scoped>\n",
              "    .dataframe tbody tr th:only-of-type {\n",
              "        vertical-align: middle;\n",
              "    }\n",
              "\n",
              "    .dataframe tbody tr th {\n",
              "        vertical-align: top;\n",
              "    }\n",
              "\n",
              "    .dataframe thead th {\n",
              "        text-align: right;\n",
              "    }\n",
              "</style>\n",
              "<table border=\"1\" class=\"dataframe\">\n",
              "  <thead>\n",
              "    <tr style=\"text-align: right;\">\n",
              "      <th></th>\n",
              "      <th>0 Dias</th>\n",
              "      <th>5 Dias</th>\n",
              "      <th>10 Dias</th>\n",
              "      <th>15 Dias</th>\n",
              "    </tr>\n",
              "  </thead>\n",
              "  <tbody>\n",
              "    <tr>\n",
              "      <th>min</th>\n",
              "      <td>50.000000</td>\n",
              "      <td>50.000000</td>\n",
              "      <td>50.000000</td>\n",
              "      <td>50.000000</td>\n",
              "    </tr>\n",
              "    <tr>\n",
              "      <th>max</th>\n",
              "      <td>75.000000</td>\n",
              "      <td>75.000000</td>\n",
              "      <td>100.000000</td>\n",
              "      <td>100.000000</td>\n",
              "    </tr>\n",
              "    <tr>\n",
              "      <th>mean</th>\n",
              "      <td>68.750000</td>\n",
              "      <td>62.500000</td>\n",
              "      <td>75.000000</td>\n",
              "      <td>75.000000</td>\n",
              "    </tr>\n",
              "    <tr>\n",
              "      <th>median</th>\n",
              "      <td>75.000000</td>\n",
              "      <td>62.500000</td>\n",
              "      <td>75.000000</td>\n",
              "      <td>75.000000</td>\n",
              "    </tr>\n",
              "    <tr>\n",
              "      <th>std</th>\n",
              "      <td>12.500000</td>\n",
              "      <td>14.433757</td>\n",
              "      <td>20.412415</td>\n",
              "      <td>20.412415</td>\n",
              "    </tr>\n",
              "    <tr>\n",
              "      <th>var</th>\n",
              "      <td>156.250000</td>\n",
              "      <td>208.333333</td>\n",
              "      <td>416.666667</td>\n",
              "      <td>416.666667</td>\n",
              "    </tr>\n",
              "    <tr>\n",
              "      <th>coef_var</th>\n",
              "      <td>18.181818</td>\n",
              "      <td>23.094011</td>\n",
              "      <td>27.216553</td>\n",
              "      <td>27.216553</td>\n",
              "    </tr>\n",
              "    <tr>\n",
              "      <th>amplitude</th>\n",
              "      <td>25.000000</td>\n",
              "      <td>25.000000</td>\n",
              "      <td>50.000000</td>\n",
              "      <td>50.000000</td>\n",
              "    </tr>\n",
              "  </tbody>\n",
              "</table>\n",
              "</div>"
            ],
            "text/plain": [
              "               0 Dias      5 Dias     10 Dias     15 Dias\n",
              "min         50.000000   50.000000   50.000000   50.000000\n",
              "max         75.000000   75.000000  100.000000  100.000000\n",
              "mean        68.750000   62.500000   75.000000   75.000000\n",
              "median      75.000000   62.500000   75.000000   75.000000\n",
              "std         12.500000   14.433757   20.412415   20.412415\n",
              "var        156.250000  208.333333  416.666667  416.666667\n",
              "coef_var    18.181818   23.094011   27.216553   27.216553\n",
              "amplitude   25.000000   25.000000   50.000000   50.000000"
            ]
          },
          "metadata": {
            "tags": []
          },
          "execution_count": 8
        }
      ]
    },
    {
      "cell_type": "markdown",
      "metadata": {
        "id": "OvjCK6YK4iCa"
      },
      "source": [
        "### Gráficos"
      ]
    },
    {
      "cell_type": "code",
      "metadata": {
        "id": "da9LRszJ4ZZE",
        "colab": {
          "base_uri": "https://localhost:8080/",
          "height": 752
        },
        "outputId": "361c8150-fad9-4cb5-da66-3281113b77b5"
      },
      "source": [
        "# Gerar e analisar gráficos de variáveis estratégicas (a discutir)\n",
        "# Responsável: Alexsander\n",
        "\n",
        "sns.catplot(kind=\"bar\",x='Dia', y='Porcentagem', hue='Semente', data=dfg)\n",
        "sns.catplot(kind=\"box\", data=df_proporcao)"
      ],
      "execution_count": 9,
      "outputs": [
        {
          "output_type": "execute_result",
          "data": {
            "text/plain": [
              "<seaborn.axisgrid.FacetGrid at 0x7fe7e4581c50>"
            ]
          },
          "metadata": {
            "tags": []
          },
          "execution_count": 9
        },
        {
          "output_type": "display_data",
          "data": {
            "image/png": "[encoded data removed]",
            "text/plain": [
              "<Figure size 438x360 with 1 Axes>"
            ]
          },
          "metadata": {
            "tags": [],
            "needs_background": "light"
          }
        },
        {
          "output_type": "display_data",
          "data": {
            "image/png": "[encoded data removed]",
            "text/plain": [
              "<Figure size 360x360 with 1 Axes>"
            ]
          },
          "metadata": {
            "tags": [],
            "needs_background": "light"
          }
        }
      ]
    },
    {
      "cell_type": "markdown",
      "metadata": {
        "id": "CHRybKiH47hx"
      },
      "source": [
        "### Incertezas e Comparações Estatísticas"
      ]
    },
    {
      "cell_type": "code",
      "metadata": {
        "id": "pXIViT0W5BMV"
      },
      "source": [
        "# Calcular os intervalos de confianças\n",
        "# Realizar Comparações estatísticas com base nesses intervalos\n",
        "# Analisar os resultados\n",
        "# Responsável: Arthur"
      ],
      "execution_count": 10,
      "outputs": []
    },
    {
      "cell_type": "markdown",
      "metadata": {
        "id": "IvuDr0Dp50OH"
      },
      "source": [
        "### Segmentação de Dados"
      ]
    },
    {
      "cell_type": "code",
      "metadata": {
        "id": "Kz8DqgEt6YJP",
        "colab": {
          "base_uri": "https://localhost:8080/",
          "height": 173
        },
        "outputId": "83119201-04aa-476b-c3a7-f5acb771db81"
      },
      "source": [
        "# Gerar Tabelas de Frequência e Contigência\n",
        "# Gráficos dessas tabelas\n",
        "# Segmentar os dados (a discutir)\n",
        "# Analisar Resultados\n",
        "# Responsável: Alexsander\n",
        "dfs = dfc.groupby(['Dia','Semente']).max().unstack(0)\n",
        "fsem = pd.DataFrame(columns = ['Porcentagem'])\n",
        "total = 0\n",
        "for index, row in dfs.iterrows():\n",
        "  fsem.loc[index] = [100*row.sum()]\n",
        "  total = total + row.sum()\n",
        "fsem = fsem/total\n",
        "fsem.head()\n",
        "\n"
      ],
      "execution_count": 11,
      "outputs": [
        {
          "output_type": "execute_result",
          "data": {
            "text/html": [
              "<div>\n",
              "<style scoped>\n",
              "    .dataframe tbody tr th:only-of-type {\n",
              "        vertical-align: middle;\n",
              "    }\n",
              "\n",
              "    .dataframe tbody tr th {\n",
              "        vertical-align: top;\n",
              "    }\n",
              "\n",
              "    .dataframe thead th {\n",
              "        text-align: right;\n",
              "    }\n",
              "</style>\n",
              "<table border=\"1\" class=\"dataframe\">\n",
              "  <thead>\n",
              "    <tr style=\"text-align: right;\">\n",
              "      <th></th>\n",
              "      <th>Porcentagem</th>\n",
              "    </tr>\n",
              "  </thead>\n",
              "  <tbody>\n",
              "    <tr>\n",
              "      <th>A</th>\n",
              "      <td>17.7778</td>\n",
              "    </tr>\n",
              "    <tr>\n",
              "      <th>B</th>\n",
              "      <td>31.1111</td>\n",
              "    </tr>\n",
              "    <tr>\n",
              "      <th>C</th>\n",
              "      <td>24.4444</td>\n",
              "    </tr>\n",
              "    <tr>\n",
              "      <th>Controle</th>\n",
              "      <td>26.6667</td>\n",
              "    </tr>\n",
              "  </tbody>\n",
              "</table>\n",
              "</div>"
            ],
            "text/plain": [
              "         Porcentagem\n",
              "A            17.7778\n",
              "B            31.1111\n",
              "C            24.4444\n",
              "Controle     26.6667"
            ]
          },
          "metadata": {
            "tags": []
          },
          "execution_count": 11
        }
      ]
    },
    {
      "cell_type": "code",
      "metadata": {
        "colab": {
          "base_uri": "https://localhost:8080/",
          "height": 248
        },
        "id": "hnm-Ajh_7-Fw",
        "outputId": "ca20f967-de6b-4a87-8674-e46d20ebe0f1"
      },
      "source": [
        "fsem.plot.pie(autopct=\"%.1f%%\",subplots = True);\n"
      ],
      "execution_count": 12,
      "outputs": [
        {
          "output_type": "display_data",
          "data": {
            "image/png": "[encoded data removed]",
            "text/plain": [
              "<Figure size 432x288 with 1 Axes>"
            ]
          },
          "metadata": {
            "tags": []
          }
        }
      ]
    },
    {
      "cell_type": "code",
      "metadata": {
        "id": "D5WulXoe8_2B"
      },
      "source": [
        "dfs.loc['Total'] = dfs.sum()\n",
        "dfs = dfs.stack(1)\n",
        "dfs = dfs.unstack(0)"
      ],
      "execution_count": 13,
      "outputs": []
    },
    {
      "cell_type": "code",
      "metadata": {
        "colab": {
          "base_uri": "https://localhost:8080/",
          "height": 173
        },
        "id": "qsoSpW-U8BK_",
        "outputId": "c9ee7031-9780-4e8e-bd75-9cddcc299981"
      },
      "source": [
        "total = 0\n",
        "fdias = pd.DataFrame(columns = ['Porcentagem'])\n",
        "for index, row in dfs.iterrows():\n",
        "  if(index!='Total'):\n",
        "    fdias.loc[index] = [100*row.sum()]\n",
        "    total = total + row.sum()\n",
        "fdias = fdias/total\n",
        "fdias.head(4)"
      ],
      "execution_count": 14,
      "outputs": [
        {
          "output_type": "execute_result",
          "data": {
            "text/html": [
              "<div>\n",
              "<style scoped>\n",
              "    .dataframe tbody tr th:only-of-type {\n",
              "        vertical-align: middle;\n",
              "    }\n",
              "\n",
              "    .dataframe tbody tr th {\n",
              "        vertical-align: top;\n",
              "    }\n",
              "\n",
              "    .dataframe thead th {\n",
              "        text-align: right;\n",
              "    }\n",
              "</style>\n",
              "<table border=\"1\" class=\"dataframe\">\n",
              "  <thead>\n",
              "    <tr style=\"text-align: right;\">\n",
              "      <th></th>\n",
              "      <th>Porcentagem</th>\n",
              "    </tr>\n",
              "  </thead>\n",
              "  <tbody>\n",
              "    <tr>\n",
              "      <th>0</th>\n",
              "      <td>24.4444</td>\n",
              "    </tr>\n",
              "    <tr>\n",
              "      <th>5</th>\n",
              "      <td>22.2222</td>\n",
              "    </tr>\n",
              "    <tr>\n",
              "      <th>10</th>\n",
              "      <td>26.6667</td>\n",
              "    </tr>\n",
              "    <tr>\n",
              "      <th>15</th>\n",
              "      <td>26.6667</td>\n",
              "    </tr>\n",
              "  </tbody>\n",
              "</table>\n",
              "</div>"
            ],
            "text/plain": [
              "   Porcentagem\n",
              "0      24.4444\n",
              "5      22.2222\n",
              "10     26.6667\n",
              "15     26.6667"
            ]
          },
          "metadata": {
            "tags": []
          },
          "execution_count": 14
        }
      ]
    },
    {
      "cell_type": "code",
      "metadata": {
        "colab": {
          "base_uri": "https://localhost:8080/",
          "height": 248
        },
        "id": "7c_5RTsI9i-w",
        "outputId": "c72f6682-8bc6-4d34-ad30-becc2d2b9b1b"
      },
      "source": [
        "fdias.plot.pie(autopct=\"%.1f%%\",subplots = True);"
      ],
      "execution_count": 15,
      "outputs": [
        {
          "output_type": "display_data",
          "data": {
            "image/png": "[encoded data removed]",
            "text/plain": [
              "<Figure size 432x288 with 1 Axes>"
            ]
          },
          "metadata": {
            "tags": []
          }
        }
      ]
    },
    {
      "cell_type": "code",
      "metadata": {
        "id": "x_718gwn9X_x"
      },
      "source": [
        "dfs.loc['Total'] = dfs.sum()\n",
        "dfs = dfs.stack(1)\n",
        "dfs = dfs.unstack(0)"
      ],
      "execution_count": 16,
      "outputs": []
    },
    {
      "cell_type": "code",
      "metadata": {
        "id": "4h04CXes739v"
      },
      "source": [
        ""
      ],
      "execution_count": 16,
      "outputs": []
    },
    {
      "cell_type": "code",
      "metadata": {
        "colab": {
          "base_uri": "https://localhost:8080/",
          "height": 266
        },
        "id": "wDm417G07yfJ",
        "outputId": "5386fec0-b444-4229-e84a-655541ea39d6"
      },
      "source": [
        "dfs.head()"
      ],
      "execution_count": 17,
      "outputs": [
        {
          "output_type": "execute_result",
          "data": {
            "text/html": [
              "<div>\n",
              "<style scoped>\n",
              "    .dataframe tbody tr th:only-of-type {\n",
              "        vertical-align: middle;\n",
              "    }\n",
              "\n",
              "    .dataframe tbody tr th {\n",
              "        vertical-align: top;\n",
              "    }\n",
              "\n",
              "    .dataframe thead tr th {\n",
              "        text-align: left;\n",
              "    }\n",
              "\n",
              "    .dataframe thead tr:last-of-type th {\n",
              "        text-align: right;\n",
              "    }\n",
              "</style>\n",
              "<table border=\"1\" class=\"dataframe\">\n",
              "  <thead>\n",
              "    <tr>\n",
              "      <th></th>\n",
              "      <th colspan=\"5\" halign=\"left\">Quantidade</th>\n",
              "    </tr>\n",
              "    <tr>\n",
              "      <th>Dia</th>\n",
              "      <th>0</th>\n",
              "      <th>5</th>\n",
              "      <th>10</th>\n",
              "      <th>15</th>\n",
              "      <th>Total</th>\n",
              "    </tr>\n",
              "    <tr>\n",
              "      <th>Semente</th>\n",
              "      <th></th>\n",
              "      <th></th>\n",
              "      <th></th>\n",
              "      <th></th>\n",
              "      <th></th>\n",
              "    </tr>\n",
              "  </thead>\n",
              "  <tbody>\n",
              "    <tr>\n",
              "      <th>A</th>\n",
              "      <td>2</td>\n",
              "      <td>2</td>\n",
              "      <td>2</td>\n",
              "      <td>2</td>\n",
              "      <td>8</td>\n",
              "    </tr>\n",
              "    <tr>\n",
              "      <th>B</th>\n",
              "      <td>3</td>\n",
              "      <td>3</td>\n",
              "      <td>4</td>\n",
              "      <td>4</td>\n",
              "      <td>14</td>\n",
              "    </tr>\n",
              "    <tr>\n",
              "      <th>C</th>\n",
              "      <td>3</td>\n",
              "      <td>2</td>\n",
              "      <td>3</td>\n",
              "      <td>3</td>\n",
              "      <td>11</td>\n",
              "    </tr>\n",
              "    <tr>\n",
              "      <th>Controle</th>\n",
              "      <td>3</td>\n",
              "      <td>3</td>\n",
              "      <td>3</td>\n",
              "      <td>3</td>\n",
              "      <td>12</td>\n",
              "    </tr>\n",
              "    <tr>\n",
              "      <th>Total</th>\n",
              "      <td>11</td>\n",
              "      <td>10</td>\n",
              "      <td>12</td>\n",
              "      <td>12</td>\n",
              "      <td>45</td>\n",
              "    </tr>\n",
              "  </tbody>\n",
              "</table>\n",
              "</div>"
            ],
            "text/plain": [
              "         Quantidade                  \n",
              "Dia               0   5  10  15 Total\n",
              "Semente                              \n",
              "A                 2   2   2   2     8\n",
              "B                 3   3   4   4    14\n",
              "C                 3   2   3   3    11\n",
              "Controle          3   3   3   3    12\n",
              "Total            11  10  12  12    45"
            ]
          },
          "metadata": {
            "tags": []
          },
          "execution_count": 17
        }
      ]
    },
    {
      "cell_type": "code",
      "metadata": {
        "colab": {
          "base_uri": "https://localhost:8080/",
          "height": 296
        },
        "id": "__ESXIlXWUrH",
        "outputId": "1df4d827-493a-474f-a5b5-e8b13a061908"
      },
      "source": [
        "sns.barplot(x=\"Dia\",y='Quantidade', hue=\"Semente\", data=dfc)"
      ],
      "execution_count": 18,
      "outputs": [
        {
          "output_type": "execute_result",
          "data": {
            "text/plain": [
              "<matplotlib.axes._subplots.AxesSubplot at 0x7fe7dad6ee50>"
            ]
          },
          "metadata": {
            "tags": []
          },
          "execution_count": 18
        },
        {
          "output_type": "display_data",
          "data": {
            "image/png": "[encoded data removed]",
            "text/plain": [
              "<Figure size 432x288 with 1 Axes>"
            ]
          },
          "metadata": {
            "tags": [],
            "needs_background": "light"
          }
        }
      ]
    },
    {
      "cell_type": "code",
      "metadata": {
        "id": "dxj90nuER096"
      },
      "source": [
        ""
      ],
      "execution_count": 18,
      "outputs": []
    }
  ]
}