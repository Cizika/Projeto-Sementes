{
  "nbformat": 4,
  "nbformat_minor": 0,
  "metadata": {
    "language_info": {
      "codemirror_mode": {
        "name": "ipython",
        "version": 3
      },
      "file_extension": ".py",
      "mimetype": "text/x-python",
      "name": "python",
      "nbconvert_exporter": "python",
      "pygments_lexer": "ipython3",
      "version": "3.8.8"
    },
    "orig_nbformat": 2,
    "kernelspec": {
      "name": "python388jvsc74a57bd05deb6b9f49f06a7079692bcab8a0ded9a37d2d947d61a0427fa5c30d36ef97fb",
      "display_name": "Python 3.8.8 64-bit ('base': conda)"
    },
    "metadata": {
      "interpreter": {
        "hash": "7e57122314a96cbf89961b11d283f7f09ca320ae5147a47caba2d0b065f51b02"
      }
    },
    "colab": {
      "name": "AnáliseSementes.ipynb",
      "provenance": [],
      "collapsed_sections": [
        "LAQIzM2J4GN6",
        "OvjCK6YK4iCa",
        "CHRybKiH47hx",
        "IvuDr0Dp50OH"
      ]
    }
  },
  "cells": [
    {
      "cell_type": "markdown",
      "metadata": {
        "id": "1rb_HXwr2tU0"
      },
      "source": [
        "# Projeto Sementes"
      ]
    },
    {
      "cell_type": "markdown",
      "metadata": {
        "id": "VTSxYWNdGmBY"
      },
      "source": [
        "## Contextualização\n",
        "\n",
        "A cultura da soja (Glycine Max), durante todo o seu ciclo, está sujeita ao ataque de diferentes insetos-praga. A ação destes insetos-praga de solo pode causar falhas na lavoura na implantação da cultura, devido a eles se alimentarem: das sementes após a semeadura, de raízes após a germinação e da parte aérea das plântulas após a emergência, isso, na fase em que a planta em formação está mais suscetível a danos e morte.\n",
        "\n",
        "O tratamento das sementes é considerado o método mais eficiente no controle de pragas incidentes, durante o desenvolvimento inicial das culturas agrícolas. Além disso, resultados de pesquisas têm evidenciado que alguns produtos, quando aplicados sozinhos e/ou em combinação com outros, podem, em determinadas situações, ocasionar redução na germinação das sementes, e também, na sobrevivência das plântulas, devido ao efeito de fitotoxicidade.\n",
        "\n",
        "O uso preventivo de agroquímicos no tratamento de sementes é uma alternativa para evitar possíveis perdas decorrentes das ações de pragas de solo e da parte aérea. Essa prática vem sendo amplamente utilizada, pois confere à planta condições de defesa, possibilitando maior potencial para o desenvolvimento inicial da cultura e contribui para a obtenção do estande inicial almejado."
      ]
    },
    {
      "cell_type": "markdown",
      "metadata": {
        "id": "vU29CABQGXcV"
      },
      "source": [
        "## Organização do Grupo\n",
        "\n",
        "*   *Gerente do Projeto*: Lucas\n",
        "*   *Documentação e Relatórios*: Lucas, Paloma e Vitor\n",
        "*   *Desenvolvimento e Análises*: Alexsander, Arthur e **Lucas**"
      ]
    },
    {
      "cell_type": "markdown",
      "metadata": {
        "id": "HfDq-ekFTKCR"
      },
      "source": [
        "# Dúvidas Jardel\n",
        "\n",
        "\n",
        "*   Devemos calcular as medidas descritivas e intervalos de confiança com n = 16 ou n = 4?\n",
        "\n",
        "* Calcular intervalos de confiança para dias e para o tratamento?\n",
        "\n",
        "* Margem de erro para proporção não binária?\n",
        "\n",
        "* Diferença entre gráfico quantidade x porcentagem?\n",
        "\n"
      ]
    },
    {
      "cell_type": "markdown",
      "metadata": {
        "id": "kJpjWQqc3KsF"
      },
      "source": [
        "## Desenvolvimento"
      ]
    },
    {
      "cell_type": "code",
      "metadata": {
        "id": "rgt7qBUz2rMf"
      },
      "source": [
        "# Importação de bibliotecas\n",
        "import pandas as pd\n",
        "import seaborn as sns\n",
        "import matplotlib.pyplot as plt\n",
        "import numpy as np"
      ],
      "execution_count": 101,
      "outputs": []
    },
    {
      "cell_type": "markdown",
      "metadata": {
        "id": "p0b9B_W_GtVx"
      },
      "source": [
        "### Tratamento dos Dados"
      ]
    },
    {
      "cell_type": "code",
      "metadata": {
        "id": "Rcy5OSfH2rMj"
      },
      "source": [
        "# Coletando dados do Excel \"DadosGeminacao\"\n",
        "dados_germinacao = pd.read_csv(\"https://raw.githubusercontent.com/Cizika/Projeto-Sementes/master/Dados/DadosGerminacao.csv\", index_col=0, delimiter= \";\")"
      ],
      "execution_count": 159,
      "outputs": []
    },
    {
      "cell_type": "code",
      "metadata": {
        "id": "db_PovJp2rMj"
      },
      "source": [
        "# Renomeando a chave do indíce e das colunas\n",
        "dados_germinacao.index.names = ['Tipo de tratamento']\n",
        "dados_germinacao.columns.names = ['Dias pós-tratamento']"
      ],
      "execution_count": 160,
      "outputs": []
    },
    {
      "cell_type": "code",
      "metadata": {
        "colab": {
          "base_uri": "https://localhost:8080/",
          "height": 206
        },
        "id": "0HFL38ekiziE",
        "outputId": "95640a0b-e74f-4ceb-a0fc-028236729393"
      },
      "source": [
        "dados_germinacao"
      ],
      "execution_count": 161,
      "outputs": [
        {
          "output_type": "execute_result",
          "data": {
            "text/html": [
              "<div>\n",
              "<style scoped>\n",
              "    .dataframe tbody tr th:only-of-type {\n",
              "        vertical-align: middle;\n",
              "    }\n",
              "\n",
              "    .dataframe tbody tr th {\n",
              "        vertical-align: top;\n",
              "    }\n",
              "\n",
              "    .dataframe thead th {\n",
              "        text-align: right;\n",
              "    }\n",
              "</style>\n",
              "<table border=\"1\" class=\"dataframe\">\n",
              "  <thead>\n",
              "    <tr style=\"text-align: right;\">\n",
              "      <th>Dias pós-tratamento</th>\n",
              "      <th>0</th>\n",
              "      <th>5</th>\n",
              "      <th>10</th>\n",
              "      <th>15</th>\n",
              "    </tr>\n",
              "    <tr>\n",
              "      <th>Tipo de tratamento</th>\n",
              "      <th></th>\n",
              "      <th></th>\n",
              "      <th></th>\n",
              "      <th></th>\n",
              "    </tr>\n",
              "  </thead>\n",
              "  <tbody>\n",
              "    <tr>\n",
              "      <th>Controle</th>\n",
              "      <td>3</td>\n",
              "      <td>3</td>\n",
              "      <td>3</td>\n",
              "      <td>3</td>\n",
              "    </tr>\n",
              "    <tr>\n",
              "      <th>A</th>\n",
              "      <td>2</td>\n",
              "      <td>2</td>\n",
              "      <td>2</td>\n",
              "      <td>2</td>\n",
              "    </tr>\n",
              "    <tr>\n",
              "      <th>B</th>\n",
              "      <td>3</td>\n",
              "      <td>3</td>\n",
              "      <td>4</td>\n",
              "      <td>4</td>\n",
              "    </tr>\n",
              "    <tr>\n",
              "      <th>C</th>\n",
              "      <td>3</td>\n",
              "      <td>2</td>\n",
              "      <td>3</td>\n",
              "      <td>3</td>\n",
              "    </tr>\n",
              "  </tbody>\n",
              "</table>\n",
              "</div>"
            ],
            "text/plain": [
              "Dias pós-tratamento  0  5  10  15\n",
              "Tipo de tratamento               \n",
              "Controle             3  3   3   3\n",
              "A                    2  2   2   2\n",
              "B                    3  3   4   4\n",
              "C                    3  2   3   3"
            ]
          },
          "metadata": {
            "tags": []
          },
          "execution_count": 161
        }
      ]
    },
    {
      "cell_type": "code",
      "metadata": {
        "id": "sk-V2nioZ0H8"
      },
      "source": [
        "# Criando dataframe dos dados de germinação em proporção (porcentagem) utilizando uma função lambda\n",
        "dados_proporcao = dados_germinacao.apply(lambda x: 100 * x/dados_germinacao.shape[0])"
      ],
      "execution_count": 112,
      "outputs": []
    },
    {
      "cell_type": "code",
      "metadata": {
        "id": "WANvY9VUhYWN",
        "colab": {
          "base_uri": "https://localhost:8080/",
          "height": 206
        },
        "outputId": "31533c33-3f24-483d-a5f8-702cfd3bbfc7"
      },
      "source": [
        "dados_proporcao"
      ],
      "execution_count": 113,
      "outputs": [
        {
          "output_type": "execute_result",
          "data": {
            "text/html": [
              "<div>\n",
              "<style scoped>\n",
              "    .dataframe tbody tr th:only-of-type {\n",
              "        vertical-align: middle;\n",
              "    }\n",
              "\n",
              "    .dataframe tbody tr th {\n",
              "        vertical-align: top;\n",
              "    }\n",
              "\n",
              "    .dataframe thead th {\n",
              "        text-align: right;\n",
              "    }\n",
              "</style>\n",
              "<table border=\"1\" class=\"dataframe\">\n",
              "  <thead>\n",
              "    <tr style=\"text-align: right;\">\n",
              "      <th>Dias pós-tratamento</th>\n",
              "      <th>0</th>\n",
              "      <th>5</th>\n",
              "      <th>10</th>\n",
              "      <th>15</th>\n",
              "    </tr>\n",
              "    <tr>\n",
              "      <th>Tipo de tratamento</th>\n",
              "      <th></th>\n",
              "      <th></th>\n",
              "      <th></th>\n",
              "      <th></th>\n",
              "    </tr>\n",
              "  </thead>\n",
              "  <tbody>\n",
              "    <tr>\n",
              "      <th>Controle</th>\n",
              "      <td>75.0</td>\n",
              "      <td>75.0</td>\n",
              "      <td>75.0</td>\n",
              "      <td>75.0</td>\n",
              "    </tr>\n",
              "    <tr>\n",
              "      <th>A</th>\n",
              "      <td>50.0</td>\n",
              "      <td>50.0</td>\n",
              "      <td>50.0</td>\n",
              "      <td>50.0</td>\n",
              "    </tr>\n",
              "    <tr>\n",
              "      <th>B</th>\n",
              "      <td>75.0</td>\n",
              "      <td>75.0</td>\n",
              "      <td>100.0</td>\n",
              "      <td>100.0</td>\n",
              "    </tr>\n",
              "    <tr>\n",
              "      <th>C</th>\n",
              "      <td>75.0</td>\n",
              "      <td>50.0</td>\n",
              "      <td>75.0</td>\n",
              "      <td>75.0</td>\n",
              "    </tr>\n",
              "  </tbody>\n",
              "</table>\n",
              "</div>"
            ],
            "text/plain": [
              "Dias pós-tratamento     0     5     10     15\n",
              "Tipo de tratamento                           \n",
              "Controle             75.0  75.0   75.0   75.0\n",
              "A                    50.0  50.0   50.0   50.0\n",
              "B                    75.0  75.0  100.0  100.0\n",
              "C                    75.0  50.0   75.0   75.0"
            ]
          },
          "metadata": {
            "tags": []
          },
          "execution_count": 113
        }
      ]
    },
    {
      "cell_type": "markdown",
      "metadata": {
        "id": "LAQIzM2J4GN6"
      },
      "source": [
        "### Medidas Descritivas"
      ]
    },
    {
      "cell_type": "code",
      "metadata": {
        "id": "KmpGRKcn4AXH"
      },
      "source": [
        "# Função para calcular o coeficiente de variância (CV)\n",
        "def coeficiente_variancia(table):\n",
        "    return 100 * table.std() / table.mean()\n",
        "# Função para calcular a amplitude\n",
        "def amplitude(table):\n",
        "    return table.max() - table.min()\n",
        "\n",
        "# Utilizando método aggregate do Pandas para aplicar medidas de posição e dispersão ao DataFrame\n",
        "medidas_descritivas = dados_proporcao.agg([\"min\",\"max\",\"mean\",\"median\",\"var\",\"std\",coeficiente_variancia,amplitude])"
      ],
      "execution_count": 26,
      "outputs": []
    },
    {
      "cell_type": "code",
      "metadata": {
        "id": "6aAIdbsaarpu"
      },
      "source": [
        "# Renomeando index do DataFrame de medidas descritivas\n",
        "novos_nomes = {\n",
        "    \"min\":\"Minimo\",\n",
        "    \"max\": \"Maximo\",\n",
        "    \"mean\":\"Media\",\n",
        "    \"median\": \"Mediana\",\n",
        "    \"var\": \"Variancia\",\n",
        "    \"std\": \"Desvio-padrao\",\n",
        "    \"coeficiente_variancia\":\"Coeficiente de Variancia\",\n",
        "    \"amplitude\":\"Amplitude\"\n",
        "}\n",
        "medidas_descritivas = medidas_descritivas.rename(novos_nomes)"
      ],
      "execution_count": 27,
      "outputs": []
    },
    {
      "cell_type": "code",
      "metadata": {
        "id": "XnnLq6g5cZKp"
      },
      "source": [
        "# Arredondando casas decimais das medidas descritivas e de dispersão\n",
        "medidas_descritivas = medidas_descritivas.round(3)"
      ],
      "execution_count": 29,
      "outputs": []
    },
    {
      "cell_type": "code",
      "metadata": {
        "colab": {
          "base_uri": "https://localhost:8080/",
          "height": 300
        },
        "id": "OKH1dmCKgFFi",
        "outputId": "15f834cc-9569-4717-b775-b6bbb7524536"
      },
      "source": [
        "medidas_descritivas"
      ],
      "execution_count": 33,
      "outputs": [
        {
          "output_type": "execute_result",
          "data": {
            "text/html": [
              "<div>\n",
              "<style scoped>\n",
              "    .dataframe tbody tr th:only-of-type {\n",
              "        vertical-align: middle;\n",
              "    }\n",
              "\n",
              "    .dataframe tbody tr th {\n",
              "        vertical-align: top;\n",
              "    }\n",
              "\n",
              "    .dataframe thead th {\n",
              "        text-align: right;\n",
              "    }\n",
              "</style>\n",
              "<table border=\"1\" class=\"dataframe\">\n",
              "  <thead>\n",
              "    <tr style=\"text-align: right;\">\n",
              "      <th></th>\n",
              "      <th>0</th>\n",
              "      <th>5</th>\n",
              "      <th>10</th>\n",
              "      <th>15</th>\n",
              "    </tr>\n",
              "  </thead>\n",
              "  <tbody>\n",
              "    <tr>\n",
              "      <th>Minimo</th>\n",
              "      <td>50.000</td>\n",
              "      <td>50.000</td>\n",
              "      <td>50.000</td>\n",
              "      <td>50.000</td>\n",
              "    </tr>\n",
              "    <tr>\n",
              "      <th>Maximo</th>\n",
              "      <td>75.000</td>\n",
              "      <td>75.000</td>\n",
              "      <td>100.000</td>\n",
              "      <td>100.000</td>\n",
              "    </tr>\n",
              "    <tr>\n",
              "      <th>Media</th>\n",
              "      <td>68.750</td>\n",
              "      <td>62.500</td>\n",
              "      <td>75.000</td>\n",
              "      <td>75.000</td>\n",
              "    </tr>\n",
              "    <tr>\n",
              "      <th>Mediana</th>\n",
              "      <td>75.000</td>\n",
              "      <td>62.500</td>\n",
              "      <td>75.000</td>\n",
              "      <td>75.000</td>\n",
              "    </tr>\n",
              "    <tr>\n",
              "      <th>Variancia</th>\n",
              "      <td>156.250</td>\n",
              "      <td>208.333</td>\n",
              "      <td>416.667</td>\n",
              "      <td>416.667</td>\n",
              "    </tr>\n",
              "    <tr>\n",
              "      <th>Desvio-padrao</th>\n",
              "      <td>12.500</td>\n",
              "      <td>14.434</td>\n",
              "      <td>20.412</td>\n",
              "      <td>20.412</td>\n",
              "    </tr>\n",
              "    <tr>\n",
              "      <th>Coeficiente de Variancia</th>\n",
              "      <td>18.182</td>\n",
              "      <td>23.094</td>\n",
              "      <td>27.217</td>\n",
              "      <td>27.217</td>\n",
              "    </tr>\n",
              "    <tr>\n",
              "      <th>Amplitude</th>\n",
              "      <td>25.000</td>\n",
              "      <td>25.000</td>\n",
              "      <td>50.000</td>\n",
              "      <td>50.000</td>\n",
              "    </tr>\n",
              "  </tbody>\n",
              "</table>\n",
              "</div>"
            ],
            "text/plain": [
              "                                0        5       10       15\n",
              "Minimo                     50.000   50.000   50.000   50.000\n",
              "Maximo                     75.000   75.000  100.000  100.000\n",
              "Media                      68.750   62.500   75.000   75.000\n",
              "Mediana                    75.000   62.500   75.000   75.000\n",
              "Variancia                 156.250  208.333  416.667  416.667\n",
              "Desvio-padrao              12.500   14.434   20.412   20.412\n",
              "Coeficiente de Variancia   18.182   23.094   27.217   27.217\n",
              "Amplitude                  25.000   25.000   50.000   50.000"
            ]
          },
          "metadata": {
            "tags": []
          },
          "execution_count": 33
        }
      ]
    },
    {
      "cell_type": "markdown",
      "metadata": {
        "id": "2REZYYSXglgc"
      },
      "source": [
        "Análise"
      ]
    },
    {
      "cell_type": "markdown",
      "metadata": {
        "id": "OvjCK6YK4iCa"
      },
      "source": [
        "### Gráficos Gerais"
      ]
    },
    {
      "cell_type": "code",
      "metadata": {
        "colab": {
          "base_uri": "https://localhost:8080/",
          "height": 403
        },
        "id": "R0WWApi7AvjT",
        "outputId": "43753e57-cc79-4950-ffa4-91356df2095a"
      },
      "source": [
        "# Utilizando Seaborn para plotar boxplots\n",
        "sns.catplot(kind=\"box\", data=dados_proporcao)"
      ],
      "execution_count": 18,
      "outputs": [
        {
          "output_type": "execute_result",
          "data": {
            "text/plain": [
              "<seaborn.axisgrid.FacetGrid at 0x7efe38455c10>"
            ]
          },
          "metadata": {
            "tags": []
          },
          "execution_count": 18
        },
        {
          "output_type": "display_data",
          "data": {
            "image/png": "[encoded data removed]",
            "text/plain": [
              "<Figure size 360x360 with 1 Axes>"
            ]
          },
          "metadata": {
            "tags": [],
            "needs_background": "light"
          }
        }
      ]
    },
    {
      "cell_type": "code",
      "metadata": {
        "id": "da9LRszJ4ZZE",
        "colab": {
          "base_uri": "https://localhost:8080/",
          "height": 206
        },
        "outputId": "20ab4047-ba58-47ca-a855-88ab97ba48a4"
      },
      "source": [
        "# Criando dataframe com os dados empilhados e índices como coluna\n",
        "dados_desempilhados_porcentagem = pd.DataFrame(dados_proporcao.stack(), columns = [\"Porcentagem\"]).reset_index()\n",
        "dados_desempilhados_porcentagem.head()"
      ],
      "execution_count": 193,
      "outputs": [
        {
          "output_type": "execute_result",
          "data": {
            "text/html": [
              "<div>\n",
              "<style scoped>\n",
              "    .dataframe tbody tr th:only-of-type {\n",
              "        vertical-align: middle;\n",
              "    }\n",
              "\n",
              "    .dataframe tbody tr th {\n",
              "        vertical-align: top;\n",
              "    }\n",
              "\n",
              "    .dataframe thead th {\n",
              "        text-align: right;\n",
              "    }\n",
              "</style>\n",
              "<table border=\"1\" class=\"dataframe\">\n",
              "  <thead>\n",
              "    <tr style=\"text-align: right;\">\n",
              "      <th></th>\n",
              "      <th>Tipo de tratamento</th>\n",
              "      <th>Dias pós-tratamento</th>\n",
              "      <th>Porcentagem</th>\n",
              "    </tr>\n",
              "  </thead>\n",
              "  <tbody>\n",
              "    <tr>\n",
              "      <th>0</th>\n",
              "      <td>Controle</td>\n",
              "      <td>0</td>\n",
              "      <td>75.0</td>\n",
              "    </tr>\n",
              "    <tr>\n",
              "      <th>1</th>\n",
              "      <td>Controle</td>\n",
              "      <td>5</td>\n",
              "      <td>75.0</td>\n",
              "    </tr>\n",
              "    <tr>\n",
              "      <th>2</th>\n",
              "      <td>Controle</td>\n",
              "      <td>10</td>\n",
              "      <td>75.0</td>\n",
              "    </tr>\n",
              "    <tr>\n",
              "      <th>3</th>\n",
              "      <td>Controle</td>\n",
              "      <td>15</td>\n",
              "      <td>75.0</td>\n",
              "    </tr>\n",
              "    <tr>\n",
              "      <th>4</th>\n",
              "      <td>A</td>\n",
              "      <td>0</td>\n",
              "      <td>50.0</td>\n",
              "    </tr>\n",
              "  </tbody>\n",
              "</table>\n",
              "</div>"
            ],
            "text/plain": [
              "  Tipo de tratamento Dias pós-tratamento  Porcentagem\n",
              "0           Controle                   0         75.0\n",
              "1           Controle                   5         75.0\n",
              "2           Controle                  10         75.0\n",
              "3           Controle                  15         75.0\n",
              "4                  A                   0         50.0"
            ]
          },
          "metadata": {
            "tags": []
          },
          "execution_count": 193
        }
      ]
    },
    {
      "cell_type": "code",
      "metadata": {
        "colab": {
          "base_uri": "https://localhost:8080/",
          "height": 403
        },
        "id": "rYPpZA19vayx",
        "outputId": "d94eb0c7-1401-4696-9e54-54e6a862102f"
      },
      "source": [
        "# Utilizando biblioteca Seaborn para plotar um gráfico de barras em porcentagem\n",
        "sns.catplot(kind=\"bar\",x='Dias pós-tratamento', y='Porcentagem', hue='Tipo de tratamento', data=dados_desempilhados_porcentagem)"
      ],
      "execution_count": 17,
      "outputs": [
        {
          "output_type": "execute_result",
          "data": {
            "text/plain": [
              "<seaborn.axisgrid.FacetGrid at 0x7efe2fbcedd0>"
            ]
          },
          "metadata": {
            "tags": []
          },
          "execution_count": 17
        },
        {
          "output_type": "display_data",
          "data": {
            "image/png": "[encoded data removed]",
            "text/plain": [
              "<Figure size 463.75x360 with 1 Axes>"
            ]
          },
          "metadata": {
            "tags": [],
            "needs_background": "light"
          }
        }
      ]
    },
    {
      "cell_type": "code",
      "metadata": {
        "colab": {
          "base_uri": "https://localhost:8080/",
          "height": 206
        },
        "id": "__ESXIlXWUrH",
        "outputId": "b29655d0-6e67-4e2c-d53d-52ee1b29e8a4"
      },
      "source": [
        "# Desempilhando dados de germinação em Quantidade\n",
        "dados_desempilhados_quantidade = pd.DataFrame(dados_germinacao.stack(), columns = [\"Quantidade\"]).reset_index()\n",
        "dados_desempilhados_quantidade.head()"
      ],
      "execution_count": 199,
      "outputs": [
        {
          "output_type": "execute_result",
          "data": {
            "text/html": [
              "<div>\n",
              "<style scoped>\n",
              "    .dataframe tbody tr th:only-of-type {\n",
              "        vertical-align: middle;\n",
              "    }\n",
              "\n",
              "    .dataframe tbody tr th {\n",
              "        vertical-align: top;\n",
              "    }\n",
              "\n",
              "    .dataframe thead th {\n",
              "        text-align: right;\n",
              "    }\n",
              "</style>\n",
              "<table border=\"1\" class=\"dataframe\">\n",
              "  <thead>\n",
              "    <tr style=\"text-align: right;\">\n",
              "      <th></th>\n",
              "      <th>Tipo de tratamento</th>\n",
              "      <th>Dias pós-tratamento</th>\n",
              "      <th>Quantidade</th>\n",
              "    </tr>\n",
              "  </thead>\n",
              "  <tbody>\n",
              "    <tr>\n",
              "      <th>0</th>\n",
              "      <td>Controle</td>\n",
              "      <td>0</td>\n",
              "      <td>3</td>\n",
              "    </tr>\n",
              "    <tr>\n",
              "      <th>1</th>\n",
              "      <td>Controle</td>\n",
              "      <td>5</td>\n",
              "      <td>3</td>\n",
              "    </tr>\n",
              "    <tr>\n",
              "      <th>2</th>\n",
              "      <td>Controle</td>\n",
              "      <td>10</td>\n",
              "      <td>3</td>\n",
              "    </tr>\n",
              "    <tr>\n",
              "      <th>3</th>\n",
              "      <td>Controle</td>\n",
              "      <td>15</td>\n",
              "      <td>3</td>\n",
              "    </tr>\n",
              "    <tr>\n",
              "      <th>4</th>\n",
              "      <td>A</td>\n",
              "      <td>0</td>\n",
              "      <td>2</td>\n",
              "    </tr>\n",
              "  </tbody>\n",
              "</table>\n",
              "</div>"
            ],
            "text/plain": [
              "  Tipo de tratamento Dias pós-tratamento  Quantidade\n",
              "0           Controle                   0           3\n",
              "1           Controle                   5           3\n",
              "2           Controle                  10           3\n",
              "3           Controle                  15           3\n",
              "4                  A                   0           2"
            ]
          },
          "metadata": {
            "tags": []
          },
          "execution_count": 199
        }
      ]
    },
    {
      "cell_type": "code",
      "metadata": {
        "colab": {
          "base_uri": "https://localhost:8080/",
          "height": 403
        },
        "id": "Gkj1-Tjc4yZA",
        "outputId": "b940a4a7-54fc-4002-d213-1b1ba0b09f64"
      },
      "source": [
        "# Utilizando biblioteca Seaborn para plotar um gráfico de barras\n",
        "sns.catplot(kind=\"bar\",x='Dias pós-tratamento', y='Quantidade', hue='Tipo de tratamento', data=dados_desempilhados_quantidade)"
      ],
      "execution_count": 200,
      "outputs": [
        {
          "output_type": "execute_result",
          "data": {
            "text/plain": [
              "<seaborn.axisgrid.FacetGrid at 0x7efe2a4cba90>"
            ]
          },
          "metadata": {
            "tags": []
          },
          "execution_count": 200
        },
        {
          "output_type": "display_data",
          "data": {
            "image/png": "[encoded data removed]",
            "text/plain": [
              "<Figure size 463.75x360 with 1 Axes>"
            ]
          },
          "metadata": {
            "tags": [],
            "needs_background": "light"
          }
        }
      ]
    },
    {
      "cell_type": "markdown",
      "metadata": {
        "id": "CHRybKiH47hx"
      },
      "source": [
        "### Incertezas e Comparações Estatísticas"
      ]
    },
    {
      "cell_type": "code",
      "metadata": {
        "id": "pXIViT0W5BMV"
      },
      "source": [
        "# Calcular os intervalos de confianças\n",
        "# Realizar Comparações estatísticas com base nesses intervalos\n",
        "# Analisar os resultados\n",
        "# Responsável: Arthur"
      ],
      "execution_count": null,
      "outputs": []
    },
    {
      "cell_type": "code",
      "metadata": {
        "id": "R7cqyGIuEWNd",
        "colab": {
          "base_uri": "https://localhost:8080/"
        },
        "outputId": "2ee9a092-aa56-4ddc-9a1f-9e117452330f"
      },
      "source": [
        "# Calculando estimativa intervalar da PORCENTAGEM de germinação para sementes tratadas após ZERO dias\n",
        "intervalo_zero_dias = 2 * np.sqrt(medidas_descritivas[\"0\"][\"Variancia\"]/16)\n",
        "\n",
        "# Calculando Limite inferior para sementes 0 dias\n",
        "lim_inf = medidas_descritivas[\"0\"][\"Media\"] - intervalo_zero_dias\n",
        "\n",
        "# Calculando Limite superior para sementes 0 dias\n",
        "lim_sup = medidas_descritivas[\"0\"][\"Media\"] + intervalo_zero_dias\n",
        "\n",
        "print(\"O Intervalo de confiança de 95% para as sementes armazenadas por 0 dias é de (\" + str(lim_inf) + \", \" + str(lim_sup) + \").\")"
      ],
      "execution_count": 114,
      "outputs": [
        {
          "output_type": "stream",
          "text": [
            "O Intervalo de confiança de 95% para as sementes armazenadas por 0 dias é de (62.5, 75.0).\n"
          ],
          "name": "stdout"
        }
      ]
    },
    {
      "cell_type": "code",
      "metadata": {
        "id": "8E_2TsoiHnK0",
        "colab": {
          "base_uri": "https://localhost:8080/"
        },
        "outputId": "0b338700-4ae9-4742-ec8e-5d510864e00a"
      },
      "source": [
        "# Margem de erro\n",
        "# margem_erro = 2*np.sqrt((mean * (1 - mean)) / n)\n",
        "margem_erro = 2 * np.sqrt((0.69 * (1 - 0.69))/16) # Para 0 dias\n",
        "print(margem_erro)"
      ],
      "execution_count": 50,
      "outputs": [
        {
          "output_type": "stream",
          "text": [
            "0.23124662159694356\n"
          ],
          "name": "stdout"
        }
      ]
    },
    {
      "cell_type": "code",
      "metadata": {
        "colab": {
          "base_uri": "https://localhost:8080/"
        },
        "id": "Cv8z1jn5Rv3Z",
        "outputId": "42250a02-b3c2-4137-9edb-8363c34f0e2b"
      },
      "source": [
        "# Comparação entre médias, diferença entre as duas médias populacionais se distancia, \n",
        "# provalvelmente 'diferenca' da diferenca amostral \n",
        "# diferenca = 2*np.sqrt((var1/n1) + (var2/n2))\n",
        "diferenca = 2*np.sqrt((208/4) + (156/4)) # 5 dias - 0 dias\n",
        "diferenca "
      ],
      "execution_count": null,
      "outputs": [
        {
          "output_type": "execute_result",
          "data": {
            "text/plain": [
              "9.539392014169456"
            ]
          },
          "metadata": {
            "tags": []
          },
          "execution_count": 25
        }
      ]
    },
    {
      "cell_type": "code",
      "metadata": {
        "colab": {
          "base_uri": "https://localhost:8080/"
        },
        "id": "FVFgWdq7S-76",
        "outputId": "6267d6f9-8c12-463b-fb37-958a6add86f9"
      },
      "source": [
        "# Tamanho amostral\n",
        "# tam_amost = (4*var)/(pow(0.05, 0.05))\n",
        "tam_amost = (4*medidas_descritivas[\"0\"][\"Variancia\"])/(pow(0.05, 0.05)) # Todas as variâncias? \n",
        "tam_amost"
      ],
      "execution_count": 49,
      "outputs": [
        {
          "output_type": "execute_result",
          "data": {
            "text/plain": [
              "725.9914685259639"
            ]
          },
          "metadata": {
            "tags": []
          },
          "execution_count": 49
        }
      ]
    },
    {
      "cell_type": "markdown",
      "metadata": {
        "id": "IvuDr0Dp50OH"
      },
      "source": [
        "### Segmentação de Dados"
      ]
    },
    {
      "cell_type": "code",
      "metadata": {
        "id": "xaafYhjPwK4u"
      },
      "source": [
        "# Construindo Tabela de Contigência entre DIAS PÓS-TRATAMENTO e TIPO DE TRATAMENTO\n",
        "tabela_contingencia = dados_germinacao.copy()\n",
        "tabela_contingencia.loc['Total'] = tabela_contingencia.sum(axis=0).astype(int)\n",
        "tabela_contingencia['Total'] = tabela_contingencia.sum(axis=1).astype(int)"
      ],
      "execution_count": 164,
      "outputs": []
    },
    {
      "cell_type": "code",
      "metadata": {
        "colab": {
          "base_uri": "https://localhost:8080/",
          "height": 237
        },
        "id": "wDm417G07yfJ",
        "outputId": "5faf9ab9-f35a-42be-c12f-13a7b0e3a095"
      },
      "source": [
        "tabela_contingencia.head()"
      ],
      "execution_count": 165,
      "outputs": [
        {
          "output_type": "execute_result",
          "data": {
            "text/html": [
              "<div>\n",
              "<style scoped>\n",
              "    .dataframe tbody tr th:only-of-type {\n",
              "        vertical-align: middle;\n",
              "    }\n",
              "\n",
              "    .dataframe tbody tr th {\n",
              "        vertical-align: top;\n",
              "    }\n",
              "\n",
              "    .dataframe thead th {\n",
              "        text-align: right;\n",
              "    }\n",
              "</style>\n",
              "<table border=\"1\" class=\"dataframe\">\n",
              "  <thead>\n",
              "    <tr style=\"text-align: right;\">\n",
              "      <th>Dias pós-tratamento</th>\n",
              "      <th>0</th>\n",
              "      <th>5</th>\n",
              "      <th>10</th>\n",
              "      <th>15</th>\n",
              "      <th>Total</th>\n",
              "    </tr>\n",
              "    <tr>\n",
              "      <th>Tipo de tratamento</th>\n",
              "      <th></th>\n",
              "      <th></th>\n",
              "      <th></th>\n",
              "      <th></th>\n",
              "      <th></th>\n",
              "    </tr>\n",
              "  </thead>\n",
              "  <tbody>\n",
              "    <tr>\n",
              "      <th>Controle</th>\n",
              "      <td>3</td>\n",
              "      <td>3</td>\n",
              "      <td>3</td>\n",
              "      <td>3</td>\n",
              "      <td>12</td>\n",
              "    </tr>\n",
              "    <tr>\n",
              "      <th>A</th>\n",
              "      <td>2</td>\n",
              "      <td>2</td>\n",
              "      <td>2</td>\n",
              "      <td>2</td>\n",
              "      <td>8</td>\n",
              "    </tr>\n",
              "    <tr>\n",
              "      <th>B</th>\n",
              "      <td>3</td>\n",
              "      <td>3</td>\n",
              "      <td>4</td>\n",
              "      <td>4</td>\n",
              "      <td>14</td>\n",
              "    </tr>\n",
              "    <tr>\n",
              "      <th>C</th>\n",
              "      <td>3</td>\n",
              "      <td>2</td>\n",
              "      <td>3</td>\n",
              "      <td>3</td>\n",
              "      <td>11</td>\n",
              "    </tr>\n",
              "    <tr>\n",
              "      <th>Total</th>\n",
              "      <td>11</td>\n",
              "      <td>10</td>\n",
              "      <td>12</td>\n",
              "      <td>12</td>\n",
              "      <td>45</td>\n",
              "    </tr>\n",
              "  </tbody>\n",
              "</table>\n",
              "</div>"
            ],
            "text/plain": [
              "Dias pós-tratamento   0   5  10  15  Total\n",
              "Tipo de tratamento                        \n",
              "Controle              3   3   3   3     12\n",
              "A                     2   2   2   2      8\n",
              "B                     3   3   4   4     14\n",
              "C                     3   2   3   3     11\n",
              "Total                11  10  12  12     45"
            ]
          },
          "metadata": {
            "tags": []
          },
          "execution_count": 165
        }
      ]
    },
    {
      "cell_type": "code",
      "metadata": {
        "id": "Kz8DqgEt6YJP"
      },
      "source": [
        "# Segmentando com base na variável TIPO DE TRATAMENTO\n",
        "# Criando DataFrame para porcentagem de sementes germinadas do ttotal\n",
        "tratamento_germinadas = pd.DataFrame(columns = [\"Porcentagem do Total de Germinadas\"])\n",
        "\n",
        "# Coletando o número total de sementes germinadas\n",
        "total_germinadas = tabela_contingencia.loc['Total']['Total']\n",
        "\n",
        "# Calculando porcentagem do número total de sementes germinadas em cada tipo de tratamento\n",
        "tratamento_germinadas[\"Porcentagem do Total de Germinadas\"] = 100 *  tabela_contingencia['Total'][:4] / total_germinadas\n",
        "\n",
        "# Arredondando porcentagens em 3 casas decimais\n",
        "tratamento_germinadas = round(tratamento_germinadas, 3)"
      ],
      "execution_count": 178,
      "outputs": []
    },
    {
      "cell_type": "code",
      "metadata": {
        "colab": {
          "base_uri": "https://localhost:8080/",
          "height": 206
        },
        "id": "yzgupgsqsv3J",
        "outputId": "5319b18d-dc8a-44b8-de88-7665fc3253c6"
      },
      "source": [
        "tratamento_germinadas.head()"
      ],
      "execution_count": 179,
      "outputs": [
        {
          "output_type": "execute_result",
          "data": {
            "text/html": [
              "<div>\n",
              "<style scoped>\n",
              "    .dataframe tbody tr th:only-of-type {\n",
              "        vertical-align: middle;\n",
              "    }\n",
              "\n",
              "    .dataframe tbody tr th {\n",
              "        vertical-align: top;\n",
              "    }\n",
              "\n",
              "    .dataframe thead th {\n",
              "        text-align: right;\n",
              "    }\n",
              "</style>\n",
              "<table border=\"1\" class=\"dataframe\">\n",
              "  <thead>\n",
              "    <tr style=\"text-align: right;\">\n",
              "      <th></th>\n",
              "      <th>Porcentagem do Total de Germinadas</th>\n",
              "    </tr>\n",
              "    <tr>\n",
              "      <th>Tipo de tratamento</th>\n",
              "      <th></th>\n",
              "    </tr>\n",
              "  </thead>\n",
              "  <tbody>\n",
              "    <tr>\n",
              "      <th>Controle</th>\n",
              "      <td>26.667</td>\n",
              "    </tr>\n",
              "    <tr>\n",
              "      <th>A</th>\n",
              "      <td>17.778</td>\n",
              "    </tr>\n",
              "    <tr>\n",
              "      <th>B</th>\n",
              "      <td>31.111</td>\n",
              "    </tr>\n",
              "    <tr>\n",
              "      <th>C</th>\n",
              "      <td>24.444</td>\n",
              "    </tr>\n",
              "  </tbody>\n",
              "</table>\n",
              "</div>"
            ],
            "text/plain": [
              "                    Porcentagem do Total de Germinadas\n",
              "Tipo de tratamento                                    \n",
              "Controle                                        26.667\n",
              "A                                               17.778\n",
              "B                                               31.111\n",
              "C                                               24.444"
            ]
          },
          "metadata": {
            "tags": []
          },
          "execution_count": 179
        }
      ]
    },
    {
      "cell_type": "code",
      "metadata": {
        "colab": {
          "base_uri": "https://localhost:8080/",
          "height": 374
        },
        "id": "hnm-Ajh_7-Fw",
        "outputId": "c9296039-5438-415d-e93d-f8e317f7fd29"
      },
      "source": [
        "# Plotando um gráfico de pizza com a porcentagem com base no tratamento dado\n",
        "pie, ax = plt.subplots(figsize=[10,6])\n",
        "labels = list(tratamento_germinadas.index)\n",
        "plt.pie(x=np.array(tratamento_germinadas).ravel(), autopct=\"%.1f%%\", explode=[0.05]*4, labels=labels, pctdistance=0.5)\n",
        "plt.title(\"Porcentagem de Sementes Germinadas em cada Tipo de Tratamento\", fontsize=14);\n",
        "pie.savefig(\"PorcentagemPorTratamento.png\")"
      ],
      "execution_count": 177,
      "outputs": [
        {
          "output_type": "display_data",
          "data": {
            "image/png": "[encoded data removed]",
            "text/plain": [
              "<Figure size 720x432 with 1 Axes>"
            ]
          },
          "metadata": {
            "tags": []
          }
        }
      ]
    },
    {
      "cell_type": "code",
      "metadata": {
        "id": "D5WulXoe8_2B"
      },
      "source": [
        "# Segmentando com base na variável DIAS PÓS-TRATAMENTO\n",
        "# Criando DataFrame para porcentagem de sementes germinadas do total\n",
        "dias_germinadas = pd.DataFrame(columns = [\"Porcentagem do Total de Germinadas\"])\n",
        "\n",
        "# Calculando porcentagem do número total de sementes germinadas em cada período pós-tratamento\n",
        "dias_germinadas[\"Porcentagem do Total de Germinadas\"] = 100 *  tabela_contingencia.loc['Total'][:4] / total_germinadas\n",
        "\n",
        "# Arredondando porcentagens em 3 casas decimais\n",
        "dias_germinadas = round(dias_germinadas, 3)"
      ],
      "execution_count": 184,
      "outputs": []
    },
    {
      "cell_type": "code",
      "metadata": {
        "colab": {
          "base_uri": "https://localhost:8080/",
          "height": 206
        },
        "id": "RQQKGpOZtyMv",
        "outputId": "2fa39a7a-e042-4cb0-eea3-638ba84ead4b"
      },
      "source": [
        "dias_germinadas.head()"
      ],
      "execution_count": 186,
      "outputs": [
        {
          "output_type": "execute_result",
          "data": {
            "text/html": [
              "<div>\n",
              "<style scoped>\n",
              "    .dataframe tbody tr th:only-of-type {\n",
              "        vertical-align: middle;\n",
              "    }\n",
              "\n",
              "    .dataframe tbody tr th {\n",
              "        vertical-align: top;\n",
              "    }\n",
              "\n",
              "    .dataframe thead th {\n",
              "        text-align: right;\n",
              "    }\n",
              "</style>\n",
              "<table border=\"1\" class=\"dataframe\">\n",
              "  <thead>\n",
              "    <tr style=\"text-align: right;\">\n",
              "      <th></th>\n",
              "      <th>Porcentagem do Total de Germinadas</th>\n",
              "    </tr>\n",
              "    <tr>\n",
              "      <th>Dias pós-tratamento</th>\n",
              "      <th></th>\n",
              "    </tr>\n",
              "  </thead>\n",
              "  <tbody>\n",
              "    <tr>\n",
              "      <th>0</th>\n",
              "      <td>24.444</td>\n",
              "    </tr>\n",
              "    <tr>\n",
              "      <th>5</th>\n",
              "      <td>22.222</td>\n",
              "    </tr>\n",
              "    <tr>\n",
              "      <th>10</th>\n",
              "      <td>26.667</td>\n",
              "    </tr>\n",
              "    <tr>\n",
              "      <th>15</th>\n",
              "      <td>26.667</td>\n",
              "    </tr>\n",
              "  </tbody>\n",
              "</table>\n",
              "</div>"
            ],
            "text/plain": [
              "                     Porcentagem do Total de Germinadas\n",
              "Dias pós-tratamento                                    \n",
              "0                                                24.444\n",
              "5                                                22.222\n",
              "10                                               26.667\n",
              "15                                               26.667"
            ]
          },
          "metadata": {
            "tags": []
          },
          "execution_count": 186
        }
      ]
    },
    {
      "cell_type": "code",
      "metadata": {
        "colab": {
          "base_uri": "https://localhost:8080/",
          "height": 375
        },
        "id": "P9UD6gJ0uuhQ",
        "outputId": "d245ad57-1dba-45c7-d25b-a074fa2841a0"
      },
      "source": [
        "# Plotando um gráfico de pizza com a porcentagem com base no tratamento dado\n",
        "pie, ax = plt.subplots(figsize=[10,6])\n",
        "labels = list(dias_germinadas.index)\n",
        "plt.pie(x=np.array(dias_germinadas).ravel(), autopct=\"%.1f%%\", explode=[0.05]*4, labels=labels, pctdistance=0.5)\n",
        "plt.title(\"Porcentagem de Sementes Germinadas em cada Período Pós-tratamento\", fontsize=14);\n",
        "pie.savefig(\"PorcentagemPorDia.png\")"
      ],
      "execution_count": 183,
      "outputs": [
        {
          "output_type": "display_data",
          "data": {
            "image/png": "[encoded data removed]",
            "text/plain": [
              "<Figure size 720x432 with 1 Axes>"
            ]
          },
          "metadata": {
            "tags": []
          }
        }
      ]
    }
  ]
}