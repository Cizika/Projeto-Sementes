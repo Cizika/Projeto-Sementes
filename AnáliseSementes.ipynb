{
  "nbformat": 4,
  "nbformat_minor": 0,
  "metadata": {
    "language_info": {
      "codemirror_mode": {
        "name": "ipython",
        "version": 3
      },
      "file_extension": ".py",
      "mimetype": "text/x-python",
      "name": "python",
      "nbconvert_exporter": "python",
      "pygments_lexer": "ipython3",
      "version": "3.8.8"
    },
    "orig_nbformat": 2,
    "kernelspec": {
      "name": "python388jvsc74a57bd05deb6b9f49f06a7079692bcab8a0ded9a37d2d947d61a0427fa5c30d36ef97fb",
      "display_name": "Python 3.8.8 64-bit ('base': conda)"
    },
    "metadata": {
      "interpreter": {
        "hash": "7e57122314a96cbf89961b11d283f7f09ca320ae5147a47caba2d0b065f51b02"
      }
    },
    "colab": {
      "name": "AnáliseSementes.ipynb",
      "provenance": [],
      "collapsed_sections": [],
      "toc_visible": true
    }
  },
  "cells": [
    {
      "cell_type": "markdown",
      "metadata": {
        "id": "1rb_HXwr2tU0"
      },
      "source": [
        "# Projeto Sementes"
      ]
    },
    {
      "cell_type": "markdown",
      "metadata": {
        "id": "VTSxYWNdGmBY"
      },
      "source": [
        "## Contextualização\n",
        "\n",
        "A cultura da soja (Glycine Max), durante todo o seu ciclo, está sujeita ao ataque de diferentes insetos-praga. A ação destes insetos-praga de solo pode causar falhas na lavoura na implantação da cultura, devido a eles se alimentarem: das sementes após a semeadura, de raízes após a germinação e da parte aérea das plântulas após a emergência, isso, na fase em que a planta em formação está mais suscetível a danos e morte.\n",
        "\n",
        "O tratamento das sementes é considerado o método mais eficiente no controle de pragas incidentes, durante o desenvolvimento inicial das culturas agrícolas. Além disso, resultados de pesquisas têm evidenciado que alguns produtos, quando aplicados sozinhos e/ou em combinação com outros, podem, em determinadas situações, ocasionar redução na germinação das sementes, e também, na sobrevivência das plântulas, devido ao efeito de fitotoxicidade.\n",
        "\n",
        "O uso preventivo de agroquímicos no tratamento de sementes é uma alternativa para evitar possíveis perdas decorrentes das ações de pragas de solo e da parte aérea. Essa prática vem sendo amplamente utilizada, pois confere à planta condições de defesa, possibilitando maior potencial para o desenvolvimento inicial da cultura e contribui para a obtenção do estande inicial almejado."
      ]
    },
    {
      "cell_type": "markdown",
      "metadata": {
        "id": "vU29CABQGXcV"
      },
      "source": [
        "## Organização do Grupo\n",
        "\n",
        "*   *Gerente do Projeto*: Lucas\n",
        "*   *Documentação e Relatórios*: Lucas, Paloma e Vitor\n",
        "*   *Desenvolvimento e Análises*: Alexsander, Arthur e Lucas"
      ]
    },
    {
      "cell_type": "markdown",
      "metadata": {
        "id": "vti7DU_JunWC"
      },
      "source": [
        "### Organização do Desenvolvimento:\n",
        "\n",
        "*   Tratamento dos Dados: Lucas\n",
        "*   Medidas Descritivas: Alexsander\n",
        "*   Gráficos Gerais: Alexsander\n",
        "*   Incertezas e Comparações Estatísticas: Artur\n",
        "*   Análise Bivariada: Alexsander e Lucas\n",
        "*   Revisão e Estruturação do código: Lucas\n",
        "\n",
        "\n"
      ]
    },
    {
      "cell_type": "markdown",
      "metadata": {
        "id": "nTalzT9DgeLL"
      },
      "source": [
        "### Organização dos Relatório:\n",
        "\n",
        "* Introdução e Metodologia: Paloma\n",
        "* Resultados Medidas Descritivas + Gráficos Gerais: Vitor\n",
        "* Resultados Incertezas e Comparações Estatísticas: Artur\n",
        "* Resultados Análise Bivariada: Lucas\n",
        "* Conclusão: Vitor\n",
        "\n"
      ]
    },
    {
      "cell_type": "markdown",
      "metadata": {
        "id": "kJpjWQqc3KsF"
      },
      "source": [
        "## Desenvolvimento"
      ]
    },
    {
      "cell_type": "code",
      "metadata": {
        "id": "rgt7qBUz2rMf"
      },
      "source": [
        "# Importação de bibliotecas\n",
        "import pandas as pd\n",
        "import seaborn as sns\n",
        "import matplotlib.pyplot as plt\n",
        "import numpy as np\n",
        "from tabulate import tabulate"
      ],
      "execution_count": 1,
      "outputs": []
    },
    {
      "cell_type": "markdown",
      "metadata": {
        "id": "p0b9B_W_GtVx"
      },
      "source": [
        "### Tratamento dos Dados"
      ]
    },
    {
      "cell_type": "code",
      "metadata": {
        "id": "Rcy5OSfH2rMj"
      },
      "source": [
        "# Coletando dados do Excel \"DadosGeminacao\"\n",
        "dados_germinacao = pd.read_csv(\"https://raw.githubusercontent.com/Cizika/Projeto-Sementes/master/Dados/DadosGerminacao.csv\", index_col=0, delimiter= \";\")"
      ],
      "execution_count": 2,
      "outputs": []
    },
    {
      "cell_type": "code",
      "metadata": {
        "id": "db_PovJp2rMj"
      },
      "source": [
        "# Renomeando a chave do indíce e das colunas\n",
        "dados_germinacao.index.names = ['Tipo de Tratamento']\n",
        "dados_germinacao.columns.names = ['Dias de Armazenamento']"
      ],
      "execution_count": 3,
      "outputs": []
    },
    {
      "cell_type": "code",
      "metadata": {
        "colab": {
          "base_uri": "https://localhost:8080/",
          "height": 206
        },
        "id": "0HFL38ekiziE",
        "outputId": "0e215fc5-5c44-47df-8ff8-64bc6f133145"
      },
      "source": [
        "# Visualização do DataFrame principal\n",
        "dados_germinacao"
      ],
      "execution_count": 4,
      "outputs": [
        {
          "output_type": "execute_result",
          "data": {
            "text/html": [
              "<div>\n",
              "<style scoped>\n",
              "    .dataframe tbody tr th:only-of-type {\n",
              "        vertical-align: middle;\n",
              "    }\n",
              "\n",
              "    .dataframe tbody tr th {\n",
              "        vertical-align: top;\n",
              "    }\n",
              "\n",
              "    .dataframe thead th {\n",
              "        text-align: right;\n",
              "    }\n",
              "</style>\n",
              "<table border=\"1\" class=\"dataframe\">\n",
              "  <thead>\n",
              "    <tr style=\"text-align: right;\">\n",
              "      <th>Dias de Armazenamento</th>\n",
              "      <th>0</th>\n",
              "      <th>5</th>\n",
              "      <th>10</th>\n",
              "      <th>15</th>\n",
              "    </tr>\n",
              "    <tr>\n",
              "      <th>Tipo de Tratamento</th>\n",
              "      <th></th>\n",
              "      <th></th>\n",
              "      <th></th>\n",
              "      <th></th>\n",
              "    </tr>\n",
              "  </thead>\n",
              "  <tbody>\n",
              "    <tr>\n",
              "      <th>Controle</th>\n",
              "      <td>3</td>\n",
              "      <td>3</td>\n",
              "      <td>3</td>\n",
              "      <td>3</td>\n",
              "    </tr>\n",
              "    <tr>\n",
              "      <th>A</th>\n",
              "      <td>2</td>\n",
              "      <td>2</td>\n",
              "      <td>2</td>\n",
              "      <td>2</td>\n",
              "    </tr>\n",
              "    <tr>\n",
              "      <th>B</th>\n",
              "      <td>3</td>\n",
              "      <td>3</td>\n",
              "      <td>4</td>\n",
              "      <td>4</td>\n",
              "    </tr>\n",
              "    <tr>\n",
              "      <th>C</th>\n",
              "      <td>3</td>\n",
              "      <td>2</td>\n",
              "      <td>3</td>\n",
              "      <td>3</td>\n",
              "    </tr>\n",
              "  </tbody>\n",
              "</table>\n",
              "</div>"
            ],
            "text/plain": [
              "Dias de Armazenamento  0  5  10  15\n",
              "Tipo de Tratamento                 \n",
              "Controle               3  3   3   3\n",
              "A                      2  2   2   2\n",
              "B                      3  3   4   4\n",
              "C                      3  2   3   3"
            ]
          },
          "metadata": {
            "tags": []
          },
          "execution_count": 4
        }
      ]
    },
    {
      "cell_type": "code",
      "metadata": {
        "id": "0gXG3zC2RYlV",
        "colab": {
          "base_uri": "https://localhost:8080/",
          "height": 206
        },
        "outputId": "04b972cf-35e2-45d5-cebe-0f44ed2c9928"
      },
      "source": [
        "# Gerando Tabela transposta\n",
        "dados_germinacao_T = dados_germinacao.T\n",
        "dados_germinacao_T"
      ],
      "execution_count": 5,
      "outputs": [
        {
          "output_type": "execute_result",
          "data": {
            "text/html": [
              "<div>\n",
              "<style scoped>\n",
              "    .dataframe tbody tr th:only-of-type {\n",
              "        vertical-align: middle;\n",
              "    }\n",
              "\n",
              "    .dataframe tbody tr th {\n",
              "        vertical-align: top;\n",
              "    }\n",
              "\n",
              "    .dataframe thead th {\n",
              "        text-align: right;\n",
              "    }\n",
              "</style>\n",
              "<table border=\"1\" class=\"dataframe\">\n",
              "  <thead>\n",
              "    <tr style=\"text-align: right;\">\n",
              "      <th>Tipo de Tratamento</th>\n",
              "      <th>Controle</th>\n",
              "      <th>A</th>\n",
              "      <th>B</th>\n",
              "      <th>C</th>\n",
              "    </tr>\n",
              "    <tr>\n",
              "      <th>Dias de Armazenamento</th>\n",
              "      <th></th>\n",
              "      <th></th>\n",
              "      <th></th>\n",
              "      <th></th>\n",
              "    </tr>\n",
              "  </thead>\n",
              "  <tbody>\n",
              "    <tr>\n",
              "      <th>0</th>\n",
              "      <td>3</td>\n",
              "      <td>2</td>\n",
              "      <td>3</td>\n",
              "      <td>3</td>\n",
              "    </tr>\n",
              "    <tr>\n",
              "      <th>5</th>\n",
              "      <td>3</td>\n",
              "      <td>2</td>\n",
              "      <td>3</td>\n",
              "      <td>2</td>\n",
              "    </tr>\n",
              "    <tr>\n",
              "      <th>10</th>\n",
              "      <td>3</td>\n",
              "      <td>2</td>\n",
              "      <td>4</td>\n",
              "      <td>3</td>\n",
              "    </tr>\n",
              "    <tr>\n",
              "      <th>15</th>\n",
              "      <td>3</td>\n",
              "      <td>2</td>\n",
              "      <td>4</td>\n",
              "      <td>3</td>\n",
              "    </tr>\n",
              "  </tbody>\n",
              "</table>\n",
              "</div>"
            ],
            "text/plain": [
              "Tipo de Tratamento     Controle  A  B  C\n",
              "Dias de Armazenamento                   \n",
              "0                             3  2  3  3\n",
              "5                             3  2  3  2\n",
              "10                            3  2  4  3\n",
              "15                            3  2  4  3"
            ]
          },
          "metadata": {
            "tags": []
          },
          "execution_count": 5
        }
      ]
    },
    {
      "cell_type": "code",
      "metadata": {
        "id": "bOVkXJad9xFJ",
        "colab": {
          "base_uri": "https://localhost:8080/"
        },
        "outputId": "8a4b1af2-a720-4ec5-a5fa-65de3a834855"
      },
      "source": [
        "# Total de sementes germinadas por dia\n",
        "total_dias = dados_germinacao.sum()\n",
        "total_dias"
      ],
      "execution_count": 6,
      "outputs": [
        {
          "output_type": "execute_result",
          "data": {
            "text/plain": [
              "Dias de Armazenamento\n",
              "0     11\n",
              "5     10\n",
              "10    12\n",
              "15    12\n",
              "dtype: int64"
            ]
          },
          "metadata": {
            "tags": []
          },
          "execution_count": 6
        }
      ]
    },
    {
      "cell_type": "code",
      "metadata": {
        "id": "29Hzl-Vt-M-P",
        "colab": {
          "base_uri": "https://localhost:8080/"
        },
        "outputId": "6c3e9301-cacc-4722-f91d-39949e95f463"
      },
      "source": [
        "# Total de sementes germinadas por tipo de tratamento\n",
        "total_tratamentos = dados_germinacao_T.sum()\n",
        "total_tratamentos"
      ],
      "execution_count": 7,
      "outputs": [
        {
          "output_type": "execute_result",
          "data": {
            "text/plain": [
              "Tipo de Tratamento\n",
              "Controle    12\n",
              "A            8\n",
              "B           14\n",
              "C           11\n",
              "dtype: int64"
            ]
          },
          "metadata": {
            "tags": []
          },
          "execution_count": 7
        }
      ]
    },
    {
      "cell_type": "code",
      "metadata": {
        "id": "E9Rn7Ta--hXV",
        "colab": {
          "base_uri": "https://localhost:8080/"
        },
        "outputId": "a256c102-629a-4da8-e967-bc0e19ada572"
      },
      "source": [
        "# Total de Sementes germinadas no experimento\n",
        "total_germinadas = total_tratamentos.sum()\n",
        "total_germinadas"
      ],
      "execution_count": 8,
      "outputs": [
        {
          "output_type": "execute_result",
          "data": {
            "text/plain": [
              "45"
            ]
          },
          "metadata": {
            "tags": []
          },
          "execution_count": 8
        }
      ]
    },
    {
      "cell_type": "markdown",
      "metadata": {
        "id": "mz3i6WPFdr2F"
      },
      "source": [
        "#### Relativizando os dados (Frequência Relativa)\n",
        "Criando DataFrames em proporção/porcentagem a partir dos dados de germinação, do total de sementes germinadas por dia, do total de sementes germinadas por tipo de tratamento e do total de sementes germinadas no experimentos."
      ]
    },
    {
      "cell_type": "code",
      "metadata": {
        "id": "WANvY9VUhYWN",
        "colab": {
          "base_uri": "https://localhost:8080/",
          "height": 206
        },
        "outputId": "5b9d3c2a-8274-4b8a-f984-b6ee5879fb11"
      },
      "source": [
        "dados_proporcao = dados_germinacao.apply(lambda x: 100 * x/dados_germinacao.shape[0])\n",
        "dados_proporcao"
      ],
      "execution_count": 9,
      "outputs": [
        {
          "output_type": "execute_result",
          "data": {
            "text/html": [
              "<div>\n",
              "<style scoped>\n",
              "    .dataframe tbody tr th:only-of-type {\n",
              "        vertical-align: middle;\n",
              "    }\n",
              "\n",
              "    .dataframe tbody tr th {\n",
              "        vertical-align: top;\n",
              "    }\n",
              "\n",
              "    .dataframe thead th {\n",
              "        text-align: right;\n",
              "    }\n",
              "</style>\n",
              "<table border=\"1\" class=\"dataframe\">\n",
              "  <thead>\n",
              "    <tr style=\"text-align: right;\">\n",
              "      <th>Dias de Armazenamento</th>\n",
              "      <th>0</th>\n",
              "      <th>5</th>\n",
              "      <th>10</th>\n",
              "      <th>15</th>\n",
              "    </tr>\n",
              "    <tr>\n",
              "      <th>Tipo de Tratamento</th>\n",
              "      <th></th>\n",
              "      <th></th>\n",
              "      <th></th>\n",
              "      <th></th>\n",
              "    </tr>\n",
              "  </thead>\n",
              "  <tbody>\n",
              "    <tr>\n",
              "      <th>Controle</th>\n",
              "      <td>75.0</td>\n",
              "      <td>75.0</td>\n",
              "      <td>75.0</td>\n",
              "      <td>75.0</td>\n",
              "    </tr>\n",
              "    <tr>\n",
              "      <th>A</th>\n",
              "      <td>50.0</td>\n",
              "      <td>50.0</td>\n",
              "      <td>50.0</td>\n",
              "      <td>50.0</td>\n",
              "    </tr>\n",
              "    <tr>\n",
              "      <th>B</th>\n",
              "      <td>75.0</td>\n",
              "      <td>75.0</td>\n",
              "      <td>100.0</td>\n",
              "      <td>100.0</td>\n",
              "    </tr>\n",
              "    <tr>\n",
              "      <th>C</th>\n",
              "      <td>75.0</td>\n",
              "      <td>50.0</td>\n",
              "      <td>75.0</td>\n",
              "      <td>75.0</td>\n",
              "    </tr>\n",
              "  </tbody>\n",
              "</table>\n",
              "</div>"
            ],
            "text/plain": [
              "Dias de Armazenamento     0     5     10     15\n",
              "Tipo de Tratamento                             \n",
              "Controle               75.0  75.0   75.0   75.0\n",
              "A                      50.0  50.0   50.0   50.0\n",
              "B                      75.0  75.0  100.0  100.0\n",
              "C                      75.0  50.0   75.0   75.0"
            ]
          },
          "metadata": {
            "tags": []
          },
          "execution_count": 9
        }
      ]
    },
    {
      "cell_type": "code",
      "metadata": {
        "colab": {
          "base_uri": "https://localhost:8080/",
          "height": 206
        },
        "id": "bCicXkESRkbz",
        "outputId": "8c272dd8-1957-44bb-8f33-bc4a70959953"
      },
      "source": [
        "dados_proporcao_T = dados_proporcao.T\n",
        "dados_proporcao_T"
      ],
      "execution_count": 10,
      "outputs": [
        {
          "output_type": "execute_result",
          "data": {
            "text/html": [
              "<div>\n",
              "<style scoped>\n",
              "    .dataframe tbody tr th:only-of-type {\n",
              "        vertical-align: middle;\n",
              "    }\n",
              "\n",
              "    .dataframe tbody tr th {\n",
              "        vertical-align: top;\n",
              "    }\n",
              "\n",
              "    .dataframe thead th {\n",
              "        text-align: right;\n",
              "    }\n",
              "</style>\n",
              "<table border=\"1\" class=\"dataframe\">\n",
              "  <thead>\n",
              "    <tr style=\"text-align: right;\">\n",
              "      <th>Tipo de Tratamento</th>\n",
              "      <th>Controle</th>\n",
              "      <th>A</th>\n",
              "      <th>B</th>\n",
              "      <th>C</th>\n",
              "    </tr>\n",
              "    <tr>\n",
              "      <th>Dias de Armazenamento</th>\n",
              "      <th></th>\n",
              "      <th></th>\n",
              "      <th></th>\n",
              "      <th></th>\n",
              "    </tr>\n",
              "  </thead>\n",
              "  <tbody>\n",
              "    <tr>\n",
              "      <th>0</th>\n",
              "      <td>75.0</td>\n",
              "      <td>50.0</td>\n",
              "      <td>75.0</td>\n",
              "      <td>75.0</td>\n",
              "    </tr>\n",
              "    <tr>\n",
              "      <th>5</th>\n",
              "      <td>75.0</td>\n",
              "      <td>50.0</td>\n",
              "      <td>75.0</td>\n",
              "      <td>50.0</td>\n",
              "    </tr>\n",
              "    <tr>\n",
              "      <th>10</th>\n",
              "      <td>75.0</td>\n",
              "      <td>50.0</td>\n",
              "      <td>100.0</td>\n",
              "      <td>75.0</td>\n",
              "    </tr>\n",
              "    <tr>\n",
              "      <th>15</th>\n",
              "      <td>75.0</td>\n",
              "      <td>50.0</td>\n",
              "      <td>100.0</td>\n",
              "      <td>75.0</td>\n",
              "    </tr>\n",
              "  </tbody>\n",
              "</table>\n",
              "</div>"
            ],
            "text/plain": [
              "Tipo de Tratamento     Controle     A      B     C\n",
              "Dias de Armazenamento                             \n",
              "0                          75.0  50.0   75.0  75.0\n",
              "5                          75.0  50.0   75.0  50.0\n",
              "10                         75.0  50.0  100.0  75.0\n",
              "15                         75.0  50.0  100.0  75.0"
            ]
          },
          "metadata": {
            "tags": []
          },
          "execution_count": 10
        }
      ]
    },
    {
      "cell_type": "code",
      "metadata": {
        "colab": {
          "base_uri": "https://localhost:8080/"
        },
        "id": "vVQ8qwrbERxu",
        "outputId": "8357aabd-f84e-46a6-cbe0-d8a6cd700ba9"
      },
      "source": [
        "total_dias_prop = total_dias.apply(lambda x: 100 * x/16)\n",
        "total_dias_prop"
      ],
      "execution_count": 11,
      "outputs": [
        {
          "output_type": "execute_result",
          "data": {
            "text/plain": [
              "Dias de Armazenamento\n",
              "0     68.75\n",
              "5     62.50\n",
              "10    75.00\n",
              "15    75.00\n",
              "dtype: float64"
            ]
          },
          "metadata": {
            "tags": []
          },
          "execution_count": 11
        }
      ]
    },
    {
      "cell_type": "code",
      "metadata": {
        "colab": {
          "base_uri": "https://localhost:8080/"
        },
        "id": "rdQ2PbxMEv3Q",
        "outputId": "7c04788b-1ade-4d0f-a77f-49e36e37c760"
      },
      "source": [
        "total_tratamentos_prop = total_tratamentos.apply(lambda x: 100 * x/16)\n",
        "total_tratamentos_prop"
      ],
      "execution_count": 12,
      "outputs": [
        {
          "output_type": "execute_result",
          "data": {
            "text/plain": [
              "Tipo de Tratamento\n",
              "Controle    75.00\n",
              "A           50.00\n",
              "B           87.50\n",
              "C           68.75\n",
              "dtype: float64"
            ]
          },
          "metadata": {
            "tags": []
          },
          "execution_count": 12
        }
      ]
    },
    {
      "cell_type": "code",
      "metadata": {
        "colab": {
          "base_uri": "https://localhost:8080/"
        },
        "id": "9rW3s_TEEyck",
        "outputId": "fc690c4f-2a8b-4ab5-b3aa-d7853747def2"
      },
      "source": [
        "total_germinadas_prop = 100 * total_germinadas/64\n",
        "total_germinadas_prop"
      ],
      "execution_count": 13,
      "outputs": [
        {
          "output_type": "execute_result",
          "data": {
            "text/plain": [
              "70.3125"
            ]
          },
          "metadata": {
            "tags": []
          },
          "execution_count": 13
        }
      ]
    },
    {
      "cell_type": "markdown",
      "metadata": {
        "id": "LAQIzM2J4GN6"
      },
      "source": [
        "### Medidas Descritivas"
      ]
    },
    {
      "cell_type": "code",
      "metadata": {
        "id": "KmpGRKcn4AXH"
      },
      "source": [
        "# Função para calcular o coeficiente de variância (CV)\n",
        "def coeficiente_variancia(table):\n",
        "    return 100 * table.std() / table.mean()\n",
        "# Função para calcular a amplitude\n",
        "def amplitude(table):\n",
        "    return table.max() - table.min()\n",
        "\n",
        "# Utilizando método aggregate do Pandas para aplicar medidas de posição e dispersão ao DataFrame\n",
        "medidas_descritivas = dados_proporcao.agg([\"min\",\"max\",\"mean\",\"median\",\"var\",\"std\",coeficiente_variancia,amplitude])\n",
        "medidas_T_descritivas = dados_proporcao_T.agg([\"min\",\"max\",\"mean\",\"median\",\"var\",\"std\",coeficiente_variancia,amplitude])\n",
        "medidas_descritivas_dias = total_dias_prop.agg([\"min\",\"max\",\"mean\",\"median\",\"var\",\"std\",coeficiente_variancia,amplitude])\n",
        "medidas_descritivas_tratamentos = total_tratamentos_prop.agg([\"min\",\"max\",\"mean\",\"median\",\"var\",\"std\",coeficiente_variancia,amplitude])"
      ],
      "execution_count": 14,
      "outputs": []
    },
    {
      "cell_type": "code",
      "metadata": {
        "id": "6aAIdbsaarpu"
      },
      "source": [
        "# Renomeando index do DataFrame de medidas descritivas\n",
        "novos_nomes = {\n",
        "    \"min\":\"Minimo\",\n",
        "    \"max\": \"Maximo\",\n",
        "    \"mean\":\"Media\",\n",
        "    \"median\": \"Mediana\",\n",
        "    \"var\": \"Variancia\",\n",
        "    \"std\": \"Desvio-padrao\",\n",
        "    \"coeficiente_variancia\":\"Coeficiente de Variancia\",\n",
        "    \"amplitude\": \"Amplitude\"\n",
        "}\n",
        "medidas_descritivas = medidas_descritivas.rename(novos_nomes)\n",
        "medidas_T_descritivas = medidas_T_descritivas.rename(novos_nomes)\n",
        "\n",
        "medidas_descritivas_dias = medidas_descritivas_dias.rename(novos_nomes)\n",
        "medidas_descritivas_tratamentos = medidas_descritivas_tratamentos.rename(novos_nomes)"
      ],
      "execution_count": 15,
      "outputs": []
    },
    {
      "cell_type": "code",
      "metadata": {
        "id": "XnnLq6g5cZKp"
      },
      "source": [
        "# Arredondando casas decimais das medidas descritivas e de dispersão\n",
        "medidas_descritivas = medidas_descritivas.round(3)\n",
        "medidas_T_descritivas = medidas_T_descritivas.round(3)\n",
        "medidas_descritivas_dias = medidas_descritivas_dias.round(3)\n",
        "medidas_descritivas_tratamentos = medidas_descritivas_tratamentos.round(3)"
      ],
      "execution_count": 16,
      "outputs": []
    },
    {
      "cell_type": "code",
      "metadata": {
        "colab": {
          "base_uri": "https://localhost:8080/",
          "height": 300
        },
        "id": "OKH1dmCKgFFi",
        "outputId": "4d5d32d1-c34d-49f5-f913-1f7e251fa9d4"
      },
      "source": [
        "medidas_descritivas"
      ],
      "execution_count": 17,
      "outputs": [
        {
          "output_type": "execute_result",
          "data": {
            "text/html": [
              "<div>\n",
              "<style scoped>\n",
              "    .dataframe tbody tr th:only-of-type {\n",
              "        vertical-align: middle;\n",
              "    }\n",
              "\n",
              "    .dataframe tbody tr th {\n",
              "        vertical-align: top;\n",
              "    }\n",
              "\n",
              "    .dataframe thead th {\n",
              "        text-align: right;\n",
              "    }\n",
              "</style>\n",
              "<table border=\"1\" class=\"dataframe\">\n",
              "  <thead>\n",
              "    <tr style=\"text-align: right;\">\n",
              "      <th></th>\n",
              "      <th>0</th>\n",
              "      <th>5</th>\n",
              "      <th>10</th>\n",
              "      <th>15</th>\n",
              "    </tr>\n",
              "  </thead>\n",
              "  <tbody>\n",
              "    <tr>\n",
              "      <th>Minimo</th>\n",
              "      <td>50.000</td>\n",
              "      <td>50.000</td>\n",
              "      <td>50.000</td>\n",
              "      <td>50.000</td>\n",
              "    </tr>\n",
              "    <tr>\n",
              "      <th>Maximo</th>\n",
              "      <td>75.000</td>\n",
              "      <td>75.000</td>\n",
              "      <td>100.000</td>\n",
              "      <td>100.000</td>\n",
              "    </tr>\n",
              "    <tr>\n",
              "      <th>Media</th>\n",
              "      <td>68.750</td>\n",
              "      <td>62.500</td>\n",
              "      <td>75.000</td>\n",
              "      <td>75.000</td>\n",
              "    </tr>\n",
              "    <tr>\n",
              "      <th>Mediana</th>\n",
              "      <td>75.000</td>\n",
              "      <td>62.500</td>\n",
              "      <td>75.000</td>\n",
              "      <td>75.000</td>\n",
              "    </tr>\n",
              "    <tr>\n",
              "      <th>Variancia</th>\n",
              "      <td>156.250</td>\n",
              "      <td>208.333</td>\n",
              "      <td>416.667</td>\n",
              "      <td>416.667</td>\n",
              "    </tr>\n",
              "    <tr>\n",
              "      <th>Desvio-padrao</th>\n",
              "      <td>12.500</td>\n",
              "      <td>14.434</td>\n",
              "      <td>20.412</td>\n",
              "      <td>20.412</td>\n",
              "    </tr>\n",
              "    <tr>\n",
              "      <th>Coeficiente de Variancia</th>\n",
              "      <td>18.182</td>\n",
              "      <td>23.094</td>\n",
              "      <td>27.217</td>\n",
              "      <td>27.217</td>\n",
              "    </tr>\n",
              "    <tr>\n",
              "      <th>Amplitude</th>\n",
              "      <td>25.000</td>\n",
              "      <td>25.000</td>\n",
              "      <td>50.000</td>\n",
              "      <td>50.000</td>\n",
              "    </tr>\n",
              "  </tbody>\n",
              "</table>\n",
              "</div>"
            ],
            "text/plain": [
              "                                0        5       10       15\n",
              "Minimo                     50.000   50.000   50.000   50.000\n",
              "Maximo                     75.000   75.000  100.000  100.000\n",
              "Media                      68.750   62.500   75.000   75.000\n",
              "Mediana                    75.000   62.500   75.000   75.000\n",
              "Variancia                 156.250  208.333  416.667  416.667\n",
              "Desvio-padrao              12.500   14.434   20.412   20.412\n",
              "Coeficiente de Variancia   18.182   23.094   27.217   27.217\n",
              "Amplitude                  25.000   25.000   50.000   50.000"
            ]
          },
          "metadata": {
            "tags": []
          },
          "execution_count": 17
        }
      ]
    },
    {
      "cell_type": "code",
      "metadata": {
        "colab": {
          "base_uri": "https://localhost:8080/",
          "height": 300
        },
        "id": "-nByBq8lRw-K",
        "outputId": "f472fe90-e408-48f6-d0fa-e0c2c8f8cadb"
      },
      "source": [
        "medidas_T_descritivas"
      ],
      "execution_count": 18,
      "outputs": [
        {
          "output_type": "execute_result",
          "data": {
            "text/html": [
              "<div>\n",
              "<style scoped>\n",
              "    .dataframe tbody tr th:only-of-type {\n",
              "        vertical-align: middle;\n",
              "    }\n",
              "\n",
              "    .dataframe tbody tr th {\n",
              "        vertical-align: top;\n",
              "    }\n",
              "\n",
              "    .dataframe thead th {\n",
              "        text-align: right;\n",
              "    }\n",
              "</style>\n",
              "<table border=\"1\" class=\"dataframe\">\n",
              "  <thead>\n",
              "    <tr style=\"text-align: right;\">\n",
              "      <th></th>\n",
              "      <th>Controle</th>\n",
              "      <th>A</th>\n",
              "      <th>B</th>\n",
              "      <th>C</th>\n",
              "    </tr>\n",
              "  </thead>\n",
              "  <tbody>\n",
              "    <tr>\n",
              "      <th>Minimo</th>\n",
              "      <td>75.0</td>\n",
              "      <td>50.0</td>\n",
              "      <td>75.000</td>\n",
              "      <td>50.000</td>\n",
              "    </tr>\n",
              "    <tr>\n",
              "      <th>Maximo</th>\n",
              "      <td>75.0</td>\n",
              "      <td>50.0</td>\n",
              "      <td>100.000</td>\n",
              "      <td>75.000</td>\n",
              "    </tr>\n",
              "    <tr>\n",
              "      <th>Media</th>\n",
              "      <td>75.0</td>\n",
              "      <td>50.0</td>\n",
              "      <td>87.500</td>\n",
              "      <td>68.750</td>\n",
              "    </tr>\n",
              "    <tr>\n",
              "      <th>Mediana</th>\n",
              "      <td>75.0</td>\n",
              "      <td>50.0</td>\n",
              "      <td>87.500</td>\n",
              "      <td>75.000</td>\n",
              "    </tr>\n",
              "    <tr>\n",
              "      <th>Variancia</th>\n",
              "      <td>0.0</td>\n",
              "      <td>0.0</td>\n",
              "      <td>208.333</td>\n",
              "      <td>156.250</td>\n",
              "    </tr>\n",
              "    <tr>\n",
              "      <th>Desvio-padrao</th>\n",
              "      <td>0.0</td>\n",
              "      <td>0.0</td>\n",
              "      <td>14.434</td>\n",
              "      <td>12.500</td>\n",
              "    </tr>\n",
              "    <tr>\n",
              "      <th>Coeficiente de Variancia</th>\n",
              "      <td>0.0</td>\n",
              "      <td>0.0</td>\n",
              "      <td>16.496</td>\n",
              "      <td>18.182</td>\n",
              "    </tr>\n",
              "    <tr>\n",
              "      <th>Amplitude</th>\n",
              "      <td>0.0</td>\n",
              "      <td>0.0</td>\n",
              "      <td>25.000</td>\n",
              "      <td>25.000</td>\n",
              "    </tr>\n",
              "  </tbody>\n",
              "</table>\n",
              "</div>"
            ],
            "text/plain": [
              "                          Controle     A        B        C\n",
              "Minimo                        75.0  50.0   75.000   50.000\n",
              "Maximo                        75.0  50.0  100.000   75.000\n",
              "Media                         75.0  50.0   87.500   68.750\n",
              "Mediana                       75.0  50.0   87.500   75.000\n",
              "Variancia                      0.0   0.0  208.333  156.250\n",
              "Desvio-padrao                  0.0   0.0   14.434   12.500\n",
              "Coeficiente de Variancia       0.0   0.0   16.496   18.182\n",
              "Amplitude                      0.0   0.0   25.000   25.000"
            ]
          },
          "metadata": {
            "tags": []
          },
          "execution_count": 18
        }
      ]
    },
    {
      "cell_type": "code",
      "metadata": {
        "colab": {
          "base_uri": "https://localhost:8080/"
        },
        "id": "Nmk6IppwFZof",
        "outputId": "463b6e18-6b15-4509-9563-07aed73f727f"
      },
      "source": [
        "medidas_descritivas_dias"
      ],
      "execution_count": 19,
      "outputs": [
        {
          "output_type": "execute_result",
          "data": {
            "text/plain": [
              "Minimo                      62.500\n",
              "Maximo                      75.000\n",
              "Media                       70.312\n",
              "Mediana                     71.875\n",
              "Variancia                   35.807\n",
              "Desvio-padrao                5.984\n",
              "Coeficiente de Variancia     8.510\n",
              "Amplitude                   12.500\n",
              "dtype: float64"
            ]
          },
          "metadata": {
            "tags": []
          },
          "execution_count": 19
        }
      ]
    },
    {
      "cell_type": "code",
      "metadata": {
        "colab": {
          "base_uri": "https://localhost:8080/"
        },
        "id": "CsMTxi7aFdnw",
        "outputId": "455e89a3-8eec-4682-dbd0-59877edc8b83"
      },
      "source": [
        "medidas_descritivas_tratamentos"
      ],
      "execution_count": 20,
      "outputs": [
        {
          "output_type": "execute_result",
          "data": {
            "text/plain": [
              "Minimo                       50.000\n",
              "Maximo                       87.500\n",
              "Media                        70.312\n",
              "Mediana                      71.875\n",
              "Variancia                   244.141\n",
              "Desvio-padrao                15.625\n",
              "Coeficiente de Variancia     22.222\n",
              "Amplitude                    37.500\n",
              "dtype: float64"
            ]
          },
          "metadata": {
            "tags": []
          },
          "execution_count": 20
        }
      ]
    },
    {
      "cell_type": "markdown",
      "metadata": {
        "id": "OvjCK6YK4iCa"
      },
      "source": [
        "### Gráficos Gerais"
      ]
    },
    {
      "cell_type": "markdown",
      "metadata": {
        "id": "bi74dytKglWl"
      },
      "source": [
        "#### Boxplots"
      ]
    },
    {
      "cell_type": "code",
      "metadata": {
        "colab": {
          "base_uri": "https://localhost:8080/",
          "height": 402
        },
        "id": "R0WWApi7AvjT",
        "outputId": "0cc75a87-ae2b-48bc-d821-f3a738a30da3"
      },
      "source": [
        "# Utilizando Seaborn para plotar boxplots\n",
        "sns.catplot(kind=\"box\", data=dados_proporcao)"
      ],
      "execution_count": 21,
      "outputs": [
        {
          "output_type": "execute_result",
          "data": {
            "text/plain": [
              "<seaborn.axisgrid.FacetGrid at 0x7f7b6a757050>"
            ]
          },
          "metadata": {
            "tags": []
          },
          "execution_count": 21
        },
        {
          "output_type": "display_data",
          "data": {
            "image/png": "[encoded data removed]",
            "text/plain": [
              "<Figure size 360x360 with 1 Axes>"
            ]
          },
          "metadata": {
            "tags": [],
            "needs_background": "light"
          }
        }
      ]
    },
    {
      "cell_type": "code",
      "metadata": {
        "colab": {
          "base_uri": "https://localhost:8080/",
          "height": 402
        },
        "id": "lHcadVIoR4xr",
        "outputId": "656d6f25-928f-44a7-f240-1005f13342bb"
      },
      "source": [
        "sns.catplot(kind=\"box\", data=dados_proporcao_T)"
      ],
      "execution_count": 22,
      "outputs": [
        {
          "output_type": "execute_result",
          "data": {
            "text/plain": [
              "<seaborn.axisgrid.FacetGrid at 0x7f7b4ccaa210>"
            ]
          },
          "metadata": {
            "tags": []
          },
          "execution_count": 22
        },
        {
          "output_type": "display_data",
          "data": {
            "image/png": "[encoded data removed]",
            "text/plain": [
              "<Figure size 360x360 with 1 Axes>"
            ]
          },
          "metadata": {
            "tags": [],
            "needs_background": "light"
          }
        }
      ]
    },
    {
      "cell_type": "markdown",
      "metadata": {
        "id": "D0gAFKkxgqB3"
      },
      "source": [
        "#### Gráficos de Barra"
      ]
    },
    {
      "cell_type": "code",
      "metadata": {
        "id": "da9LRszJ4ZZE",
        "colab": {
          "base_uri": "https://localhost:8080/",
          "height": 206
        },
        "outputId": "b83eb7ac-1588-4c16-a35b-2e18855676dc"
      },
      "source": [
        "# Criando dataframe com os dados empilhados e índices como coluna\n",
        "dados_desempilhados_porcentagem = pd.DataFrame(dados_proporcao.stack(), columns = [\"Porcentagem Germinada\"]).reset_index()\n",
        "dados_desempilhados_porcentagem.head()"
      ],
      "execution_count": 23,
      "outputs": [
        {
          "output_type": "execute_result",
          "data": {
            "text/html": [
              "<div>\n",
              "<style scoped>\n",
              "    .dataframe tbody tr th:only-of-type {\n",
              "        vertical-align: middle;\n",
              "    }\n",
              "\n",
              "    .dataframe tbody tr th {\n",
              "        vertical-align: top;\n",
              "    }\n",
              "\n",
              "    .dataframe thead th {\n",
              "        text-align: right;\n",
              "    }\n",
              "</style>\n",
              "<table border=\"1\" class=\"dataframe\">\n",
              "  <thead>\n",
              "    <tr style=\"text-align: right;\">\n",
              "      <th></th>\n",
              "      <th>Tipo de Tratamento</th>\n",
              "      <th>Dias de Armazenamento</th>\n",
              "      <th>Porcentagem Germinada</th>\n",
              "    </tr>\n",
              "  </thead>\n",
              "  <tbody>\n",
              "    <tr>\n",
              "      <th>0</th>\n",
              "      <td>Controle</td>\n",
              "      <td>0</td>\n",
              "      <td>75.0</td>\n",
              "    </tr>\n",
              "    <tr>\n",
              "      <th>1</th>\n",
              "      <td>Controle</td>\n",
              "      <td>5</td>\n",
              "      <td>75.0</td>\n",
              "    </tr>\n",
              "    <tr>\n",
              "      <th>2</th>\n",
              "      <td>Controle</td>\n",
              "      <td>10</td>\n",
              "      <td>75.0</td>\n",
              "    </tr>\n",
              "    <tr>\n",
              "      <th>3</th>\n",
              "      <td>Controle</td>\n",
              "      <td>15</td>\n",
              "      <td>75.0</td>\n",
              "    </tr>\n",
              "    <tr>\n",
              "      <th>4</th>\n",
              "      <td>A</td>\n",
              "      <td>0</td>\n",
              "      <td>50.0</td>\n",
              "    </tr>\n",
              "  </tbody>\n",
              "</table>\n",
              "</div>"
            ],
            "text/plain": [
              "  Tipo de Tratamento Dias de Armazenamento  Porcentagem Germinada\n",
              "0           Controle                     0                   75.0\n",
              "1           Controle                     5                   75.0\n",
              "2           Controle                    10                   75.0\n",
              "3           Controle                    15                   75.0\n",
              "4                  A                     0                   50.0"
            ]
          },
          "metadata": {
            "tags": []
          },
          "execution_count": 23
        }
      ]
    },
    {
      "cell_type": "code",
      "metadata": {
        "colab": {
          "base_uri": "https://localhost:8080/",
          "height": 402
        },
        "id": "rYPpZA19vayx",
        "outputId": "f6fa8a16-a188-4d5e-9b6b-d19aec1c9615"
      },
      "source": [
        "# Utilizando biblioteca Seaborn para plotar um gráfico de PORCENTAGEM DE GERMINADAS por DIAS ARMAZENADOS\n",
        "sns.catplot(kind=\"bar\",x='Dias de Armazenamento', y='Porcentagem Germinada', hue='Tipo de Tratamento', data=dados_desempilhados_porcentagem)"
      ],
      "execution_count": 24,
      "outputs": [
        {
          "output_type": "execute_result",
          "data": {
            "text/plain": [
              "<seaborn.axisgrid.FacetGrid at 0x7f7b4c703090>"
            ]
          },
          "metadata": {
            "tags": []
          },
          "execution_count": 24
        },
        {
          "output_type": "display_data",
          "data": {
            "image/png": "[encoded data removed]",
            "text/plain": [
              "<Figure size 464.375x360 with 1 Axes>"
            ]
          },
          "metadata": {
            "tags": [],
            "needs_background": "light"
          }
        }
      ]
    },
    {
      "cell_type": "code",
      "metadata": {
        "colab": {
          "base_uri": "https://localhost:8080/",
          "height": 402
        },
        "id": "__ESXIlXWUrH",
        "outputId": "09c9cd9c-b8ac-49a8-d6db-1bb6a99b9a18"
      },
      "source": [
        "# Utilizando biblioteca Seaborn para plotar um gráfico de PORCENTAGEM DE GERMINADAS por TIPO DE TRATAMENTO\n",
        "sns.catplot(kind=\"bar\",x='Tipo de Tratamento', y='Porcentagem Germinada', hue='Dias de Armazenamento', data=dados_desempilhados_porcentagem)"
      ],
      "execution_count": 25,
      "outputs": [
        {
          "output_type": "execute_result",
          "data": {
            "text/plain": [
              "<seaborn.axisgrid.FacetGrid at 0x7f7b4c703c50>"
            ]
          },
          "metadata": {
            "tags": []
          },
          "execution_count": 25
        },
        {
          "output_type": "display_data",
          "data": {
            "image/png": "[encoded data removed]",
            "text/plain": [
              "<Figure size 491.125x360 with 1 Axes>"
            ]
          },
          "metadata": {
            "tags": [],
            "needs_background": "light"
          }
        }
      ]
    },
    {
      "cell_type": "markdown",
      "metadata": {
        "id": "CHRybKiH47hx"
      },
      "source": [
        "### Incertezas e Comparações Estatísticas"
      ]
    },
    {
      "cell_type": "markdown",
      "metadata": {
        "id": "SNP0otGIh-rV"
      },
      "source": [
        "#### Calculando a estimativa intervalar para determinada semente em determinado dia"
      ]
    },
    {
      "cell_type": "code",
      "metadata": {
        "id": "3pCKf7UrrF1o"
      },
      "source": [
        "# Utilizando dados de proporção decimais para o cálculo da margem de erro\n",
        "margem_erro = dados_proporcao/100\n",
        "\n",
        "# Calculando a variância de cada amostra de determinado dia e tipo de tratamento\n",
        "for dia, tipos in margem_erro.iteritems():\n",
        "  for tratamento, valor in tipos.iteritems():\n",
        "    margem_erro[dia][tratamento] = 100 * valor * (1 - valor)"
      ],
      "execution_count": 26,
      "outputs": []
    },
    {
      "cell_type": "code",
      "metadata": {
        "colab": {
          "base_uri": "https://localhost:8080/"
        },
        "id": "nFDtGlcqp4gV",
        "outputId": "86133118-f320-49c8-a4e6-2a1fc4635219"
      },
      "source": [
        "# Mostrando as variâncias de cada tratamento para cada dia\n",
        "print(tabulate(margem_erro, headers='keys', tablefmt='fancy_grid', numalign=\"center\"))"
      ],
      "execution_count": 27,
      "outputs": [
        {
          "output_type": "stream",
          "text": [
            "╒══════════════════════╤═══════╤═══════╤═══════╤═══════╕\n",
            "│ Tipo de Tratamento   │   0   │   5   │  10   │  15   │\n",
            "╞══════════════════════╪═══════╪═══════╪═══════╪═══════╡\n",
            "│ Controle             │ 18.75 │ 18.75 │ 18.75 │ 18.75 │\n",
            "├──────────────────────┼───────┼───────┼───────┼───────┤\n",
            "│ A                    │  25   │  25   │  25   │  25   │\n",
            "├──────────────────────┼───────┼───────┼───────┼───────┤\n",
            "│ B                    │ 18.75 │ 18.75 │   0   │   0   │\n",
            "├──────────────────────┼───────┼───────┼───────┼───────┤\n",
            "│ C                    │ 18.75 │  25   │ 18.75 │ 18.75 │\n",
            "╘══════════════════════╧═══════╧═══════╧═══════╧═══════╛\n"
          ],
          "name": "stdout"
        }
      ]
    },
    {
      "cell_type": "markdown",
      "metadata": {
        "id": "mpZ6Mw0Bj4pI"
      },
      "source": [
        "##### Sementes sem tratamento (Controle)"
      ]
    },
    {
      "cell_type": "code",
      "metadata": {
        "colab": {
          "base_uri": "https://localhost:8080/"
        },
        "id": "1GXzoon0X5HX",
        "outputId": "9bb552a3-ce38-4e33-c1bb-6e0c46d30857"
      },
      "source": [
        "# Calculando estimativa intervalar da PORCENTAGEM de germinação para as sementes Controle armazenadas por ZERO dias\n",
        "intervalo_zero_dias = 2 * np.sqrt(margem_erro[\"0\"][\"Controle\"]/4)\n",
        "\n",
        "# Calculando Limite inferior para sementes Controle em 0 dias\n",
        "lim_inf_0_contr = dados_proporcao[\"0\"][\"Controle\"] - intervalo_zero_dias\n",
        "lim_inf_0_contr = lim_inf_0_contr.round(2)\n",
        "\n",
        "# Calculando Limite superior para sementes Controle em 0 dias\n",
        "lim_sup_0_contr = dados_proporcao[\"0\"][\"Controle\"] + intervalo_zero_dias\n",
        "lim_sup_0_contr = lim_sup_0_contr.round(2)\n",
        "\n",
        "print(\"O Intervalo de confiança de 95% para as sementes do tipo Controle armazenadas por 0 dias é de (\" + str(lim_inf_0_contr) + \", \" + str(lim_sup_0_contr) + \").\")"
      ],
      "execution_count": 28,
      "outputs": [
        {
          "output_type": "stream",
          "text": [
            "O Intervalo de confiança de 95% para as sementes do tipo Controle armazenadas por 0 dias é de (70.67, 79.33).\n"
          ],
          "name": "stdout"
        }
      ]
    },
    {
      "cell_type": "code",
      "metadata": {
        "colab": {
          "base_uri": "https://localhost:8080/"
        },
        "id": "p2pyRfx4hW93",
        "outputId": "9d7f7cc3-835d-4c7a-b993-72c4e8821858"
      },
      "source": [
        "# Calculando estimativa intervalar da PORCENTAGEM de germinação para as sementes Controle armazenadas por CINCO dias\n",
        "intervalo_cinco_dias = 2 * np.sqrt(margem_erro[\"5\"][\"Controle\"]/4)\n",
        "\n",
        "# Calculando Limite inferior para sementes Controle em 5 dias\n",
        "lim_inf_5_contr = dados_proporcao[\"5\"][\"Controle\"] - intervalo_cinco_dias\n",
        "lim_inf_5_contr = lim_inf_5_contr.round(2)\n",
        "\n",
        "# Calculando Limite superior para sementes Controle em 5 dias\n",
        "lim_sup_5_contr = dados_proporcao[\"5\"][\"Controle\"] + intervalo_cinco_dias\n",
        "lim_sup_5_contr = lim_sup_5_contr.round(2)\n",
        "\n",
        "print(\"O Intervalo de confiança de 95% para as sementes do tipo Controle armazenadas por 5 dias é de (\" + str(lim_inf_5_contr) + \", \" + str(lim_sup_5_contr) + \").\")"
      ],
      "execution_count": 29,
      "outputs": [
        {
          "output_type": "stream",
          "text": [
            "O Intervalo de confiança de 95% para as sementes do tipo Controle armazenadas por 5 dias é de (70.67, 79.33).\n"
          ],
          "name": "stdout"
        }
      ]
    },
    {
      "cell_type": "code",
      "metadata": {
        "colab": {
          "base_uri": "https://localhost:8080/"
        },
        "id": "B-5m1m7XhviK",
        "outputId": "6aa33e81-ca1e-46a3-eb09-c0300e6e9290"
      },
      "source": [
        "# Calculando estimativa intervalar da PORCENTAGEM de germinação para as sementes Controle armazenadas por DEZ dias\n",
        "intervalo_dez_dias = 2 * np.sqrt(margem_erro[\"10\"][\"Controle\"]/4)\n",
        "\n",
        "# Calculando Limite inferior para sementes Controle em 10 dias\n",
        "lim_inf_10_contr = dados_proporcao[\"10\"][\"Controle\"] - intervalo_dez_dias\n",
        "lim_inf_10_contr = lim_inf_10_contr.round(2)\n",
        "\n",
        "# Calculando Limite superior para sementes Controle em 10 dias\n",
        "lim_sup_10_contr = dados_proporcao[\"10\"][\"Controle\"] + intervalo_dez_dias\n",
        "lim_sup_10_contr = lim_sup_10_contr.round(2)\n",
        "\n",
        "print(\"O Intervalo de confiança de 95% para as sementes do tipo Controle armazenadas por 10 dias é de (\" + str(lim_inf_10_contr) + \", \" + str(lim_sup_10_contr) + \").\")"
      ],
      "execution_count": 30,
      "outputs": [
        {
          "output_type": "stream",
          "text": [
            "O Intervalo de confiança de 95% para as sementes do tipo Controle armazenadas por 10 dias é de (70.67, 79.33).\n"
          ],
          "name": "stdout"
        }
      ]
    },
    {
      "cell_type": "code",
      "metadata": {
        "colab": {
          "base_uri": "https://localhost:8080/"
        },
        "id": "ejs69099hviK",
        "outputId": "f89ff0ff-30af-4da4-ed91-0282b47f87fd"
      },
      "source": [
        "# Calculando estimativa intervalar da PORCENTAGEM de germinação para as sementes Controle armazenadas por QUINZE dias\n",
        "intervalo_quinze_dias = 2 * np.sqrt(margem_erro[\"15\"][\"Controle\"]/4)\n",
        "\n",
        "# Calculando Limite inferior para sementes Controle em 15 dias\n",
        "lim_inf_15_contr = dados_proporcao[\"15\"][\"Controle\"] - intervalo_quinze_dias\n",
        "lim_inf_15_contr = lim_inf_15_contr.round(2)\n",
        "\n",
        "# Calculando Limite superior para sementes Controle em 15 dias\n",
        "lim_sup_15_contr = dados_proporcao[\"15\"][\"Controle\"] + intervalo_quinze_dias\n",
        "lim_sup_15_contr = lim_sup_15_contr.round(2)\n",
        "\n",
        "print(\"O Intervalo de confiança de 95% para as sementes do tipo Controle armazenadas por 15 dias é de (\" + str(lim_inf_15_contr) + \", \" + str(lim_sup_15_contr) + \").\")"
      ],
      "execution_count": 31,
      "outputs": [
        {
          "output_type": "stream",
          "text": [
            "O Intervalo de confiança de 95% para as sementes do tipo Controle armazenadas por 15 dias é de (70.67, 79.33).\n"
          ],
          "name": "stdout"
        }
      ]
    },
    {
      "cell_type": "markdown",
      "metadata": {
        "id": "6HxdHhMPj-CJ"
      },
      "source": [
        "##### Sementes tratadas com o Agroquímico do Tipo A"
      ]
    },
    {
      "cell_type": "code",
      "metadata": {
        "colab": {
          "base_uri": "https://localhost:8080/"
        },
        "id": "XvJIWFr0kKIB",
        "outputId": "89875cb7-57cd-4d39-8a50-ce013528a3a9"
      },
      "source": [
        "# Calculando estimativa intervalar da PORCENTAGEM de germinação para as sementes A armazenadas por ZERO dias\n",
        "intervalo_zero_dias = 2 * np.sqrt(margem_erro[\"0\"][\"A\"]/4)\n",
        "\n",
        "# Calculando Limite inferior para sementes A em 0 dias\n",
        "lim_inf_A0 = dados_proporcao[\"0\"][\"A\"] - intervalo_zero_dias\n",
        "\n",
        "# Calculando Limite superior para sementes A em 0 dias\n",
        "lim_sup_A0 = dados_proporcao[\"0\"][\"A\"] + intervalo_zero_dias\n",
        "\n",
        "print(\"O Intervalo de confiança de 95% para as sementes do tipo A armazenadas por 0 dias é de (\" + str(lim_inf_A0) + \", \" + str(lim_sup_A0) + \").\")"
      ],
      "execution_count": 32,
      "outputs": [
        {
          "output_type": "stream",
          "text": [
            "O Intervalo de confiança de 95% para as sementes do tipo A armazenadas por 0 dias é de (45.0, 55.0).\n"
          ],
          "name": "stdout"
        }
      ]
    },
    {
      "cell_type": "code",
      "metadata": {
        "colab": {
          "base_uri": "https://localhost:8080/"
        },
        "id": "i_AeuI78kKIK",
        "outputId": "7f08363a-5cee-47fd-a4ff-ddf65ca8006d"
      },
      "source": [
        "# Calculando estimativa intervalar da PORCENTAGEM de germinação para as sementes A armazenadas por CINCO dias\n",
        "intervalo_cinco_dias = 2 * np.sqrt(margem_erro[\"5\"][\"A\"]/4)\n",
        "\n",
        "# Calculando Limite inferior para sementes A em 5 dias\n",
        "lim_inf_A5 = dados_proporcao[\"5\"][\"A\"] - intervalo_cinco_dias\n",
        "lim_inf_A5 = lim_inf_A5.round(2)\n",
        "\n",
        "# Calculando Limite superior para sementes A em 5 dias\n",
        "lim_sup_A5 = dados_proporcao[\"5\"][\"A\"] + intervalo_cinco_dias\n",
        "lim_sup_A5 = lim_sup_A5.round(2)\n",
        "\n",
        "print(\"O Intervalo de confiança de 95% para as sementes do tipo A armazenadas por 5 dias é de (\" + str(lim_inf_A5) + \", \" + str(lim_sup_A5) + \").\")"
      ],
      "execution_count": 33,
      "outputs": [
        {
          "output_type": "stream",
          "text": [
            "O Intervalo de confiança de 95% para as sementes do tipo A armazenadas por 5 dias é de (45.0, 55.0).\n"
          ],
          "name": "stdout"
        }
      ]
    },
    {
      "cell_type": "code",
      "metadata": {
        "colab": {
          "base_uri": "https://localhost:8080/"
        },
        "id": "xeFYMmmIkKIK",
        "outputId": "0310f8f5-9895-4010-fda2-c006826739cf"
      },
      "source": [
        "# Calculando estimativa intervalar da PORCENTAGEM de germinação para as sementes A armazenadas por DEZ dias\n",
        "intervalo_dez_dias = 2 * np.sqrt(margem_erro[\"10\"][\"A\"]/4)\n",
        "\n",
        "# Calculando Limite inferior para sementes A em 10 dias\n",
        "lim_inf_A10 = dados_proporcao[\"10\"][\"A\"] - intervalo_dez_dias\n",
        "lim_inf_A10 = lim_inf_A10.round(2)\n",
        "\n",
        "# Calculando Limite superior para sementes A em 10 dias\n",
        "lim_sup_A10 = dados_proporcao[\"10\"][\"A\"] + intervalo_dez_dias\n",
        "lim_sup_A10 = lim_sup_A10.round(2)\n",
        "\n",
        "print(\"O Intervalo de confiança de 95% para as sementes do tipo A armazenadas por 10 dias é de (\" + str(lim_inf_A10) + \", \" + str(lim_sup_A10) + \").\")"
      ],
      "execution_count": 34,
      "outputs": [
        {
          "output_type": "stream",
          "text": [
            "O Intervalo de confiança de 95% para as sementes do tipo A armazenadas por 10 dias é de (45.0, 55.0).\n"
          ],
          "name": "stdout"
        }
      ]
    },
    {
      "cell_type": "code",
      "metadata": {
        "colab": {
          "base_uri": "https://localhost:8080/"
        },
        "id": "-2HIdBSEkKIL",
        "outputId": "3d9dd260-a32f-46f7-d479-c5aac8d4f363"
      },
      "source": [
        "# Calculando estimativa intervalar da PORCENTAGEM de germinação para as sementes A armazenadas por QUINZE dias\n",
        "intervalo_quinze_dias = 2 * np.sqrt(margem_erro[\"15\"][\"A\"]/4)\n",
        "\n",
        "# Calculando Limite inferior para sementes A em 15 dias\n",
        "lim_inf_A15 = dados_proporcao[\"15\"][\"A\"] - intervalo_quinze_dias\n",
        "lim_inf_A15 = lim_inf_A15.round(2)\n",
        "\n",
        "# Calculando Limite superior para sementes A em 15 dias\n",
        "lim_sup_A15 = dados_proporcao[\"15\"][\"A\"] + intervalo_quinze_dias\n",
        "lim_sup_A15 = lim_sup_A15.round(2)\n",
        "\n",
        "print(\"O Intervalo de confiança de 95% para as sementes do tipo A armazenadas por 15 dias é de (\" + str(lim_inf_A15) + \", \" + str(lim_sup_A15) + \").\")"
      ],
      "execution_count": 35,
      "outputs": [
        {
          "output_type": "stream",
          "text": [
            "O Intervalo de confiança de 95% para as sementes do tipo A armazenadas por 15 dias é de (45.0, 55.0).\n"
          ],
          "name": "stdout"
        }
      ]
    },
    {
      "cell_type": "markdown",
      "metadata": {
        "id": "ZC6EGZsok9DK"
      },
      "source": [
        "##### Sementes tratadas com o Agroquímico do Tipo B"
      ]
    },
    {
      "cell_type": "code",
      "metadata": {
        "colab": {
          "base_uri": "https://localhost:8080/"
        },
        "id": "PhPeZUXnk9DR",
        "outputId": "25a35374-5e3b-4e72-d43c-6d206a7e2676"
      },
      "source": [
        "# Calculando estimativa intervalar da PORCENTAGEM de germinação para as sementes B armazenadas por ZERO dias\n",
        "intervalo_zero_dias = 2 * np.sqrt(margem_erro[\"0\"][\"B\"]/4)\n",
        "\n",
        "# Calculando Limite inferior para sementes B em 0 dias\n",
        "lim_inf_B0 = dados_proporcao[\"0\"][\"B\"] - intervalo_zero_dias\n",
        "lim_inf_B0 = lim_inf_B0.round(2)\n",
        "\n",
        "# Calculando Limite superior para sementes B em 0 dias\n",
        "lim_sup_B0 = dados_proporcao[\"0\"][\"B\"] + intervalo_zero_dias\n",
        "lim_sup_B0 = lim_sup_B0.round(2)\n",
        "\n",
        "print(\"O Intervalo de confiança de 95% para as sementes do tipo B armazenadas por 0 dias é de (\" + str(lim_inf_B0) + \", \" + str(lim_sup_B0) + \").\")"
      ],
      "execution_count": 36,
      "outputs": [
        {
          "output_type": "stream",
          "text": [
            "O Intervalo de confiança de 95% para as sementes do tipo B armazenadas por 0 dias é de (70.67, 79.33).\n"
          ],
          "name": "stdout"
        }
      ]
    },
    {
      "cell_type": "code",
      "metadata": {
        "colab": {
          "base_uri": "https://localhost:8080/"
        },
        "id": "e_Mr7NNak9DR",
        "outputId": "4b70fb84-d238-41cc-87b1-85c0fc622ca6"
      },
      "source": [
        "# Calculando estimativa intervalar da PORCENTAGEM de germinação para as sementes B armazenadas por CINCO dias\n",
        "intervalo_cinco_dias = 2 * np.sqrt(margem_erro[\"5\"][\"B\"]/4)\n",
        "\n",
        "# Calculando Limite inferior para sementes B em 5 dias\n",
        "lim_inf_B5 = dados_proporcao[\"5\"][\"B\"] - intervalo_cinco_dias\n",
        "lim_inf_B5 = lim_inf_B5.round(2)\n",
        "\n",
        "# Calculando Limite superior para sementes B em 5 dias\n",
        "lim_sup_B5 = dados_proporcao[\"5\"][\"B\"] + intervalo_cinco_dias\n",
        "lim_sup_B5 = lim_sup_B5.round(2)\n",
        "\n",
        "print(\"O Intervalo de confiança de 95% para as sementes do tipo B armazenadas por 5 dias é de (\" + str(lim_inf_B5) + \", \" + str(lim_sup_B5) + \").\")"
      ],
      "execution_count": 37,
      "outputs": [
        {
          "output_type": "stream",
          "text": [
            "O Intervalo de confiança de 95% para as sementes do tipo B armazenadas por 5 dias é de (70.67, 79.33).\n"
          ],
          "name": "stdout"
        }
      ]
    },
    {
      "cell_type": "code",
      "metadata": {
        "id": "j8jphku_k9DS"
      },
      "source": [
        "## VARIÂNCIA ZERO para 10 e 15 dias"
      ],
      "execution_count": 38,
      "outputs": []
    },
    {
      "cell_type": "markdown",
      "metadata": {
        "id": "KiGK43tP311Q"
      },
      "source": [
        "Não faz sentido calcular intervalo de confiança para as sementes do Tipo B armazenadas por 10 e 15 dias uma vez que a variância é zero."
      ]
    },
    {
      "cell_type": "markdown",
      "metadata": {
        "id": "DboVtv64lQIy"
      },
      "source": [
        "##### Sementes tratadas com o Agroquímico do Tipo C"
      ]
    },
    {
      "cell_type": "code",
      "metadata": {
        "colab": {
          "base_uri": "https://localhost:8080/"
        },
        "id": "LFSIjRy8lQI6",
        "outputId": "b3c5ca18-4499-4adc-8c02-a7ad93814b22"
      },
      "source": [
        "# Calculando estimativa intervalar da PORCENTAGEM de germinação para as sementes C armazenadas por ZERO dias\n",
        "intervalo_zero_dias = 2 * np.sqrt(margem_erro[\"0\"][\"C\"]/4)\n",
        "\n",
        "# Calculando Limite inferior para sementes C em 0 dias\n",
        "lim_inf_C0 = dados_proporcao[\"0\"][\"C\"] - intervalo_zero_dias\n",
        "lim_inf_C0 = lim_inf_C0.round(2)\n",
        "\n",
        "# Calculando Limite superior para sementes C em 0 dias\n",
        "lim_sup_C0 = dados_proporcao[\"0\"][\"C\"] + intervalo_zero_dias\n",
        "lim_sup_C0 = lim_sup_C0.round(2)\n",
        "\n",
        "print(\"O Intervalo de confiança de 95% para as sementes do tipo C armazenadas por 0 dias é de (\" + str(lim_inf_C0) + \", \" + str(lim_sup_C0) + \").\")"
      ],
      "execution_count": 39,
      "outputs": [
        {
          "output_type": "stream",
          "text": [
            "O Intervalo de confiança de 95% para as sementes do tipo C armazenadas por 0 dias é de (70.67, 79.33).\n"
          ],
          "name": "stdout"
        }
      ]
    },
    {
      "cell_type": "code",
      "metadata": {
        "colab": {
          "base_uri": "https://localhost:8080/"
        },
        "id": "YwRHuUe1lQI7",
        "outputId": "35722031-55d3-405f-dc2c-90071b2289c1"
      },
      "source": [
        "# Calculando estimativa intervalar da PORCENTAGEM de germinação para as sementes C armazenadas por CINCO dias\n",
        "intervalo_cinco_dias = 2 * np.sqrt(margem_erro[\"5\"][\"C\"]/4)\n",
        "\n",
        "# Calculando Limite inferior para sementes C em 5 dias\n",
        "lim_inf_C5 = dados_proporcao[\"5\"][\"C\"] - intervalo_cinco_dias\n",
        "lim_inf_C5 = lim_inf_C5.round(2)\n",
        "\n",
        "# Calculando Limite superior para sementes C em 5 dias\n",
        "lim_sup_C5 = dados_proporcao[\"5\"][\"C\"] + intervalo_cinco_dias\n",
        "lim_sup_C5 = lim_sup_C5.round(2)\n",
        "\n",
        "print(\"O Intervalo de confiança de 95% para as sementes do tipo C armazenadas por 5 dias é de (\" + str(lim_inf_C5) + \", \" + str(lim_sup_C5) + \").\")"
      ],
      "execution_count": 40,
      "outputs": [
        {
          "output_type": "stream",
          "text": [
            "O Intervalo de confiança de 95% para as sementes do tipo C armazenadas por 5 dias é de (45.0, 55.0).\n"
          ],
          "name": "stdout"
        }
      ]
    },
    {
      "cell_type": "code",
      "metadata": {
        "colab": {
          "base_uri": "https://localhost:8080/"
        },
        "id": "kqUKTGomlQI7",
        "outputId": "f176f697-7463-4471-a88e-cad7071226de"
      },
      "source": [
        "# Calculando estimativa intervalar da PORCENTAGEM de germinação para as sementes C armazenadas por DEZ dias\n",
        "intervalo_dez_dias = 2 * np.sqrt(margem_erro[\"10\"][\"C\"]/4)\n",
        "\n",
        "# Calculando Limite inferior para sementes C em 10 dias\n",
        "lim_inf_C10 = dados_proporcao[\"10\"][\"C\"] - intervalo_dez_dias\n",
        "lim_inf_C10 = lim_inf_C10.round(2)\n",
        "\n",
        "# Calculando Limite superior para sementes C em 10 dias\n",
        "lim_sup_C10 = dados_proporcao[\"10\"][\"C\"] + intervalo_dez_dias\n",
        "lim_sup_C10 = lim_sup_C10.round(2)\n",
        "\n",
        "print(\"O Intervalo de confiança de 95% para as sementes do tipo C armazenadas por 10 dias é de (\" + str(lim_inf_C10) + \", \" + str(lim_sup_C10) + \").\")"
      ],
      "execution_count": 41,
      "outputs": [
        {
          "output_type": "stream",
          "text": [
            "O Intervalo de confiança de 95% para as sementes do tipo C armazenadas por 10 dias é de (70.67, 79.33).\n"
          ],
          "name": "stdout"
        }
      ]
    },
    {
      "cell_type": "code",
      "metadata": {
        "colab": {
          "base_uri": "https://localhost:8080/"
        },
        "id": "JLADYBxQlQI7",
        "outputId": "3ce812aa-df55-4d91-80ee-0b1043dc1041"
      },
      "source": [
        "# Calculando estimativa intervalar da PORCENTAGEM de germinação para as sementes C armazenadas por QUINZE dias\n",
        "intervalo_quinze_dias = 2 * np.sqrt(margem_erro[\"15\"][\"C\"]/4)\n",
        "\n",
        "# Calculando Limite inferior para sementes C em 15 dias\n",
        "lim_inf_C15 = dados_proporcao[\"15\"][\"C\"] - intervalo_quinze_dias\n",
        "lim_inf_C15 = lim_inf_C15.round(2)\n",
        "\n",
        "# Calculando Limite superior para sementes C em 15 dias\n",
        "lim_sup_C15 = dados_proporcao[\"15\"][\"C\"] + intervalo_quinze_dias\n",
        "lim_sup_C15 = lim_sup_C15.round(2)\n",
        "\n",
        "print(\"O Intervalo de confiança de 95% para as sementes do tipo C armazenadas por 15 dias é de (\" + str(lim_inf_C15) + \", \" + str(lim_sup_C15) + \").\")"
      ],
      "execution_count": 42,
      "outputs": [
        {
          "output_type": "stream",
          "text": [
            "O Intervalo de confiança de 95% para as sementes do tipo C armazenadas por 15 dias é de (70.67, 79.33).\n"
          ],
          "name": "stdout"
        }
      ]
    },
    {
      "cell_type": "markdown",
      "metadata": {
        "id": "NDG3nMx13jcz"
      },
      "source": [
        "#### Calculando a estimativa intervalar para todos os dias"
      ]
    },
    {
      "cell_type": "code",
      "metadata": {
        "id": "R7cqyGIuEWNd"
      },
      "source": [
        "# Calculando estimativa intervalar da PORCENTAGEM de germinação para sementes armazenadas por ZERO dias\n",
        "intervalo_zero_dias = 2 * np.sqrt(medidas_descritivas[\"0\"][\"Variancia\"]/16)\n",
        "\n",
        "# Calculando Limite inferior para sementes 0 dias\n",
        "lim_inf_0 = medidas_descritivas[\"0\"][\"Media\"] - intervalo_zero_dias\n",
        "\n",
        "# Calculando Limite superior para sementes 0 dias\n",
        "lim_sup_0 = medidas_descritivas[\"0\"][\"Media\"] + intervalo_zero_dias"
      ],
      "execution_count": 43,
      "outputs": []
    },
    {
      "cell_type": "code",
      "metadata": {
        "id": "OJlosgohhjsi"
      },
      "source": [
        "# Calculando estimativa intervalar da PORCENTAGEM de germinação para sementes armazenadas por CINCO dias\n",
        "intervalo_cinco_dias = 2 * np.sqrt(medidas_descritivas[\"5\"][\"Variancia\"]/16)\n",
        "\n",
        "# Calculando Limite inferior para sementes 5 dias\n",
        "lim_inf_5 = medidas_descritivas[\"5\"][\"Media\"] - intervalo_cinco_dias\n",
        "lim_inf_5 = lim_inf_5.round(2)\n",
        "\n",
        "# Calculando Limite superior para sementes 5 dias\n",
        "lim_sup_5 = medidas_descritivas[\"5\"][\"Media\"] + intervalo_cinco_dias\n",
        "lim_sup_5 = lim_sup_5.round(2)"
      ],
      "execution_count": 44,
      "outputs": []
    },
    {
      "cell_type": "code",
      "metadata": {
        "id": "BGhPNXygi6Np"
      },
      "source": [
        "# Calculando estimativa intervalar da PORCENTAGEM de germinação para sementes armazenadas por DEZ dias\n",
        "intervalo_dez_dias = 2 * np.sqrt(medidas_descritivas[\"10\"][\"Variancia\"]/16)\n",
        "\n",
        "# Calculando Limite inferior para sementes 10 dias\n",
        "lim_inf_10 = medidas_descritivas[\"10\"][\"Media\"] - intervalo_dez_dias\n",
        "lim_inf_10 = lim_inf_10.round(2)\n",
        "\n",
        "# Calculando Limite superior para sementes 10 dias\n",
        "lim_sup_10 = medidas_descritivas[\"10\"][\"Media\"] + intervalo_dez_dias\n",
        "lim_sup_10 = lim_sup_10.round(2)"
      ],
      "execution_count": 45,
      "outputs": []
    },
    {
      "cell_type": "code",
      "metadata": {
        "id": "ro1_kUDKjRUl"
      },
      "source": [
        "# Calculando estimativa intervalar da PORCENTAGEM de germinação para sementes armazenadas por QUINZE dias\n",
        "intervalo_quinze_dias = 2 * np.sqrt(medidas_descritivas[\"15\"][\"Variancia\"]/16)\n",
        "\n",
        "# Calculando Limite inferior para sementes 5 dias\n",
        "lim_inf_15 = medidas_descritivas[\"15\"][\"Media\"] - intervalo_quinze_dias\n",
        "lim_inf_15 = lim_inf_15.round(2)\n",
        "\n",
        "# Calculando Limite superior para sementes 5 dias\n",
        "lim_sup_15 = medidas_descritivas[\"15\"][\"Media\"] + intervalo_quinze_dias\n",
        "lim_sup_15 = lim_sup_15.round(2)"
      ],
      "execution_count": 46,
      "outputs": []
    },
    {
      "cell_type": "code",
      "metadata": {
        "id": "I2l8hV5BCfQM",
        "colab": {
          "base_uri": "https://localhost:8080/"
        },
        "outputId": "e0fcb231-b7aa-4de1-e83a-60ae9f973853"
      },
      "source": [
        "print(\"O Intervalo de confiança de 95% para as sementes armazenadas por 0 dias é de (\" + str(lim_inf_0) + \", \" + str(lim_sup_0) + \").\")\n",
        "print(\"O Intervalo de confiança de 95% para as sementes armazenadas por 5 dias é de (\" + str(lim_inf_5) + \", \" + str(lim_sup_5) + \").\")\n",
        "print(\"O Intervalo de confiança de 95% para as sementes armazenadas por 10 dias é de (\" + str(lim_inf_10) + \", \" + str(lim_sup_10) + \").\")\n",
        "print(\"O Intervalo de confiança de 95% para as sementes armazenadas por 15 dias é de (\" + str(lim_inf_15) + \", \" + str(lim_sup_15) + \").\")"
      ],
      "execution_count": 47,
      "outputs": [
        {
          "output_type": "stream",
          "text": [
            "O Intervalo de confiança de 95% para as sementes armazenadas por 0 dias é de (62.5, 75.0).\n",
            "O Intervalo de confiança de 95% para as sementes armazenadas por 5 dias é de (55.28, 69.72).\n",
            "O Intervalo de confiança de 95% para as sementes armazenadas por 10 dias é de (64.79, 85.21).\n",
            "O Intervalo de confiança de 95% para as sementes armazenadas por 15 dias é de (64.79, 85.21).\n"
          ],
          "name": "stdout"
        }
      ]
    },
    {
      "cell_type": "markdown",
      "metadata": {
        "id": "hKv9ueDI3u2K"
      },
      "source": [
        "#### Calculando a estimativa intervalar para todos os produtos"
      ]
    },
    {
      "cell_type": "markdown",
      "metadata": {
        "id": "blLs5RhTF7cZ"
      },
      "source": [
        "Não faz sentido calcular intervalo de confiança para as sementes Controle e do tipo A uma vez que a variância é zero."
      ]
    },
    {
      "cell_type": "code",
      "metadata": {
        "id": "mDHCLP32rrvt"
      },
      "source": [
        "# Calculando estimativa intervalar da PORCENTAGEM de germinação para as sementes do tipo B \n",
        "intervalo_B = 2 * np.sqrt(medidas_T_descritivas[\"B\"][\"Variancia\"]/16)\n",
        "\n",
        "# Calculando Limite inferior para sementes do tipo B\n",
        "lim_inf_B = medidas_T_descritivas[\"B\"][\"Media\"] - intervalo_B\n",
        "lim_inf_B = lim_inf_B.round(2)\n",
        "\n",
        "# Calculando Limite superior para sementes do tipo B\n",
        "lim_sup_B = medidas_T_descritivas[\"B\"][\"Media\"] + intervalo_B\n",
        "lim_sup_B = lim_sup_B.round(2)"
      ],
      "execution_count": 48,
      "outputs": []
    },
    {
      "cell_type": "code",
      "metadata": {
        "id": "P0ZE7RN8rsby"
      },
      "source": [
        "# Calculando estimativa intervalar da PORCENTAGEM de germinação para as sementes do tipo C \n",
        "intervalo_C = 2 * np.sqrt(medidas_T_descritivas[\"C\"][\"Variancia\"]/16)\n",
        "\n",
        "# Calculando Limite inferior para sementes do tipo C\n",
        "lim_inf_C = medidas_T_descritivas[\"C\"][\"Media\"] - intervalo_C\n",
        "lim_inf_C = lim_inf_C.round(2)\n",
        "\n",
        "# Calculando Limite superior para sementes do tipo C\n",
        "lim_sup_C = medidas_T_descritivas[\"C\"][\"Media\"] + intervalo_C\n",
        "lim_sup_C = lim_sup_C.round(2)"
      ],
      "execution_count": 49,
      "outputs": []
    },
    {
      "cell_type": "code",
      "metadata": {
        "id": "QkyJYuRYCG2f",
        "colab": {
          "base_uri": "https://localhost:8080/"
        },
        "outputId": "a26d79f5-e674-4f35-94d9-b42edd35cbd1"
      },
      "source": [
        "print(\"O Intervalo de confiança de 95% para as sementes do tipo B é de (\" + str(lim_inf_B) + \", \" + str(lim_sup_B) + \").\")\n",
        "print(\"O Intervalo de confiança de 95% para as sementes do tipo C é de (\" + str(lim_inf_C) + \", \" + str(lim_sup_C) + \").\")"
      ],
      "execution_count": 50,
      "outputs": [
        {
          "output_type": "stream",
          "text": [
            "O Intervalo de confiança de 95% para as sementes do tipo B é de (80.28, 94.72).\n",
            "O Intervalo de confiança de 95% para as sementes do tipo C é de (62.5, 75.0).\n"
          ],
          "name": "stdout"
        }
      ]
    },
    {
      "cell_type": "markdown",
      "metadata": {
        "id": "21MwD3XmA-Sz"
      },
      "source": [
        "#### Calculando a estimativa intervalar para todas as amostras"
      ]
    },
    {
      "cell_type": "code",
      "metadata": {
        "colab": {
          "base_uri": "https://localhost:8080/"
        },
        "id": "uDULRfHn4YtK",
        "outputId": "ad057111-8ff8-49ef-9d20-52f2982830c9"
      },
      "source": [
        "total_germinadas_decimal = total_germinadas_prop / 100\n",
        "total_germinadas_decimal"
      ],
      "execution_count": 51,
      "outputs": [
        {
          "output_type": "execute_result",
          "data": {
            "text/plain": [
              "0.703125"
            ]
          },
          "metadata": {
            "tags": []
          },
          "execution_count": 51
        }
      ]
    },
    {
      "cell_type": "code",
      "metadata": {
        "colab": {
          "base_uri": "https://localhost:8080/"
        },
        "id": "xonGbnm--6yI",
        "outputId": "e3c46ee1-1a79-4454-ab40-6eb668200d8a"
      },
      "source": [
        "var_germinadas = total_germinadas_decimal * (1 - total_germinadas_decimal) * 100\n",
        "# Calculando estimativa intervalar da PORCENTAGEM de germinação para as sementes Controle tratadas após ZERO dias\n",
        "intervalo_zero_dias = 2 * np.sqrt(var_germinadas/64)\n",
        "\n",
        "# Calculando Limite inferior para sementes Controle em 0 dias\n",
        "lim_inf_germinadas = total_germinadas_prop - intervalo_zero_dias\n",
        "lim_inf_germinadas = lim_inf_germinadas.round(2)\n",
        "\n",
        "# Calculando Limite superior para sementes Controle em 0 dias\n",
        "lim_sup_germinadas = total_germinadas_prop + intervalo_zero_dias\n",
        "lim_sup_germinadas = lim_sup_germinadas.round(2)\n",
        "\n",
        "print(\"O Intervalo de confiança de 95% para todas as 64 sementes da amostra foi de (\" + str(lim_inf_germinadas) + \", \" + str(lim_sup_germinadas) + \").\")"
      ],
      "execution_count": 52,
      "outputs": [
        {
          "output_type": "stream",
          "text": [
            "O Intervalo de confiança de 95% para todas as 64 sementes da amostra foi de (69.17, 71.45).\n"
          ],
          "name": "stdout"
        }
      ]
    },
    {
      "cell_type": "markdown",
      "metadata": {
        "id": "AdVHN-rrl5sE"
      },
      "source": [
        "#### **Resumindo**"
      ]
    },
    {
      "cell_type": "code",
      "metadata": {
        "colab": {
          "base_uri": "https://localhost:8080/"
        },
        "id": "DDLM-6sAjHdK",
        "outputId": "564e0837-713c-46a0-dd99-97f717f65d7c"
      },
      "source": [
        "table = [['Tipo de tratamento', 'Controle', 'A', 'B', 'C'],\n",
        "         ['Dias pós-tratamento'], \n",
        "         [0, '(' + str(lim_inf_0_contr) + ', ' + str(lim_sup_0_contr) + ')', '(' + str(lim_inf_A0) + ', ' + str(lim_sup_A0) + ')', '(' + str(lim_inf_B0) + ', ' + str(lim_sup_B0) + ')', '(' + str(lim_inf_C0) + ', ' + str(lim_sup_C0) + ')'], \n",
        "         [5, '(' + str(lim_inf_5_contr) + ', ' + str(lim_sup_5_contr) + ')', '(' + str(lim_inf_A5) + ', ' + str(lim_sup_A5) + ')','(' + str(lim_inf_B5) + ', ' + str(lim_sup_B5) + ')', '(' + str(lim_inf_C5) + ', ' + str(lim_sup_C5) + ')'], \n",
        "         [10, '(' + str(lim_inf_10_contr) + ', ' + str(lim_sup_10_contr) + ')', '(' + str(lim_inf_A10) + ', ' + str(lim_sup_A10) + ')',\"-\", '(' + str(lim_inf_C10) + ', ' + str(lim_sup_C10) + ')'],\n",
        "         [15, '(' + str(lim_inf_15_contr) + ', ' + str(lim_sup_15_contr) + ')', '(' + str(lim_inf_A15) + ', ' + str(lim_sup_A15) + ')',\"-\", '(' + str(lim_inf_C15) + ', ' + str(lim_sup_C15) + ')']]\n",
        "print(tabulate(table, headers='firstrow', tablefmt='fancy_grid', numalign=\"center\"))"
      ],
      "execution_count": 53,
      "outputs": [
        {
          "output_type": "stream",
          "text": [
            "╒══════════════════════╤════════════════╤══════════════╤════════════════╤════════════════╕\n",
            "│ Tipo de tratamento   │ Controle       │ A            │ B              │ C              │\n",
            "╞══════════════════════╪════════════════╪══════════════╪════════════════╪════════════════╡\n",
            "│ Dias pós-tratamento  │                │              │                │                │\n",
            "├──────────────────────┼────────────────┼──────────────┼────────────────┼────────────────┤\n",
            "│ 0                    │ (70.67, 79.33) │ (45.0, 55.0) │ (70.67, 79.33) │ (70.67, 79.33) │\n",
            "├──────────────────────┼────────────────┼──────────────┼────────────────┼────────────────┤\n",
            "│ 5                    │ (70.67, 79.33) │ (45.0, 55.0) │ (70.67, 79.33) │ (45.0, 55.0)   │\n",
            "├──────────────────────┼────────────────┼──────────────┼────────────────┼────────────────┤\n",
            "│ 10                   │ (70.67, 79.33) │ (45.0, 55.0) │ -              │ (70.67, 79.33) │\n",
            "├──────────────────────┼────────────────┼──────────────┼────────────────┼────────────────┤\n",
            "│ 15                   │ (70.67, 79.33) │ (45.0, 55.0) │ -              │ (70.67, 79.33) │\n",
            "╘══════════════════════╧════════════════╧══════════════╧════════════════╧════════════════╛\n"
          ],
          "name": "stdout"
        }
      ]
    },
    {
      "cell_type": "code",
      "metadata": {
        "colab": {
          "base_uri": "https://localhost:8080/"
        },
        "id": "giSjTXAObOyi",
        "outputId": "6386d747-0622-4f67-d9b3-b5f44da7515d"
      },
      "source": [
        "table = [['Dias pós-tratamento', 'Intervalo de confiança'], \n",
        "         [0, '(' + str(lim_inf_0) + ', ' + str(lim_sup_0) + ')'], \n",
        "         [5, '(' + str(lim_inf_5) + ', ' + str(lim_sup_5) + ')'], \n",
        "         [10, '(' + str(lim_inf_10) + ', ' + str(lim_sup_10) + ')'],\n",
        "         [15, '(' + str(lim_inf_15) + ', ' + str(lim_sup_15) + ')']]\n",
        "print(tabulate(table, headers='firstrow', tablefmt='fancy_grid'))"
      ],
      "execution_count": 54,
      "outputs": [
        {
          "output_type": "stream",
          "text": [
            "╒═══════════════════════╤══════════════════════════╕\n",
            "│   Dias pós-tratamento │ Intervalo de confiança   │\n",
            "╞═══════════════════════╪══════════════════════════╡\n",
            "│                     0 │ (62.5, 75.0)             │\n",
            "├───────────────────────┼──────────────────────────┤\n",
            "│                     5 │ (55.28, 69.72)           │\n",
            "├───────────────────────┼──────────────────────────┤\n",
            "│                    10 │ (64.79, 85.21)           │\n",
            "├───────────────────────┼──────────────────────────┤\n",
            "│                    15 │ (64.79, 85.21)           │\n",
            "╘═══════════════════════╧══════════════════════════╛\n"
          ],
          "name": "stdout"
        }
      ]
    },
    {
      "cell_type": "code",
      "metadata": {
        "colab": {
          "base_uri": "https://localhost:8080/"
        },
        "id": "eCKQjvpq71SA",
        "outputId": "2e0db604-4685-4ab8-de6c-063f43e34ae3"
      },
      "source": [
        "table = [['Tipo de tratamento', 'Intervalo de confiança'],\n",
        "         ['Controle', '-'],\n",
        "         ['A', '-'],\n",
        "         [\"B\", '(' + str(lim_inf_B) + ', ' + str(lim_sup_B) + ')'],\n",
        "         [\"C\", '(' + str(lim_inf_C) + ', ' + str(lim_sup_C) + ')']]\n",
        "print(tabulate(table, headers='firstrow', tablefmt='fancy_grid', numalign=\"center\"))"
      ],
      "execution_count": 55,
      "outputs": [
        {
          "output_type": "stream",
          "text": [
            "╒══════════════════════╤══════════════════════════╕\n",
            "│ Tipo de tratamento   │ Intervalo de confiança   │\n",
            "╞══════════════════════╪══════════════════════════╡\n",
            "│ Controle             │ -                        │\n",
            "├──────────────────────┼──────────────────────────┤\n",
            "│ A                    │ -                        │\n",
            "├──────────────────────┼──────────────────────────┤\n",
            "│ B                    │ (80.28, 94.72)           │\n",
            "├──────────────────────┼──────────────────────────┤\n",
            "│ C                    │ (62.5, 75.0)             │\n",
            "╘══════════════════════╧══════════════════════════╛\n"
          ],
          "name": "stdout"
        }
      ]
    },
    {
      "cell_type": "code",
      "metadata": {
        "colab": {
          "base_uri": "https://localhost:8080/"
        },
        "id": "s3Ma373olmAi",
        "outputId": "70f8a444-bc3b-441b-ef7d-60fb3d19c418"
      },
      "source": [
        "table = [['', 'Intervalo de confiança'],\n",
        "         [\"Amostra\", '(' + str(lim_inf_germinadas) + ', ' + str(lim_sup_germinadas) + ')']]\n",
        "print(tabulate(table, headers='firstrow', tablefmt='fancy_grid', numalign=\"center\"))"
      ],
      "execution_count": 56,
      "outputs": [
        {
          "output_type": "stream",
          "text": [
            "╒═════════╤══════════════════════════╕\n",
            "│         │ Intervalo de confiança   │\n",
            "╞═════════╪══════════════════════════╡\n",
            "│ Amostra │ (69.17, 71.45)           │\n",
            "╘═════════╧══════════════════════════╛\n"
          ],
          "name": "stdout"
        }
      ]
    },
    {
      "cell_type": "markdown",
      "metadata": {
        "id": "08OWZqhN9MzD"
      },
      "source": [
        "#### Gráficos dos intervalos de confiança"
      ]
    },
    {
      "cell_type": "code",
      "metadata": {
        "colab": {
          "base_uri": "https://localhost:8080/",
          "height": 708
        },
        "id": "Q8RSqLURUa0V",
        "outputId": "4b2d7af3-51d2-42a8-d517-ca07a67241e6"
      },
      "source": [
        "plt.figure(figsize=(18, 12))\n",
        "\n",
        "# Plotando os intervalos de confiança e pontos médios:\n",
        "# Para 0 dias\n",
        "plt.subplot(2, 2, 1)\n",
        "plt.plot([lim_inf_0_contr, lim_sup_0_contr], [\"Controle\", \"Controle\"], linewidth=6, mew=4, marker='o', color='tab:blue')\n",
        "plt.plot([lim_inf_A0, lim_sup_A0], [\"A\", \"A\"], linewidth=6, mew=4, marker='o', color='tab:orange')\n",
        "plt.plot([lim_inf_B0, lim_sup_B0], [\"B\", \"B\"], linewidth=6, mew=4, marker='o', color='tab:green')\n",
        "plt.plot([lim_inf_C0, lim_sup_C0], [\"C\", \"C\"], linewidth=6, mew=4, marker='o', color='tab:red')\n",
        "\n",
        "plt.plot([dados_proporcao[\"0\"][\"Controle\"]], [\"Controle\"], mew=4, marker='o', color='black')\n",
        "plt.plot([dados_proporcao[\"0\"][\"A\"]], [\"A\"], mew=4, marker='o', color='black')\n",
        "plt.plot([dados_proporcao[\"0\"][\"B\"]], [\"B\"], mew=4, marker='o', color='black')\n",
        "plt.plot([dados_proporcao[\"0\"][\"C\"]], [\"C\"], mew=4, marker='o', color='black')\n",
        "\n",
        "plt.title('INTERVALO DE CONFIANÇA PARA 0 DIAS')\n",
        "plt.xlabel('Proporção germinada')\n",
        "plt.ylabel('Tipo de tratamento')\n",
        "plt.grid(True)\n",
        "\n",
        "# Para 5 dias\n",
        "plt.subplot(2, 2, 2)\n",
        "plt.plot([lim_inf_5_contr, lim_sup_5_contr], [\"Controle\", \"Controle\"], linewidth=6, mew=4, marker='o', color='tab:blue')\n",
        "plt.plot([lim_inf_A5, lim_sup_A5], [\"A\", \"A\"], linewidth=6, mew=4, marker='o', color='tab:orange')\n",
        "plt.plot([lim_inf_B5, lim_sup_B5], [\"B\", \"B\"], linewidth=6, mew=4, marker='o', color='tab:green')\n",
        "plt.plot([lim_inf_C5, lim_sup_C5], [\"C\", \"C\"], linewidth=6, mew=4, marker='o', color='tab:red')\n",
        "\n",
        "plt.plot([dados_proporcao[\"5\"][\"Controle\"]], [\"Controle\"], mew=4, marker='o', color='black')\n",
        "plt.plot([dados_proporcao[\"5\"][\"A\"]], [\"A\"], mew=4, marker='o', color='black')\n",
        "plt.plot([dados_proporcao[\"5\"][\"B\"]], [\"B\"], mew=4, marker='o', color='black')\n",
        "plt.plot([dados_proporcao[\"5\"][\"C\"]], [\"C\"], mew=4, marker='o', color='black')\n",
        "\n",
        "plt.title('INTERVALO DE CONFIANÇA PARA 5 DIAS')\n",
        "plt.xlabel('Proporção germinada')\n",
        "plt.ylabel('Tipo de tratamento')\n",
        "plt.grid(True)\n",
        "\n",
        "# Para 10 dias\n",
        "plt.subplot(2, 2, 3)\n",
        "plt.plot([lim_inf_10_contr, lim_sup_10_contr], [\"Controle\", \"Controle\"], linewidth=6, mew=4, marker='o', color='tab:blue')\n",
        "plt.plot([lim_inf_A10, lim_sup_A10], [\"A\", \"A\"], linewidth=6, mew=4, marker='o', color='tab:orange')\n",
        "plt.plot([lim_inf_C10, lim_sup_C10], [\"C\", \"C\"], linewidth=6, mew=4, marker='o', color='tab:red')\n",
        "\n",
        "plt.plot([dados_proporcao[\"10\"][\"Controle\"]], [\"Controle\"], mew=4, marker='o', color='black')\n",
        "plt.plot([dados_proporcao[\"10\"][\"A\"]], [\"A\"], mew=4, marker='o', color='black')\n",
        "plt.plot([dados_proporcao[\"10\"][\"C\"]], [\"C\"], mew=4, marker='o', color='black')\n",
        "\n",
        "plt.title('INTERVALO DE CONFIANÇA PARA 10 DIAS')\n",
        "plt.xlabel('Proporção germinada')\n",
        "plt.ylabel('Tipo de tratamento')\n",
        "plt.grid(True)\n",
        "\n",
        "# Para 15 dias\n",
        "plt.subplot(2, 2, 4)\n",
        "plt.plot([lim_inf_15_contr, lim_sup_15_contr], [\"Controle\", \"Controle\"], linewidth=6, mew=4, marker='o', color='tab:blue')\n",
        "plt.plot([lim_inf_A15, lim_sup_A15], [\"A\", \"A\"], linewidth=6, mew=4, marker='o', color='tab:orange')\n",
        "plt.plot([lim_inf_C15, lim_sup_C15], [\"C\", \"C\"], linewidth=6, mew=4, marker='o', color='tab:red')\n",
        "\n",
        "plt.plot([dados_proporcao[\"15\"][\"Controle\"]], [\"Controle\"], mew=4, marker='o', color='black')\n",
        "plt.plot([dados_proporcao[\"15\"][\"A\"]], [\"A\"], mew=4, marker='o', color='black')\n",
        "plt.plot([dados_proporcao[\"15\"][\"C\"]], [\"C\"], mew=4, marker='o', color='black')\n",
        "\n",
        "plt.title('INTERVALO DE CONFIANÇA PARA 15 DIAS')\n",
        "plt.xlabel('Proporção germinada')\n",
        "plt.ylabel('Tipo de tratamento')\n",
        "plt.grid(True)\n",
        "\n",
        "plt.show()"
      ],
      "execution_count": 57,
      "outputs": [
        {
          "output_type": "display_data",
          "data": {
            "image/png": "[encoded data removed]",
            "text/plain": [
              "<Figure size 1296x864 with 4 Axes>"
            ]
          },
          "metadata": {
            "tags": [],
            "needs_background": "light"
          }
        }
      ]
    },
    {
      "cell_type": "code",
      "metadata": {
        "colab": {
          "base_uri": "https://localhost:8080/",
          "height": 404
        },
        "id": "hhm68m0DDuQC",
        "outputId": "754f6d94-b21b-4d04-e4b9-617cd551075d"
      },
      "source": [
        "f, ax = plt.subplots(figsize=(8, 6))\n",
        "plt.plot([lim_inf_0, lim_sup_0], [\"0\", \"0\"], linewidth=6, mew=4, marker='o')\n",
        "plt.plot([lim_inf_5, lim_sup_5], [\"5\", \"5\"], linewidth=6, mew=4, marker='o')\n",
        "plt.plot([lim_inf_10, lim_sup_10], [\"10\", \"10\"], linewidth=6, mew=4, marker='o')\n",
        "plt.plot([lim_inf_15, lim_sup_15], [\"15\", \"15\"], linewidth=6, mew=4, marker='o')\n",
        "\n",
        "plt.plot([medidas_descritivas[\"0\"][\"Media\"]], [\"0\"], mew=4, marker='o', color='black')\n",
        "plt.plot([medidas_descritivas[\"5\"][\"Media\"]], [\"5\"], mew=4, marker='o', color='black')\n",
        "plt.plot([medidas_descritivas[\"10\"][\"Media\"]], [\"10\"], mew=4, marker='o', color='black')\n",
        "plt.plot([medidas_descritivas[\"15\"][\"Media\"]], [\"15\"], mew=4, marker='o', color='black')\n",
        "\n",
        "plt.title('INTERVALO DE CONFIANÇA PARA OS DIAS')\n",
        "plt.xlabel('Proporção germinada')\n",
        "plt.ylabel('Dias pós-tratamento')\n",
        "plt.grid(True)\n",
        "plt.show()"
      ],
      "execution_count": 58,
      "outputs": [
        {
          "output_type": "display_data",
          "data": {
            "image/png": "[encoded data removed]",
            "text/plain": [
              "<Figure size 576x432 with 1 Axes>"
            ]
          },
          "metadata": {
            "tags": [],
            "needs_background": "light"
          }
        }
      ]
    },
    {
      "cell_type": "code",
      "metadata": {
        "colab": {
          "base_uri": "https://localhost:8080/",
          "height": 295
        },
        "id": "mbccbetrFBgg",
        "outputId": "062bfcd1-5d5c-45ce-a510-0bebcdba2e65"
      },
      "source": [
        "# Plotando os intervalos de confiança\n",
        "f, ax = plt.subplots(figsize=(8, 4))\n",
        "plt.plot([lim_inf_B, lim_sup_B], [\"B\", \"B\"], linewidth=6, mew=4, marker='o')\n",
        "plt.plot([lim_inf_C, lim_sup_C], [\"C\", \"C\"], linewidth=6, mew=4, marker='o')\n",
        "\n",
        "# Plotando o ponto central\n",
        "plt.plot([medidas_T_descritivas[\"B\"][\"Media\"]], [\"B\"], mew=4, marker='o', color='black')\n",
        "plt.plot([medidas_T_descritivas[\"C\"][\"Media\"]], [\"C\"], mew=4, marker='o', color='black')\n",
        "\n",
        "plt.title('INTERVALO DE CONFIANÇA PARA OS PRODUTOS')\n",
        "plt.xlabel('Proporção germinada')\n",
        "plt.ylabel('Tipo de tratamento')\n",
        "plt.grid(True)\n",
        "plt.show()"
      ],
      "execution_count": 59,
      "outputs": [
        {
          "output_type": "display_data",
          "data": {
            "image/png": "[encoded data removed]",
            "text/plain": [
              "<Figure size 576x288 with 1 Axes>"
            ]
          },
          "metadata": {
            "tags": [],
            "needs_background": "light"
          }
        }
      ]
    },
    {
      "cell_type": "code",
      "metadata": {
        "colab": {
          "base_uri": "https://localhost:8080/",
          "height": 404
        },
        "id": "ikJL7HcgbFwY",
        "outputId": "7995c94b-ef74-489d-978b-3df0b8f10e80"
      },
      "source": [
        "f, ax = plt.subplots(figsize=(8, 6))\n",
        "plt.plot([lim_inf_germinadas, lim_sup_germinadas], [\"\", \"\"], linewidth=6, mew=4, marker='o')\n",
        "\n",
        "plt.plot(total_germinadas, [\"\"], mew=4, marker='o', color='black')\n",
        "\n",
        "plt.title('INTERVALO DE CONFIANÇA DE TODA A AMOSTRA')\n",
        "plt.xlabel('Proporção germinada')\n",
        "plt.ylabel('Amostra')\n",
        "plt.grid(True)\n",
        "plt.show()"
      ],
      "execution_count": 60,
      "outputs": [
        {
          "output_type": "display_data",
          "data": {
            "image/png": "[encoded data removed]",
            "text/plain": [
              "<Figure size 576x432 with 1 Axes>"
            ]
          },
          "metadata": {
            "tags": [],
            "needs_background": "light"
          }
        }
      ]
    },
    {
      "cell_type": "markdown",
      "metadata": {
        "id": "RuJgs_2mARj5"
      },
      "source": [
        "#### Calculando o **Epsilon**"
      ]
    },
    {
      "cell_type": "code",
      "metadata": {
        "colab": {
          "base_uri": "https://localhost:8080/",
          "height": 206
        },
        "id": "58neB6ui7w87",
        "outputId": "5968142a-0219-41b3-adbb-d378ea03d2a4"
      },
      "source": [
        "# Utilizando a margem de erro para calcular o epsilon do tamanho amostral\n",
        "epsilons = margem_erro.copy()\n",
        "\n",
        "# Calculando a variância de cada amostra de determinado dia e tipo de tratamento\n",
        "for dia, tipos in epsilons.iteritems():\n",
        "  for tratamento, valor in tipos.iteritems():\n",
        "    epsilons[dia][tratamento] = round(2 * np.sqrt(valor/4), 2)\n",
        "epsilons"
      ],
      "execution_count": 61,
      "outputs": [
        {
          "output_type": "execute_result",
          "data": {
            "text/html": [
              "<div>\n",
              "<style scoped>\n",
              "    .dataframe tbody tr th:only-of-type {\n",
              "        vertical-align: middle;\n",
              "    }\n",
              "\n",
              "    .dataframe tbody tr th {\n",
              "        vertical-align: top;\n",
              "    }\n",
              "\n",
              "    .dataframe thead th {\n",
              "        text-align: right;\n",
              "    }\n",
              "</style>\n",
              "<table border=\"1\" class=\"dataframe\">\n",
              "  <thead>\n",
              "    <tr style=\"text-align: right;\">\n",
              "      <th>Dias de Armazenamento</th>\n",
              "      <th>0</th>\n",
              "      <th>5</th>\n",
              "      <th>10</th>\n",
              "      <th>15</th>\n",
              "    </tr>\n",
              "    <tr>\n",
              "      <th>Tipo de Tratamento</th>\n",
              "      <th></th>\n",
              "      <th></th>\n",
              "      <th></th>\n",
              "      <th></th>\n",
              "    </tr>\n",
              "  </thead>\n",
              "  <tbody>\n",
              "    <tr>\n",
              "      <th>Controle</th>\n",
              "      <td>4.33</td>\n",
              "      <td>4.33</td>\n",
              "      <td>4.33</td>\n",
              "      <td>4.33</td>\n",
              "    </tr>\n",
              "    <tr>\n",
              "      <th>A</th>\n",
              "      <td>5.00</td>\n",
              "      <td>5.00</td>\n",
              "      <td>5.00</td>\n",
              "      <td>5.00</td>\n",
              "    </tr>\n",
              "    <tr>\n",
              "      <th>B</th>\n",
              "      <td>4.33</td>\n",
              "      <td>4.33</td>\n",
              "      <td>0.00</td>\n",
              "      <td>0.00</td>\n",
              "    </tr>\n",
              "    <tr>\n",
              "      <th>C</th>\n",
              "      <td>4.33</td>\n",
              "      <td>5.00</td>\n",
              "      <td>4.33</td>\n",
              "      <td>4.33</td>\n",
              "    </tr>\n",
              "  </tbody>\n",
              "</table>\n",
              "</div>"
            ],
            "text/plain": [
              "Dias de Armazenamento     0     5    10    15\n",
              "Tipo de Tratamento                           \n",
              "Controle               4.33  4.33  4.33  4.33\n",
              "A                      5.00  5.00  5.00  5.00\n",
              "B                      4.33  4.33  0.00  0.00\n",
              "C                      4.33  5.00  4.33  4.33"
            ]
          },
          "metadata": {
            "tags": []
          },
          "execution_count": 61
        }
      ]
    },
    {
      "cell_type": "code",
      "metadata": {
        "colab": {
          "base_uri": "https://localhost:8080/"
        },
        "id": "cAs41hyFsr0D",
        "outputId": "dd972f58-d020-4e80-e22a-e6eb962690b0"
      },
      "source": [
        "print(tabulate(epsilons, headers='keys', tablefmt='fancy_grid', numalign=\"center\"))"
      ],
      "execution_count": 62,
      "outputs": [
        {
          "output_type": "stream",
          "text": [
            "╒══════════════════════╤══════╤══════╤══════╤══════╕\n",
            "│ Tipo de Tratamento   │  0   │  5   │  10  │  15  │\n",
            "╞══════════════════════╪══════╪══════╪══════╪══════╡\n",
            "│ Controle             │ 4.33 │ 4.33 │ 4.33 │ 4.33 │\n",
            "├──────────────────────┼──────┼──────┼──────┼──────┤\n",
            "│ A                    │  5   │  5   │  5   │  5   │\n",
            "├──────────────────────┼──────┼──────┼──────┼──────┤\n",
            "│ B                    │ 4.33 │ 4.33 │  0   │  0   │\n",
            "├──────────────────────┼──────┼──────┼──────┼──────┤\n",
            "│ C                    │ 4.33 │  5   │ 4.33 │ 4.33 │\n",
            "╘══════════════════════╧══════╧══════╧══════╧══════╛\n"
          ],
          "name": "stdout"
        }
      ]
    },
    {
      "cell_type": "code",
      "metadata": {
        "id": "MANIZuHBDFPl"
      },
      "source": [
        "# Margem de erro definida através do tamanho amostral para:\n",
        "# 0 dias\n",
        "\n",
        "epsilon0 = 2*np.sqrt(medidas_descritivas[\"0\"][\"Variancia\"]/16)\n",
        "# 5 dias\n",
        "epsilon5 = 2*np.sqrt(medidas_descritivas[\"5\"][\"Variancia\"]/16)\n",
        "epsilon5 = epsilon5.round(2)\n",
        "# 10 dias\n",
        "epsilon10 = 2*np.sqrt(medidas_descritivas[\"10\"][\"Variancia\"]/16)\n",
        "epsilon10 = epsilon10.round(2)\n",
        "# 15 dias\n",
        "epsilon15 = 2*np.sqrt(medidas_descritivas[\"15\"][\"Variancia\"]/16)\n",
        "epsilon15 = epsilon15.round(2)"
      ],
      "execution_count": 63,
      "outputs": []
    },
    {
      "cell_type": "code",
      "metadata": {
        "id": "7VdOnjrQFJ-I",
        "colab": {
          "base_uri": "https://localhost:8080/"
        },
        "outputId": "77ce9c33-d2d3-46a1-a057-47d48d56f241"
      },
      "source": [
        "print(\"A margem de erro para 0 dias, obtida através do tamanho amostral definido, é \" + str(epsilon0) + \"%\")\n",
        "print(\"A margem de erro para 5 dias, obtida através do tamanho amostral definido, é \" + str(epsilon5) + \"%\")\n",
        "print(\"A margem de erro para 10 dias, obtida através do tamanho amostral definido, é \" + str(epsilon10) + \"%\")\n",
        "print(\"A margem de erro para 15 dias, obtida através do tamanho amostral definido, é \" + str(epsilon15) + \"%\")"
      ],
      "execution_count": 64,
      "outputs": [
        {
          "output_type": "stream",
          "text": [
            "A margem de erro para 0 dias, obtida através do tamanho amostral definido, é 6.25%\n",
            "A margem de erro para 5 dias, obtida através do tamanho amostral definido, é 7.22%\n",
            "A margem de erro para 10 dias, obtida através do tamanho amostral definido, é 10.21%\n",
            "A margem de erro para 15 dias, obtida através do tamanho amostral definido, é 10.21%\n"
          ],
          "name": "stdout"
        }
      ]
    },
    {
      "cell_type": "code",
      "metadata": {
        "colab": {
          "base_uri": "https://localhost:8080/"
        },
        "id": "f2IhAhZX58U8",
        "outputId": "4979a1b6-c47d-4991-f168-79f9a05cc284"
      },
      "source": [
        "from tabulate import tabulate\n",
        "table = [['Dias pós-tratamento', 'Margem de erro'], \n",
        "         [\"0 dias\", str(epsilon0) + ' %'], \n",
        "         [\"5 dias\", str(epsilon5) + ' %'], \n",
        "         [\"10 dias\", str(epsilon10) + ' %'],\n",
        "         [\"15 dias\", str(epsilon15) + ' %']]\n",
        "print(tabulate(table, headers='firstrow', tablefmt='fancy_grid'))"
      ],
      "execution_count": 65,
      "outputs": [
        {
          "output_type": "stream",
          "text": [
            "╒═══════════════════════╤══════════════════╕\n",
            "│ Dias pós-tratamento   │ Margem de erro   │\n",
            "╞═══════════════════════╪══════════════════╡\n",
            "│ 0 dias                │ 6.25 %           │\n",
            "├───────────────────────┼──────────────────┤\n",
            "│ 5 dias                │ 7.22 %           │\n",
            "├───────────────────────┼──────────────────┤\n",
            "│ 10 dias               │ 10.21 %          │\n",
            "├───────────────────────┼──────────────────┤\n",
            "│ 15 dias               │ 10.21 %          │\n",
            "╘═══════════════════════╧══════════════════╛\n"
          ],
          "name": "stdout"
        }
      ]
    },
    {
      "cell_type": "code",
      "metadata": {
        "id": "5KFJ0nQbu0TM"
      },
      "source": [
        "# Margem de erro definida através do tamanho amostral para:\n",
        "# 10 dias\n",
        "epsilon_B = 2*np.sqrt(medidas_T_descritivas[\"B\"][\"Variancia\"]/16)\n",
        "epsilon_B = epsilon_B.round(2)\n",
        "# 15 dias\n",
        "epsilon_C = 2*np.sqrt(medidas_T_descritivas[\"C\"][\"Variancia\"]/16)\n",
        "epsilon_C = epsilon_C.round(2)"
      ],
      "execution_count": 66,
      "outputs": []
    },
    {
      "cell_type": "code",
      "metadata": {
        "colab": {
          "base_uri": "https://localhost:8080/"
        },
        "id": "CnOdOeMJvXFf",
        "outputId": "c20a5997-a691-4635-bb3a-cf8a4b464d52"
      },
      "source": [
        "table = [['Tipo de tratamento', 'Margem de erro'], \n",
        "         [\"Controle\", \"-\"], \n",
        "         [\"A\", \"-\"], \n",
        "         [\"B\", str(epsilon_B) + ' %'],\n",
        "         [\"C\", str(epsilon_C) + ' %']]\n",
        "print(tabulate(table, headers='firstrow', tablefmt='fancy_grid'))"
      ],
      "execution_count": 67,
      "outputs": [
        {
          "output_type": "stream",
          "text": [
            "╒══════════════════════╤══════════════════╕\n",
            "│ Tipo de tratamento   │ Margem de erro   │\n",
            "╞══════════════════════╪══════════════════╡\n",
            "│ Controle             │ -                │\n",
            "├──────────────────────┼──────────────────┤\n",
            "│ A                    │ -                │\n",
            "├──────────────────────┼──────────────────┤\n",
            "│ B                    │ 7.22 %           │\n",
            "├──────────────────────┼──────────────────┤\n",
            "│ C                    │ 6.25 %           │\n",
            "╘══════════════════════╧══════════════════╛\n"
          ],
          "name": "stdout"
        }
      ]
    },
    {
      "cell_type": "code",
      "metadata": {
        "id": "-UY7K6hspmk8"
      },
      "source": [
        "epsilon_amostra = 2*np.sqrt(var_germinadas/64)\n",
        "epsilon_amostra = epsilon_amostra.round(2)"
      ],
      "execution_count": 68,
      "outputs": []
    },
    {
      "cell_type": "code",
      "metadata": {
        "colab": {
          "base_uri": "https://localhost:8080/"
        },
        "id": "4UlHIinKwVKj",
        "outputId": "15ba1c26-fefc-421c-fcd2-4df676f1ec56"
      },
      "source": [
        "table = [['', 'Margem de erro'],\n",
        "         [\"Amostra\", str(epsilon_amostra) + ' %']]\n",
        "print(tabulate(table, headers='firstrow', tablefmt='fancy_grid', numalign=\"center\"))"
      ],
      "execution_count": 69,
      "outputs": [
        {
          "output_type": "stream",
          "text": [
            "╒═════════╤══════════════════╕\n",
            "│         │ Margem de erro   │\n",
            "╞═════════╪══════════════════╡\n",
            "│ Amostra │ 1.14 %           │\n",
            "╘═════════╧══════════════════╛\n"
          ],
          "name": "stdout"
        }
      ]
    },
    {
      "cell_type": "markdown",
      "metadata": {
        "id": "IvuDr0Dp50OH"
      },
      "source": [
        "### Análise Bivariada"
      ]
    },
    {
      "cell_type": "markdown",
      "metadata": {
        "id": "P4thCTrmDenh"
      },
      "source": [
        "#### Construindo Tabela de Contingência"
      ]
    },
    {
      "cell_type": "code",
      "metadata": {
        "id": "xaafYhjPwK4u"
      },
      "source": [
        "# Construindo Tabela de Contigência entre DIAS PÓS-TRATAMENTO e TIPO DE TRATAMENTO\n",
        "tabela_contingencia = dados_germinacao.copy()\n",
        "tabela_contingencia.loc['Total'] = tabela_contingencia.sum(axis=0).astype(int)\n",
        "tabela_contingencia['Total'] = tabela_contingencia.sum(axis=1).astype(int)"
      ],
      "execution_count": 70,
      "outputs": []
    },
    {
      "cell_type": "code",
      "metadata": {
        "colab": {
          "base_uri": "https://localhost:8080/",
          "height": 237
        },
        "id": "wDm417G07yfJ",
        "outputId": "fd66987c-a898-4480-defe-ae83fb854fd2"
      },
      "source": [
        "tabela_contingencia.head()"
      ],
      "execution_count": 71,
      "outputs": [
        {
          "output_type": "execute_result",
          "data": {
            "text/html": [
              "<div>\n",
              "<style scoped>\n",
              "    .dataframe tbody tr th:only-of-type {\n",
              "        vertical-align: middle;\n",
              "    }\n",
              "\n",
              "    .dataframe tbody tr th {\n",
              "        vertical-align: top;\n",
              "    }\n",
              "\n",
              "    .dataframe thead th {\n",
              "        text-align: right;\n",
              "    }\n",
              "</style>\n",
              "<table border=\"1\" class=\"dataframe\">\n",
              "  <thead>\n",
              "    <tr style=\"text-align: right;\">\n",
              "      <th>Dias de Armazenamento</th>\n",
              "      <th>0</th>\n",
              "      <th>5</th>\n",
              "      <th>10</th>\n",
              "      <th>15</th>\n",
              "      <th>Total</th>\n",
              "    </tr>\n",
              "    <tr>\n",
              "      <th>Tipo de Tratamento</th>\n",
              "      <th></th>\n",
              "      <th></th>\n",
              "      <th></th>\n",
              "      <th></th>\n",
              "      <th></th>\n",
              "    </tr>\n",
              "  </thead>\n",
              "  <tbody>\n",
              "    <tr>\n",
              "      <th>Controle</th>\n",
              "      <td>3</td>\n",
              "      <td>3</td>\n",
              "      <td>3</td>\n",
              "      <td>3</td>\n",
              "      <td>12</td>\n",
              "    </tr>\n",
              "    <tr>\n",
              "      <th>A</th>\n",
              "      <td>2</td>\n",
              "      <td>2</td>\n",
              "      <td>2</td>\n",
              "      <td>2</td>\n",
              "      <td>8</td>\n",
              "    </tr>\n",
              "    <tr>\n",
              "      <th>B</th>\n",
              "      <td>3</td>\n",
              "      <td>3</td>\n",
              "      <td>4</td>\n",
              "      <td>4</td>\n",
              "      <td>14</td>\n",
              "    </tr>\n",
              "    <tr>\n",
              "      <th>C</th>\n",
              "      <td>3</td>\n",
              "      <td>2</td>\n",
              "      <td>3</td>\n",
              "      <td>3</td>\n",
              "      <td>11</td>\n",
              "    </tr>\n",
              "    <tr>\n",
              "      <th>Total</th>\n",
              "      <td>11</td>\n",
              "      <td>10</td>\n",
              "      <td>12</td>\n",
              "      <td>12</td>\n",
              "      <td>45</td>\n",
              "    </tr>\n",
              "  </tbody>\n",
              "</table>\n",
              "</div>"
            ],
            "text/plain": [
              "Dias de Armazenamento   0   5  10  15  Total\n",
              "Tipo de Tratamento                          \n",
              "Controle                3   3   3   3     12\n",
              "A                       2   2   2   2      8\n",
              "B                       3   3   4   4     14\n",
              "C                       3   2   3   3     11\n",
              "Total                  11  10  12  12     45"
            ]
          },
          "metadata": {
            "tags": []
          },
          "execution_count": 71
        }
      ]
    },
    {
      "cell_type": "code",
      "metadata": {
        "id": "Kz8DqgEt6YJP"
      },
      "source": [
        "# Segmentando com base na variável TIPO DE TRATAMENTO\n",
        "# Criando DataFrame para porcentagem de sementes germinadas do ttotal\n",
        "tratamento_germinadas = pd.DataFrame(columns = [\"Porcentagem do Total de Germinadas\"])\n",
        "\n",
        "# Coletando o número total de sementes germinadas\n",
        "total_germinadas = tabela_contingencia.loc['Total']['Total']\n",
        "\n",
        "# Calculando porcentagem do número total de sementes germinadas em cada tipo de tratamento\n",
        "tratamento_germinadas[\"Porcentagem do Total de Germinadas\"] = 100 *  tabela_contingencia['Total'][:4] / total_germinadas\n",
        "\n",
        "# Arredondando porcentagens em 3 casas decimais\n",
        "tratamento_germinadas = round(tratamento_germinadas, 3)"
      ],
      "execution_count": 72,
      "outputs": []
    },
    {
      "cell_type": "code",
      "metadata": {
        "colab": {
          "base_uri": "https://localhost:8080/",
          "height": 206
        },
        "id": "yzgupgsqsv3J",
        "outputId": "cf3e51b8-8c90-4b63-dc3e-dd62aed6ae09"
      },
      "source": [
        "tratamento_germinadas.head()"
      ],
      "execution_count": 73,
      "outputs": [
        {
          "output_type": "execute_result",
          "data": {
            "text/html": [
              "<div>\n",
              "<style scoped>\n",
              "    .dataframe tbody tr th:only-of-type {\n",
              "        vertical-align: middle;\n",
              "    }\n",
              "\n",
              "    .dataframe tbody tr th {\n",
              "        vertical-align: top;\n",
              "    }\n",
              "\n",
              "    .dataframe thead th {\n",
              "        text-align: right;\n",
              "    }\n",
              "</style>\n",
              "<table border=\"1\" class=\"dataframe\">\n",
              "  <thead>\n",
              "    <tr style=\"text-align: right;\">\n",
              "      <th></th>\n",
              "      <th>Porcentagem do Total de Germinadas</th>\n",
              "    </tr>\n",
              "    <tr>\n",
              "      <th>Tipo de Tratamento</th>\n",
              "      <th></th>\n",
              "    </tr>\n",
              "  </thead>\n",
              "  <tbody>\n",
              "    <tr>\n",
              "      <th>Controle</th>\n",
              "      <td>26.667</td>\n",
              "    </tr>\n",
              "    <tr>\n",
              "      <th>A</th>\n",
              "      <td>17.778</td>\n",
              "    </tr>\n",
              "    <tr>\n",
              "      <th>B</th>\n",
              "      <td>31.111</td>\n",
              "    </tr>\n",
              "    <tr>\n",
              "      <th>C</th>\n",
              "      <td>24.444</td>\n",
              "    </tr>\n",
              "  </tbody>\n",
              "</table>\n",
              "</div>"
            ],
            "text/plain": [
              "                    Porcentagem do Total de Germinadas\n",
              "Tipo de Tratamento                                    \n",
              "Controle                                        26.667\n",
              "A                                               17.778\n",
              "B                                               31.111\n",
              "C                                               24.444"
            ]
          },
          "metadata": {
            "tags": []
          },
          "execution_count": 73
        }
      ]
    },
    {
      "cell_type": "markdown",
      "metadata": {
        "id": "4zzFqLo6Dirk"
      },
      "source": [
        "#### Visualização Por Gráfico de Pizza"
      ]
    },
    {
      "cell_type": "code",
      "metadata": {
        "colab": {
          "base_uri": "https://localhost:8080/",
          "height": 374
        },
        "id": "hnm-Ajh_7-Fw",
        "outputId": "ee7bbff4-be5d-425d-9699-d88410c9d30c"
      },
      "source": [
        "# Plotando um gráfico de pizza com a porcentagem com base no tratamento dado\n",
        "pie, ax = plt.subplots(figsize=[10,6])\n",
        "labels = list(tratamento_germinadas.index)\n",
        "plt.pie(x=np.array(tratamento_germinadas).ravel(), autopct=\"%.1f%%\", explode=[0.05]*4, labels=labels, pctdistance=0.5)\n",
        "plt.title(\"Porcentagem de Sementes Germinadas em cada Tipo de Tratamento\", fontsize=14);"
      ],
      "execution_count": 74,
      "outputs": [
        {
          "output_type": "display_data",
          "data": {
            "image/png": "[encoded data removed]",
            "text/plain": [
              "<Figure size 720x432 with 1 Axes>"
            ]
          },
          "metadata": {
            "tags": []
          }
        }
      ]
    },
    {
      "cell_type": "code",
      "metadata": {
        "id": "D5WulXoe8_2B"
      },
      "source": [
        "# Segmentando com base na variável DIAS PÓS-TRATAMENTO\n",
        "# Criando DataFrame para porcentagem de sementes germinadas do total\n",
        "dias_germinadas = pd.DataFrame(columns = [\"Porcentagem do Total de Germinadas\"])\n",
        "\n",
        "# Calculando porcentagem do número total de sementes germinadas em cada período pós-tratamento\n",
        "dias_germinadas[\"Porcentagem do Total de Germinadas\"] = 100 *  tabela_contingencia.loc['Total'][:4] / total_germinadas\n",
        "\n",
        "# Arredondando porcentagens em 3 casas decimais\n",
        "dias_germinadas = round(dias_germinadas, 3)"
      ],
      "execution_count": 75,
      "outputs": []
    },
    {
      "cell_type": "code",
      "metadata": {
        "colab": {
          "base_uri": "https://localhost:8080/",
          "height": 206
        },
        "id": "RQQKGpOZtyMv",
        "outputId": "2eb1f279-fe87-4f93-dbb8-11056cf7443a"
      },
      "source": [
        "dias_germinadas.head()"
      ],
      "execution_count": 76,
      "outputs": [
        {
          "output_type": "execute_result",
          "data": {
            "text/html": [
              "<div>\n",
              "<style scoped>\n",
              "    .dataframe tbody tr th:only-of-type {\n",
              "        vertical-align: middle;\n",
              "    }\n",
              "\n",
              "    .dataframe tbody tr th {\n",
              "        vertical-align: top;\n",
              "    }\n",
              "\n",
              "    .dataframe thead th {\n",
              "        text-align: right;\n",
              "    }\n",
              "</style>\n",
              "<table border=\"1\" class=\"dataframe\">\n",
              "  <thead>\n",
              "    <tr style=\"text-align: right;\">\n",
              "      <th></th>\n",
              "      <th>Porcentagem do Total de Germinadas</th>\n",
              "    </tr>\n",
              "    <tr>\n",
              "      <th>Dias de Armazenamento</th>\n",
              "      <th></th>\n",
              "    </tr>\n",
              "  </thead>\n",
              "  <tbody>\n",
              "    <tr>\n",
              "      <th>0</th>\n",
              "      <td>24.444</td>\n",
              "    </tr>\n",
              "    <tr>\n",
              "      <th>5</th>\n",
              "      <td>22.222</td>\n",
              "    </tr>\n",
              "    <tr>\n",
              "      <th>10</th>\n",
              "      <td>26.667</td>\n",
              "    </tr>\n",
              "    <tr>\n",
              "      <th>15</th>\n",
              "      <td>26.667</td>\n",
              "    </tr>\n",
              "  </tbody>\n",
              "</table>\n",
              "</div>"
            ],
            "text/plain": [
              "                       Porcentagem do Total de Germinadas\n",
              "Dias de Armazenamento                                    \n",
              "0                                                  24.444\n",
              "5                                                  22.222\n",
              "10                                                 26.667\n",
              "15                                                 26.667"
            ]
          },
          "metadata": {
            "tags": []
          },
          "execution_count": 76
        }
      ]
    },
    {
      "cell_type": "code",
      "metadata": {
        "colab": {
          "base_uri": "https://localhost:8080/",
          "height": 375
        },
        "id": "P9UD6gJ0uuhQ",
        "outputId": "d957430c-b498-411b-b369-520bcd960573"
      },
      "source": [
        "# Plotando um gráfico de pizza com a porcentagem com base no tratamento dado\n",
        "pie, ax = plt.subplots(figsize=[10,6])\n",
        "labels = list(dias_germinadas.index)\n",
        "plt.pie(x=np.array(dias_germinadas).ravel(), autopct=\"%.1f%%\", explode=[0.05]*4, labels=labels, pctdistance=0.5)\n",
        "plt.title(\"Porcentagem de Sementes Germinadas em cada Período de Armazenamento\", fontsize=14);"
      ],
      "execution_count": 77,
      "outputs": [
        {
          "output_type": "display_data",
          "data": {
            "image/png": "[encoded data removed]",
            "text/plain": [
              "<Figure size 720x432 with 1 Axes>"
            ]
          },
          "metadata": {
            "tags": []
          }
        }
      ]
    },
    {
      "cell_type": "markdown",
      "metadata": {
        "id": "J2oOk8sqwCWf"
      },
      "source": [
        "#### Visualização por Gráficos de Barra Acumulado"
      ]
    },
    {
      "cell_type": "code",
      "metadata": {
        "colab": {
          "base_uri": "https://localhost:8080/",
          "height": 206
        },
        "id": "Y0EbDi7G_PSX",
        "outputId": "4ea6a214-eeb4-401f-fa11-4400a046be87"
      },
      "source": [
        "#Relativizando os dados para as sementes\n",
        "bivar_sementes = dados_germinacao_T.copy()\n",
        "bivar_sementes /= list(total_tratamentos)\n",
        "bivar_sementes"
      ],
      "execution_count": 78,
      "outputs": [
        {
          "output_type": "execute_result",
          "data": {
            "text/html": [
              "<div>\n",
              "<style scoped>\n",
              "    .dataframe tbody tr th:only-of-type {\n",
              "        vertical-align: middle;\n",
              "    }\n",
              "\n",
              "    .dataframe tbody tr th {\n",
              "        vertical-align: top;\n",
              "    }\n",
              "\n",
              "    .dataframe thead th {\n",
              "        text-align: right;\n",
              "    }\n",
              "</style>\n",
              "<table border=\"1\" class=\"dataframe\">\n",
              "  <thead>\n",
              "    <tr style=\"text-align: right;\">\n",
              "      <th>Tipo de Tratamento</th>\n",
              "      <th>Controle</th>\n",
              "      <th>A</th>\n",
              "      <th>B</th>\n",
              "      <th>C</th>\n",
              "    </tr>\n",
              "    <tr>\n",
              "      <th>Dias de Armazenamento</th>\n",
              "      <th></th>\n",
              "      <th></th>\n",
              "      <th></th>\n",
              "      <th></th>\n",
              "    </tr>\n",
              "  </thead>\n",
              "  <tbody>\n",
              "    <tr>\n",
              "      <th>0</th>\n",
              "      <td>0.25</td>\n",
              "      <td>0.25</td>\n",
              "      <td>0.214286</td>\n",
              "      <td>0.272727</td>\n",
              "    </tr>\n",
              "    <tr>\n",
              "      <th>5</th>\n",
              "      <td>0.25</td>\n",
              "      <td>0.25</td>\n",
              "      <td>0.214286</td>\n",
              "      <td>0.181818</td>\n",
              "    </tr>\n",
              "    <tr>\n",
              "      <th>10</th>\n",
              "      <td>0.25</td>\n",
              "      <td>0.25</td>\n",
              "      <td>0.285714</td>\n",
              "      <td>0.272727</td>\n",
              "    </tr>\n",
              "    <tr>\n",
              "      <th>15</th>\n",
              "      <td>0.25</td>\n",
              "      <td>0.25</td>\n",
              "      <td>0.285714</td>\n",
              "      <td>0.272727</td>\n",
              "    </tr>\n",
              "  </tbody>\n",
              "</table>\n",
              "</div>"
            ],
            "text/plain": [
              "Tipo de Tratamento     Controle     A         B         C\n",
              "Dias de Armazenamento                                    \n",
              "0                          0.25  0.25  0.214286  0.272727\n",
              "5                          0.25  0.25  0.214286  0.181818\n",
              "10                         0.25  0.25  0.285714  0.272727\n",
              "15                         0.25  0.25  0.285714  0.272727"
            ]
          },
          "metadata": {
            "tags": []
          },
          "execution_count": 78
        }
      ]
    },
    {
      "cell_type": "code",
      "metadata": {
        "colab": {
          "base_uri": "https://localhost:8080/",
          "height": 300
        },
        "id": "zwAyEnNLCKLu",
        "outputId": "a0178e00-152c-498b-994d-c48d3286e404"
      },
      "source": [
        "bivar_sementes.T.reset_index().plot(\n",
        "    x = 'Tipo de Tratamento',\n",
        "    kind = 'barh',\n",
        "    stacked = True,\n",
        "    title = 'Distribuição de Sementes germinadas por Dias de Armazenamento em cada Tipo de Tratamento',\n",
        "    mark_right = True)"
      ],
      "execution_count": 82,
      "outputs": [
        {
          "output_type": "execute_result",
          "data": {
            "text/plain": [
              "<matplotlib.axes._subplots.AxesSubplot at 0x7f7b4c004a50>"
            ]
          },
          "metadata": {
            "tags": []
          },
          "execution_count": 82
        },
        {
          "output_type": "display_data",
          "data": {
            "image/png": "[encoded data removed]",
            "text/plain": [
              "<Figure size 432x288 with 1 Axes>"
            ]
          },
          "metadata": {
            "tags": [],
            "needs_background": "light"
          }
        }
      ]
    },
    {
      "cell_type": "code",
      "metadata": {
        "colab": {
          "base_uri": "https://localhost:8080/",
          "height": 206
        },
        "id": "iO_ltTbk7g-f",
        "outputId": "1ebd9484-9e78-4790-abc3-5666a31474a9"
      },
      "source": [
        "#Relativizando os dados para os dias\n",
        "bivar_dias = dados_germinacao.copy()\n",
        "bivar_dias /= list(total_dias)\n",
        "bivar_dias"
      ],
      "execution_count": 80,
      "outputs": [
        {
          "output_type": "execute_result",
          "data": {
            "text/html": [
              "<div>\n",
              "<style scoped>\n",
              "    .dataframe tbody tr th:only-of-type {\n",
              "        vertical-align: middle;\n",
              "    }\n",
              "\n",
              "    .dataframe tbody tr th {\n",
              "        vertical-align: top;\n",
              "    }\n",
              "\n",
              "    .dataframe thead th {\n",
              "        text-align: right;\n",
              "    }\n",
              "</style>\n",
              "<table border=\"1\" class=\"dataframe\">\n",
              "  <thead>\n",
              "    <tr style=\"text-align: right;\">\n",
              "      <th>Dias de Armazenamento</th>\n",
              "      <th>0</th>\n",
              "      <th>5</th>\n",
              "      <th>10</th>\n",
              "      <th>15</th>\n",
              "    </tr>\n",
              "    <tr>\n",
              "      <th>Tipo de Tratamento</th>\n",
              "      <th></th>\n",
              "      <th></th>\n",
              "      <th></th>\n",
              "      <th></th>\n",
              "    </tr>\n",
              "  </thead>\n",
              "  <tbody>\n",
              "    <tr>\n",
              "      <th>Controle</th>\n",
              "      <td>0.272727</td>\n",
              "      <td>0.3</td>\n",
              "      <td>0.250000</td>\n",
              "      <td>0.250000</td>\n",
              "    </tr>\n",
              "    <tr>\n",
              "      <th>A</th>\n",
              "      <td>0.181818</td>\n",
              "      <td>0.2</td>\n",
              "      <td>0.166667</td>\n",
              "      <td>0.166667</td>\n",
              "    </tr>\n",
              "    <tr>\n",
              "      <th>B</th>\n",
              "      <td>0.272727</td>\n",
              "      <td>0.3</td>\n",
              "      <td>0.333333</td>\n",
              "      <td>0.333333</td>\n",
              "    </tr>\n",
              "    <tr>\n",
              "      <th>C</th>\n",
              "      <td>0.272727</td>\n",
              "      <td>0.2</td>\n",
              "      <td>0.250000</td>\n",
              "      <td>0.250000</td>\n",
              "    </tr>\n",
              "  </tbody>\n",
              "</table>\n",
              "</div>"
            ],
            "text/plain": [
              "Dias de Armazenamento         0    5        10        15\n",
              "Tipo de Tratamento                                      \n",
              "Controle               0.272727  0.3  0.250000  0.250000\n",
              "A                      0.181818  0.2  0.166667  0.166667\n",
              "B                      0.272727  0.3  0.333333  0.333333\n",
              "C                      0.272727  0.2  0.250000  0.250000"
            ]
          },
          "metadata": {
            "tags": []
          },
          "execution_count": 80
        }
      ]
    },
    {
      "cell_type": "code",
      "metadata": {
        "colab": {
          "base_uri": "https://localhost:8080/",
          "height": 300
        },
        "id": "VmQ0rR_GC1oh",
        "outputId": "432c3104-624e-47e0-e61f-073b8964cc3d"
      },
      "source": [
        "bivar_dias.T.reset_index().plot(\n",
        "    x = 'Dias de Armazenamento',\n",
        "    kind = 'barh',\n",
        "    stacked = True,\n",
        "    title = 'Distribuição de Sementes germinadas por Tipo de Tratamento em cada Dia de Armazenamento',\n",
        "    mark_right = True)"
      ],
      "execution_count": 83,
      "outputs": [
        {
          "output_type": "execute_result",
          "data": {
            "text/plain": [
              "<matplotlib.axes._subplots.AxesSubplot at 0x7f7b4bf4ddd0>"
            ]
          },
          "metadata": {
            "tags": []
          },
          "execution_count": 83
        },
        {
          "output_type": "display_data",
          "data": {
            "image/png": "[encoded data removed]",
            "text/plain": [
              "<Figure size 432x288 with 1 Axes>"
            ]
          },
          "metadata": {
            "tags": [],
            "needs_background": "light"
          }
        }
      ]
    },
    {
      "cell_type": "code",
      "metadata": {
        "id": "SgIjruIzJOTR"
      },
      "source": [
        ""
      ],
      "execution_count": null,
      "outputs": []
    }
  ]
}